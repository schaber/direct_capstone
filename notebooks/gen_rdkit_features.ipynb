{
 "cells": [
  {
   "cell_type": "code",
   "execution_count": null,
   "metadata": {},
   "outputs": [],
   "source": [
    "import pandas as pd\n",
    "import numpy as np\n",
    "from rdkit import Chem\n",
    "from rdkit import DataStructs\n",
    "from rdkit import ML\n",
    "from rdkit.ML.Descriptors import MoleculeDescriptors"
   ]
  },
  {
   "cell_type": "code",
   "execution_count": null,
   "metadata": {},
   "outputs": [],
   "source": [
    "def gen_features(smiles):\n",
    "    descript_list = []\n",
    "    for desc in Chem.Descriptors.descList:\n",
    "        descript_list.append(desc[0])\n",
    "    descript_calc = ML.Descriptors.MoleculeDescriptors.MolecularDescriptorCalculator(descript_list)\n",
    "    descript_names = descript_calc.GetDescriptorNames()\n",
    "    \n",
    "    rdkit_features = np.zeros((len(smiles), len(descript_list)))\n",
    "    for i, smile in enumerate(smiles):\n",
    "        if i % 10 == 0:\n",
    "            print(\"Progress: \"+str(round(i/len(smiles)*100, 3))+'%')\n",
    "        m = Chem.MolFromSmiles(smile)\n",
    "        rdkit_features[i,:] = descript_calc.CalcDescriptors(m)\n",
    "    rdkit_features = pd.DataFrame(rdkit_features, columns=descript_names)\n",
    "    return rdkit_features"
   ]
  }
 ],
 "metadata": {
  "kernelspec": {
   "display_name": "Python 3",
   "language": "python",
   "name": "python3"
  },
  "language_info": {
   "codemirror_mode": {
    "name": "ipython",
    "version": 3
   },
   "file_extension": ".py",
   "mimetype": "text/x-python",
   "name": "python",
   "nbconvert_exporter": "python",
   "pygments_lexer": "ipython3",
   "version": "3.7.3"
  }
 },
 "nbformat": 4,
 "nbformat_minor": 2
}
