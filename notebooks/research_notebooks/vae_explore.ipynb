{
 "cells": [
  {
   "cell_type": "code",
   "execution_count": 1,
   "metadata": {},
   "outputs": [],
   "source": [
    "import os\n",
    "os.chdir('../../modules/')"
   ]
  },
  {
   "cell_type": "code",
   "execution_count": 633,
   "metadata": {},
   "outputs": [],
   "source": [
    "from util.util import *\n",
    "from util.losses import *\n",
    "from util.pred_blocks import ConvEncoder, GRUDecoder\n",
    "from likelihood_predictor import PlastPredictor\n",
    "from vae_generator import PlastVAEGen\n",
    "import torch\n",
    "import torch.nn as nn\n",
    "import torch.nn.functional as F\n",
    "from torchsummary import summary\n",
    "import pandas as pd\n",
    "import numpy as np\n",
    "import seaborn as sns\n",
    "import matplotlib.pyplot as plt\n",
    "import matplotlib.cm as cm"
   ]
  },
  {
   "cell_type": "code",
   "execution_count": 3,
   "metadata": {},
   "outputs": [],
   "source": [
    "%load_ext autoreload\n",
    "%autoreload 2\n",
    "\n",
    "import IPython.display as Disp\n",
    "np.set_printoptions(suppress=True)"
   ]
  },
  {
   "cell_type": "markdown",
   "metadata": {},
   "source": [
    "Most recent training data"
   ]
  },
  {
   "cell_type": "code",
   "execution_count": 187,
   "metadata": {},
   "outputs": [],
   "source": [
    "df = pd.read_csv('../notebooks/research_notebooks/log.txt')"
   ]
  },
  {
   "cell_type": "code",
   "execution_count": 188,
   "metadata": {},
   "outputs": [
    {
     "data": {
      "text/plain": [
       "<matplotlib.axes._subplots.AxesSubplot at 0x1b77589e10>"
      ]
     },
     "execution_count": 188,
     "metadata": {},
     "output_type": "execute_result"
    },
    {
     "data": {
      "image/png": "[encoded data removed]",
      "text/plain": [
       "<Figure size 432x288 with 1 Axes>"
      ]
     },
     "metadata": {
      "needs_background": "light"
     },
     "output_type": "display_data"
    }
   ],
   "source": [
    "df[df.data_type == 'train'].groupby('epoch').mean()['tot_loss'].plot()\n",
    "df[df.data_type == 'test'].groupby('epoch').mean()['tot_loss'].plot()"
   ]
  },
  {
   "cell_type": "code",
   "execution_count": 189,
   "metadata": {},
   "outputs": [
    {
     "data": {
      "image/png": "[encoded data removed]",
      "text/plain": [
       "<Figure size 432x288 with 1 Axes>"
      ]
     },
     "metadata": {
      "needs_background": "light"
     },
     "output_type": "display_data"
    }
   ],
   "source": [
    "df[df.data_type == 'train']['bce_loss'].plot()\n",
    "plt.show()"
   ]
  },
  {
   "cell_type": "markdown",
   "metadata": {},
   "source": [
    "Running Tests"
   ]
  },
  {
   "cell_type": "code",
   "execution_count": 757,
   "metadata": {},
   "outputs": [],
   "source": [
    "# Load Data\n",
    "pl_ll = pd.read_pickle('../database/pl_likelihoods_v1.pkl')\n",
    "org_ll = pd.read_pickle('../database/org_likelihoods_v1.pkl')\n",
    "all_data = pd.concat([pl_ll, org_ll]).to_numpy()\n",
    "test_data = pd.concat([pl_ll, org_ll]).sample(n=500).to_numpy()\n",
    "gdb_test = pd.read_pickle('../database/gdb_vae_test.pkl').to_numpy()"
   ]
  },
  {
   "cell_type": "code",
   "execution_count": 692,
   "metadata": {},
   "outputs": [],
   "source": [
    "out_smiles = []"
   ]
  },
  {
   "cell_type": "code",
   "execution_count": 758,
   "metadata": {},
   "outputs": [],
   "source": [
    "# Build Model\n",
    "max_len = 60\n",
    "pvg = PlastVAEGen(params={'MAX_LENGTH': max_len, 'N_EPOCHS': 10, 'BATCH_SIZE': 10})"
   ]
  },
  {
   "cell_type": "code",
   "execution_count": 761,
   "metadata": {
    "scrolled": true
   },
   "outputs": [
    {
     "ename": "KeyboardInterrupt",
     "evalue": "",
     "output_type": "error",
     "traceback": [
      "\u001b[0;31m---------------------------------------------------------------------------\u001b[0m",
      "\u001b[0;31mKeyboardInterrupt\u001b[0m                         Traceback (most recent call last)",
      "\u001b[0;32m<ipython-input-761-b0f6da04550c>\u001b[0m in \u001b[0;36m<module>\u001b[0;34m\u001b[0m\n\u001b[0;32m----> 1\u001b[0;31m \u001b[0mpvg\u001b[0m\u001b[0;34m.\u001b[0m\u001b[0mtrain\u001b[0m\u001b[0;34m(\u001b[0m\u001b[0msave_best\u001b[0m\u001b[0;34m=\u001b[0m\u001b[0;32mFalse\u001b[0m\u001b[0;34m,\u001b[0m \u001b[0msave_last\u001b[0m\u001b[0;34m=\u001b[0m\u001b[0;32mFalse\u001b[0m\u001b[0;34m,\u001b[0m \u001b[0mlog\u001b[0m\u001b[0;34m=\u001b[0m\u001b[0;32mFalse\u001b[0m\u001b[0;34m,\u001b[0m \u001b[0mmake_grad_gif\u001b[0m\u001b[0;34m=\u001b[0m\u001b[0;32mFalse\u001b[0m\u001b[0;34m)\u001b[0m\u001b[0;34m\u001b[0m\u001b[0;34m\u001b[0m\u001b[0m\n\u001b[0m",
      "\u001b[0;32m~/Dropbox/prg/git_repos/direct_capstone/modules/vae_generator.py\u001b[0m in \u001b[0;36mtrain\u001b[0;34m(self, save_last, save_best, log, make_grad_gif)\u001b[0m\n\u001b[1;32m    202\u001b[0m                     \u001b[0mself\u001b[0m\u001b[0;34m.\u001b[0m\u001b[0msample_loss\u001b[0m \u001b[0;34m=\u001b[0m \u001b[0mloss\u001b[0m\u001b[0;34m.\u001b[0m\u001b[0mitem\u001b[0m\u001b[0;34m(\u001b[0m\u001b[0;34m)\u001b[0m\u001b[0;34m\u001b[0m\u001b[0;34m\u001b[0m\u001b[0m\n\u001b[1;32m    203\u001b[0m                     \u001b[0mself\u001b[0m\u001b[0;34m.\u001b[0m\u001b[0mmu\u001b[0m \u001b[0;34m=\u001b[0m \u001b[0mmu\u001b[0m\u001b[0;34m\u001b[0m\u001b[0;34m\u001b[0m\u001b[0m\n\u001b[0;32m--> 204\u001b[0;31m                     \u001b[0mself\u001b[0m\u001b[0;34m.\u001b[0m\u001b[0mlogvar\u001b[0m \u001b[0;34m=\u001b[0m \u001b[0mlogvar\u001b[0m\u001b[0;34m\u001b[0m\u001b[0;34m\u001b[0m\u001b[0m\n\u001b[0m\u001b[1;32m    205\u001b[0m                 \u001b[0mloss\u001b[0m\u001b[0;34m.\u001b[0m\u001b[0mbackward\u001b[0m\u001b[0;34m(\u001b[0m\u001b[0;34m)\u001b[0m\u001b[0;34m\u001b[0m\u001b[0;34m\u001b[0m\u001b[0m\n\u001b[1;32m    206\u001b[0m                 \u001b[0;32mif\u001b[0m \u001b[0mmake_grad_gif\u001b[0m\u001b[0;34m:\u001b[0m\u001b[0;34m\u001b[0m\u001b[0;34m\u001b[0m\u001b[0m\n",
      "\u001b[0;32m~/anaconda3/lib/python3.7/site-packages/torch/tensor.py\u001b[0m in \u001b[0;36mbackward\u001b[0;34m(self, gradient, retain_graph, create_graph)\u001b[0m\n\u001b[1;32m    193\u001b[0m                 \u001b[0mproducts\u001b[0m\u001b[0;34m.\u001b[0m \u001b[0mDefaults\u001b[0m \u001b[0mto\u001b[0m\u001b[0;31m \u001b[0m\u001b[0;31m`\u001b[0m\u001b[0;31m`\u001b[0m\u001b[0;32mFalse\u001b[0m\u001b[0;31m`\u001b[0m\u001b[0;31m`\u001b[0m\u001b[0;34m.\u001b[0m\u001b[0;34m\u001b[0m\u001b[0;34m\u001b[0m\u001b[0m\n\u001b[1;32m    194\u001b[0m         \"\"\"\n\u001b[0;32m--> 195\u001b[0;31m         \u001b[0mtorch\u001b[0m\u001b[0;34m.\u001b[0m\u001b[0mautograd\u001b[0m\u001b[0;34m.\u001b[0m\u001b[0mbackward\u001b[0m\u001b[0;34m(\u001b[0m\u001b[0mself\u001b[0m\u001b[0;34m,\u001b[0m \u001b[0mgradient\u001b[0m\u001b[0;34m,\u001b[0m \u001b[0mretain_graph\u001b[0m\u001b[0;34m,\u001b[0m \u001b[0mcreate_graph\u001b[0m\u001b[0;34m)\u001b[0m\u001b[0;34m\u001b[0m\u001b[0;34m\u001b[0m\u001b[0m\n\u001b[0m\u001b[1;32m    196\u001b[0m \u001b[0;34m\u001b[0m\u001b[0m\n\u001b[1;32m    197\u001b[0m     \u001b[0;32mdef\u001b[0m \u001b[0mregister_hook\u001b[0m\u001b[0;34m(\u001b[0m\u001b[0mself\u001b[0m\u001b[0;34m,\u001b[0m \u001b[0mhook\u001b[0m\u001b[0;34m)\u001b[0m\u001b[0;34m:\u001b[0m\u001b[0;34m\u001b[0m\u001b[0;34m\u001b[0m\u001b[0m\n",
      "\u001b[0;32m~/anaconda3/lib/python3.7/site-packages/torch/autograd/__init__.py\u001b[0m in \u001b[0;36mbackward\u001b[0;34m(tensors, grad_tensors, retain_graph, create_graph, grad_variables)\u001b[0m\n\u001b[1;32m     97\u001b[0m     Variable._execution_engine.run_backward(\n\u001b[1;32m     98\u001b[0m         \u001b[0mtensors\u001b[0m\u001b[0;34m,\u001b[0m \u001b[0mgrad_tensors\u001b[0m\u001b[0;34m,\u001b[0m \u001b[0mretain_graph\u001b[0m\u001b[0;34m,\u001b[0m \u001b[0mcreate_graph\u001b[0m\u001b[0;34m,\u001b[0m\u001b[0;34m\u001b[0m\u001b[0;34m\u001b[0m\u001b[0m\n\u001b[0;32m---> 99\u001b[0;31m         allow_unreachable=True)  # allow_unreachable flag\n\u001b[0m\u001b[1;32m    100\u001b[0m \u001b[0;34m\u001b[0m\u001b[0m\n\u001b[1;32m    101\u001b[0m \u001b[0;34m\u001b[0m\u001b[0m\n",
      "\u001b[0;31mKeyboardInterrupt\u001b[0m: "
     ]
    }
   ],
   "source": [
    "pvg.train(test_data, save_best=False, save_last=False, log=False, make_grad_gif=False)"
   ]
  },
  {
   "cell_type": "markdown",
   "metadata": {},
   "source": [
    "Validating reconstruction"
   ]
  },
  {
   "cell_type": "code",
   "execution_count": 737,
   "metadata": {},
   "outputs": [
    {
     "data": {
      "text/plain": [
       "'CCCCCCCCOC(=O)C(C)(C1=CC=CC=C1)O________'"
      ]
     },
     "execution_count": 737,
     "metadata": {},
     "output_type": "execute_result"
    }
   ],
   "source": [
    "sample_smiles = []\n",
    "for i in range(pvg.sample.shape[0]):\n",
    "    smile = decode_smiles(pvg.sample[i,:,:].squeeze(0).numpy(), pvg.params['ORD_DICT'])\n",
    "    sample_smiles.append(smile)\n",
    "idx = 2\n",
    "sample_smiles[idx]"
   ]
  },
  {
   "cell_type": "code",
   "execution_count": 738,
   "metadata": {},
   "outputs": [
    {
     "data": {
      "text/plain": [
       "tensor([1., 0., 0., 0., 0., 0., 0., 0., 0., 0., 0., 0., 0., 0., 0., 0., 0., 0.,\n",
       "        0., 0., 0., 0., 0., 0., 0., 0., 0., 0., 0., 0., 0., 0., 0.])"
      ]
     },
     "execution_count": 738,
     "metadata": {},
     "output_type": "execute_result"
    }
   ],
   "source": [
    "pvg.sample[idx,:,0]"
   ]
  },
  {
   "cell_type": "code",
   "execution_count": 739,
   "metadata": {},
   "outputs": [
    {
     "data": {
      "text/plain": [
       "array([0.39436343, 0.01640011, 0.01811258, 0.0050836 , 0.01110586,\n",
       "       0.00460911, 0.07637575, 0.02201269, 0.02238353, 0.01542936,\n",
       "       0.02059183, 0.01997121, 0.02178522, 0.0183897 , 0.00855832,\n",
       "       0.01231583, 0.01000328, 0.01946035, 0.01791234, 0.01654463,\n",
       "       0.01973213, 0.01993127, 0.02396515, 0.01903585, 0.02047347,\n",
       "       0.02087913, 0.02036179, 0.01878246, 0.02122745, 0.02189768,\n",
       "       0.02012048, 0.02189446, 0.00028997], dtype=float32)"
      ]
     },
     "execution_count": 739,
     "metadata": {},
     "output_type": "execute_result"
    }
   ],
   "source": [
    "out = F.softmax(pvg.out, 1)\n",
    "out[idx,:,0].detach().numpy()"
   ]
  },
  {
   "cell_type": "code",
   "execution_count": 742,
   "metadata": {},
   "outputs": [
    {
     "data": {
      "text/plain": [
       "'CCC=(C==(=CC=)=_=_)O=_____(_____________'"
      ]
     },
     "execution_count": 742,
     "metadata": {},
     "output_type": "execute_result"
    }
   ],
   "source": [
    "out_smile = decode_smiles(out[idx,:,:].detach().numpy(), pvg.params['ORD_DICT'], temp=0.3)\n",
    "out_smile"
   ]
  },
  {
   "cell_type": "code",
   "execution_count": 743,
   "metadata": {},
   "outputs": [
    {
     "data": {
      "text/plain": [
       "2.222604513168335"
      ]
     },
     "execution_count": 743,
     "metadata": {},
     "output_type": "execute_result"
    }
   ],
   "source": [
    "pvg.sample_loss"
   ]
  },
  {
   "cell_type": "code",
   "execution_count": 744,
   "metadata": {},
   "outputs": [
    {
     "data": {
      "text/plain": [
       "tensor(2.2226, grad_fn=<AddBackward0>)"
      ]
     },
     "execution_count": 744,
     "metadata": {},
     "output_type": "execute_result"
    }
   ],
   "source": [
    "test_loss = vae_loss(pvg.sample, pvg.out, pvg.mu, pvg.logvar, pvg.params['MAX_LENGTH'])\n",
    "test_loss[0]"
   ]
  },
  {
   "cell_type": "code",
   "execution_count": 598,
   "metadata": {},
   "outputs": [],
   "source": [
    "out_smiles.append(out_smile)"
   ]
  },
  {
   "cell_type": "code",
   "execution_count": 745,
   "metadata": {},
   "outputs": [
    {
     "data": {
      "image/png": "[encoded data removed]",
      "text/plain": [
       "<Figure size 432x288 with 1 Axes>"
      ]
     },
     "metadata": {
      "needs_background": "light"
     },
     "output_type": "display_data"
    }
   ],
   "source": [
    "plt.plot(pvg.history['train_loss'], label='train')\n",
    "plt.plot(pvg.history['val_loss'], label='val')\n",
    "plt.yscale('log')\n",
    "# plt.axvline(85, c='black', ls=':')\n",
    "# plt.axvline(145, c='black', ls=':')\n",
    "plt.show()"
   ]
  },
  {
   "cell_type": "markdown",
   "metadata": {},
   "source": [
    "Generate GDB test set"
   ]
  },
  {
   "cell_type": "code",
   "execution_count": 751,
   "metadata": {},
   "outputs": [],
   "source": [
    "gdb_smiles = []\n",
    "i = 0\n",
    "with open('../data/gdb17/GDB17.50000000.smi', 'r') as f:\n",
    "    for line in f:\n",
    "        if i % 500 == 0:\n",
    "            gdb_smiles.append(line.split('\\n')[0])\n",
    "        i += 1\n",
    "gdb_lls = np.zeros((len(gdb_smiles),))\n",
    "gdb_data = {'smiles': gdb_smiles,\n",
    "            'lls': gdb_lls}\n",
    "df = pd.DataFrame(gdb_data)"
   ]
  },
  {
   "cell_type": "code",
   "execution_count": 752,
   "metadata": {},
   "outputs": [],
   "source": [
    "gdb_data = df.to_numpy()\n",
    "usable_smiles = [sm for sm in gdb_data[:,0] if len(sm) < 60]\n",
    "char_dict, ord_dict = get_smiles_vocab(usable_smiles)"
   ]
  },
  {
   "cell_type": "code",
   "execution_count": 756,
   "metadata": {},
   "outputs": [],
   "source": [
    "df.to_pickle('../database/gdb_vae_test.pkl')"
   ]
  },
  {
   "cell_type": "markdown",
   "metadata": {},
   "source": [
    "Validating save and load"
   ]
  },
  {
   "cell_type": "code",
   "execution_count": 769,
   "metadata": {},
   "outputs": [
    {
     "name": "stdout",
     "output_type": "stream",
     "text": [
      "Epoch - 1  Train Loss - 288.92  Val Loss - 5.88\n",
      "Epoch - 2  Train Loss - 172.71  Val Loss - 5.35\n",
      "Epoch - 3  Train Loss - 113.9  Val Loss - 7.1\n",
      "Epoch - 4  Train Loss - 79.79  Val Loss - 30.83\n",
      "Epoch - 5  Train Loss - 58.77  Val Loss - 56.22\n",
      "Epoch - 6  Train Loss - 44.0  Val Loss - 59.39\n",
      "Epoch - 7  Train Loss - 34.58  Val Loss - 54.4\n",
      "Epoch - 8  Train Loss - 28.02  Val Loss - 42.43\n",
      "Epoch - 9  Train Loss - 23.42  Val Loss - 47.06\n",
      "Epoch - 10  Train Loss - 19.76  Val Loss - 39.48\n"
     ]
    }
   ],
   "source": [
    "# Build Model\n",
    "max_len = 60\n",
    "pvg = PlastVAEGen(params={'MAX_LENGTH': max_len, 'N_EPOCHS': 10, 'BATCH_SIZE': 10})\n",
    "\n",
    "# Train Model\n",
    "pvg.train(test_data, save_best=True, save_last=True, log=False)"
   ]
  },
  {
   "cell_type": "code",
   "execution_count": 770,
   "metadata": {},
   "outputs": [
    {
     "data": {
      "image/png": "[encoded data removed]",
      "text/plain": [
       "<Figure size 432x288 with 1 Axes>"
      ]
     },
     "metadata": {
      "needs_background": "light"
     },
     "output_type": "display_data"
    }
   ],
   "source": [
    "plt.plot(pvg.history['train_loss'], label='train')\n",
    "plt.plot(pvg.history['val_loss'], label='val')\n",
    "plt.yscale('log')\n",
    "plt.show()"
   ]
  },
  {
   "cell_type": "code",
   "execution_count": 771,
   "metadata": {},
   "outputs": [
    {
     "name": "stdout",
     "output_type": "stream",
     "text": [
      "Epoch - 11  Train Loss - 17.01  Val Loss - 36.59\n",
      "Epoch - 12  Train Loss - 15.01  Val Loss - 30.97\n",
      "Epoch - 13  Train Loss - 13.22  Val Loss - 30.06\n",
      "Epoch - 14  Train Loss - 11.79  Val Loss - 25.52\n",
      "Epoch - 15  Train Loss - 10.73  Val Loss - 26.64\n",
      "Epoch - 16  Train Loss - 9.83  Val Loss - 18.7\n",
      "Epoch - 17  Train Loss - 9.04  Val Loss - 28.45\n",
      "Epoch - 18  Train Loss - 8.37  Val Loss - 15.45\n",
      "Epoch - 19  Train Loss - 7.8  Val Loss - 14.14\n",
      "Epoch - 20  Train Loss - 7.41  Val Loss - 17.96\n"
     ]
    }
   ],
   "source": [
    "# Load Model\n",
    "pvg_loaded = PlastVAEGen(params={'N_EPOCHS': 10, 'BATCH_SIZE': 10})\n",
    "pvg_loaded.load('checkpoints/latest.ckpt')\n",
    "pvg_loaded.train(test_data, save_best=False, save_last=False, log=False)"
   ]
  },
  {
   "cell_type": "code",
   "execution_count": 772,
   "metadata": {},
   "outputs": [
    {
     "data": {
      "image/png": "[encoded data removed]",
      "text/plain": [
       "<Figure size 432x288 with 1 Axes>"
      ]
     },
     "metadata": {
      "needs_background": "light"
     },
     "output_type": "display_data"
    }
   ],
   "source": [
    "plt.plot(pvg_loaded.history['train_loss'], label='train')\n",
    "plt.plot(pvg_loaded.history['val_loss'], label='val')\n",
    "plt.yscale('log')\n",
    "plt.show()"
   ]
  },
  {
   "cell_type": "code",
   "execution_count": null,
   "metadata": {},
   "outputs": [],
   "source": []
  }
 ],
 "metadata": {
  "kernelspec": {
   "display_name": "Python 3",
   "language": "python",
   "name": "python3"
  },
  "language_info": {
   "codemirror_mode": {
    "name": "ipython",
    "version": 3
   },
   "file_extension": ".py",
   "mimetype": "text/x-python",
   "name": "python",
   "nbconvert_exporter": "python",
   "pygments_lexer": "ipython3",
   "version": "3.7.3"
  }
 },
 "nbformat": 4,
 "nbformat_minor": 2
}
