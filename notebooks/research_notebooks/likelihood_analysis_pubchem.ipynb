{
 "cells": [
  {
   "cell_type": "code",
   "execution_count": 2,
   "metadata": {},
   "outputs": [],
   "source": [
    "import os\n",
    "import math\n",
    "import requests\n",
    "import pandas as pd\n",
    "import numpy as np\n",
    "import seaborn as sns\n",
    "import matplotlib.pyplot as plt\n",
    "import matplotlib.cm as cm\n",
    "from sklearn.preprocessing import MinMaxScaler, LabelEncoder\n",
    "from sklearn.decomposition import PCA\n",
    "from sklearn.linear_model import LogisticRegression, Lasso, LinearRegression, SGDClassifier\n",
    "from sklearn import model_selection\n",
    "from sklearn.feature_selection import SelectFromModel\n",
    "import pubchempy as pcp\n",
    "os.chdir('../')\n",
    "from util.util import *\n",
    "os.chdir('notebooks')\n",
    "\n",
    "\n",
    "import IPython.display as Disp"
   ]
  },
  {
   "cell_type": "code",
   "execution_count": 47,
   "metadata": {},
   "outputs": [],
   "source": [
    "def find_top_mols(pl_data, org_data, org_smiles, best_orgs, scaling_factor=1, return_pca=False):\n",
    "    rand_idxs = np.random.choice(np.arange(len(pl_data)), size=len(pl_data), replace=False)\n",
    "    train_idxs = rand_idxs[:168]\n",
    "    test_idxs = rand_idxs[168:]\n",
    "    \n",
    "    pl_train = pl_data[train_idxs,:]\n",
    "    pl_test = pl_data[test_idxs,:]\n",
    "    \n",
    "    rand_idxs = np.random.choice(np.arange(len(org_data)), size=len(org_data), replace=False)\n",
    "    train_idxs = rand_idxs[:168]\n",
    "    test_idxs = rand_idxs[168:]\n",
    "    org_train = org_data[train_idxs,:]\n",
    "    org_test = org_data[test_idxs,:]\n",
    "    org_smiles_test = org_smiles[test_idxs]\n",
    "    \n",
    "    train_data = np.concatenate([pl_train, org_train], axis=0)\n",
    "    test_data = np.concatenate([pl_test, org_test], axis=0)\n",
    "    \n",
    "    scaler = MinMaxScaler([0,1*scaling_factor])\n",
    "    train_data = scaler.fit_transform(train_data)\n",
    "    test_data = scaler.transform(test_data)\n",
    "    pca = PCA(n_components=2)\n",
    "    train_ics = pca.fit_transform(train_data)\n",
    "    test_ics = pca.transform(test_data)\n",
    "\n",
    "    pl_ics = train_ics[:168,:]\n",
    "    org_ics = train_ics[168:,:]\n",
    "    test_pl_ics = test_ics[:42,:]\n",
    "    test_org_ics = test_ics[42:,:]\n",
    "    \n",
    "    if return_pca:\n",
    "        return pl_ics, test_pl_ics, org_ics, test_org_ics\n",
    "    \n",
    "    pc1_all = np.concatenate([pl_ics[:,0], org_ics[:,0], test_pl_ics[:,0], test_org_ics[:,0]], axis=0)\n",
    "    pc1_min = math.floor(pc1_all.min())\n",
    "    pc1_max = math.ceil(pc1_all.max())\n",
    "    pc2_all = np.concatenate([pl_ics[:,1], org_ics[:,1], test_pl_ics[:,1], test_org_ics[:,1]], axis=0)\n",
    "    pc2_min = math.floor(pc2_all.min())\n",
    "    pc2_max = math.ceil(pc2_all.max())\n",
    "    \n",
    "    kde, xs, ys = calc_2D_kde(pl_ics, [pc1_min, pc1_max], [pc2_min, pc2_max])\n",
    "    pl_test_kdes = []\n",
    "    pl_train_kdes = []\n",
    "    org_kdes = []\n",
    "    for pl_sample in test_pl_ics:\n",
    "        pl_test_kdes.append(get_2D_kde_value(pl_sample, kde, xs, ys))\n",
    "    for pl_sample in pl_ics:\n",
    "        pl_train_kdes.append(get_2D_kde_value(pl_sample, kde, xs, ys))\n",
    "    for org_sample in test_org_ics:\n",
    "        org_kdes.append(get_2D_kde_value(org_sample, kde, xs, ys))\n",
    "    \n",
    "    org_hits_kde_best, org_hits_sm_best = zip(*reversed(sorted(zip(org_kdes, org_smiles_test))))\n",
    "    for i, smile in enumerate(org_hits_sm_best):\n",
    "        best_orgs[smile][0] += 1\n",
    "        best_orgs[smile][1] += org_hits_kde_best[i]\n",
    "    return best_orgs\n",
    "\n",
    "\n",
    "def lasso_selection(pl_data, org_data, org_smiles, best_orgs, scaling_factor=1, return_pca=False):\n",
    "    rand_idxs = np.random.choice(np.arange(len(pl_data)), size=len(pl_data), replace=False)\n",
    "    train_idxs = rand_idxs[:168]\n",
    "    test_idxs = rand_idxs[168:]\n",
    "\n",
    "    pl_train = pl_data[train_idxs,:]\n",
    "    pl_test = pl_data[test_idxs,:]\n",
    "\n",
    "    rand_idxs = np.random.choice(np.arange(len(org_data)), size=len(org_data), replace=False)\n",
    "    train_idxs = rand_idxs[:168]\n",
    "    test_idxs = rand_idxs[168:]\n",
    "    org_train = org_data[train_idxs,:]\n",
    "    org_test = org_data[test_idxs,:]\n",
    "    org_smiles_test = org_smiles[test_idxs]\n",
    "\n",
    "    train_data = np.concatenate([pl_train, org_train], axis=0)\n",
    "    test_data = np.concatenate([pl_test, org_test], axis=0)\n",
    "    np.random.shuffle(train_data)\n",
    "\n",
    "    X_train = train_data[:,:-1]\n",
    "    y_train = train_data[:,-1]\n",
    "    X_test = test_data[:,:-1]\n",
    "    y_test = test_data[:,-1]\n",
    "\n",
    "    scaler = MinMaxScaler()\n",
    "    X_train = scaler.fit_transform(X_train)\n",
    "    X_test = scaler.transform(X_test)\n",
    "    \n",
    "    sel_ = SelectFromModel(LogisticRegression(C=1, penalty='l1'))\n",
    "    sel_.fit(X_train, y_train)\n",
    "    \n",
    "    X_train_sel = X_train[:,sel_.get_support()]\n",
    "    X_test_sel = X_test[:,sel_.get_support()]\n",
    "    \n",
    "    pca = PCA(n_components=2)\n",
    "    train_ics = pca.fit_transform(X_train_sel)\n",
    "    test_ics = pca.transform(X_test_sel)\n",
    "    \n",
    "    pl_ics = train_ics[np.where(y_train == 1)]\n",
    "    org_ics = train_ics[np.where(y_train == 0)]\n",
    "    test_pl_ics = test_ics[np.where(y_test == 1)]\n",
    "    test_org_ics = test_ics[np.where(y_test == 0)]\n",
    "    \n",
    "    if return_pca:\n",
    "        return pl_ics, test_pl_ics, org_ics, test_org_ics\n",
    "    \n",
    "    pc1_all = np.concatenate([pl_ics[:,0], org_ics[:,0], test_pl_ics[:,0], test_org_ics[:,0]], axis=0)\n",
    "    pc1_min = math.floor(pc1_all.min())\n",
    "    pc1_max = math.ceil(pc1_all.max())\n",
    "    pc2_all = np.concatenate([pl_ics[:,1], org_ics[:,1], test_pl_ics[:,1], test_org_ics[:,1]], axis=0)\n",
    "    pc2_min = math.floor(pc2_all.min())\n",
    "    pc2_max = math.ceil(pc2_all.max())\n",
    "    \n",
    "    kde, xs, ys = calc_2D_kde(pl_ics, [pc1_min, pc1_max], [pc2_min, pc2_max])\n",
    "    pl_test_kdes = []\n",
    "    pl_train_kdes = []\n",
    "    org_kdes = []\n",
    "    for pl_sample in test_pl_ics:\n",
    "        pl_test_kdes.append(get_2D_kde_value(pl_sample, kde, xs, ys))\n",
    "    for pl_sample in pl_ics:\n",
    "        pl_train_kdes.append(get_2D_kde_value(pl_sample, kde, xs, ys))\n",
    "    for org_sample in test_org_ics:\n",
    "        org_kdes.append(get_2D_kde_value(org_sample, kde, xs, ys))\n",
    "    \n",
    "    org_hits_kde_best, org_hits_sm_best = zip(*reversed(sorted(zip(org_kdes, org_smiles_test))))\n",
    "    for i, smile in enumerate(org_hits_sm_best):\n",
    "        best_orgs[smile][0] += 1\n",
    "        best_orgs[smile][1] += org_hits_kde_best[i]\n",
    "    return best_orgs\n"
   ]
  },
  {
   "cell_type": "markdown",
   "metadata": {},
   "source": [
    "## Descriptors Only"
   ]
  },
  {
   "cell_type": "code",
   "execution_count": 88,
   "metadata": {},
   "outputs": [],
   "source": [
    "pl_desc = pd.read_excel('../database/plasticizer_data_v5_rdkit.xls')\n",
    "pl_desc = pl_desc[pl_desc.columns[1:]]\n",
    "\n",
    "org_data = pd.read_pickle('../data/pubchem/descriptors/org_chem_pubc.pkl')\n",
    "org_desc = org_data[~org_data.isin([np.nan, np.inf, -np.inf]).any(1)]\n",
    "org_desc = org_desc.reset_index(drop=True)\n",
    "\n",
    "shared_cols = set(pl_desc.columns).intersection(set(org_desc.columns))\n",
    "shared_cols = shared_cols - set(['SMILES', 'Ipc'])\n",
    "\n",
    "pl_desc = pl_desc[shared_cols].to_numpy()\n",
    "org_desc = org_desc[shared_cols].to_numpy()\n",
    "org_smiles = org_data['SMILES'].to_numpy()"
   ]
  },
  {
   "cell_type": "code",
   "execution_count": 89,
   "metadata": {},
   "outputs": [],
   "source": [
    "best_orgs = {}\n",
    "for smile in org_smiles:\n",
    "    best_orgs[smile] = [0, 0]"
   ]
  },
  {
   "cell_type": "code",
   "execution_count": 90,
   "metadata": {},
   "outputs": [],
   "source": [
    "pl_ics, test_pl_ics, org_ics, test_org_ics = find_top_mols(pl_desc, org_desc, org_smiles, best_orgs, scaling_factor=0.1, return_pca=True)"
   ]
  },
  {
   "cell_type": "code",
   "execution_count": 96,
   "metadata": {},
   "outputs": [
    {
     "data": {
      "image/png": "[encoded data removed]",
      "text/plain": [
       "<Figure size 432x288 with 1 Axes>"
      ]
     },
     "metadata": {
      "needs_background": "light"
     },
     "output_type": "display_data"
    }
   ],
   "source": [
    "plt.scatter(pl_ics[:,0], pl_ics[:,1], label='Plasticizers', alpha=0.25)\n",
    "plt.scatter(org_ics[:,0], org_ics[:,1], label='PubChem', alpha=0.25)\n",
    "plt.scatter(test_pl_ics[:,0], test_pl_ics[:,1], label='Plasticizers Test', c='purple', alpha=0.25)\n",
    "plt.legend()\n",
    "plt.show()"
   ]
  },
  {
   "cell_type": "code",
   "execution_count": 100,
   "metadata": {},
   "outputs": [
    {
     "ename": "IndexError",
     "evalue": "list index out of range",
     "output_type": "error",
     "traceback": [
      "\u001b[0;31m---------------------------------------------------------------------------\u001b[0m",
      "\u001b[0;31mIndexError\u001b[0m                                Traceback (most recent call last)",
      "\u001b[0;32m<ipython-input-100-7984c72382df>\u001b[0m in \u001b[0;36m<module>\u001b[0;34m\u001b[0m\n\u001b[1;32m     15\u001b[0m     \u001b[0mpl_train_kdes\u001b[0m\u001b[0;34m.\u001b[0m\u001b[0mappend\u001b[0m\u001b[0;34m(\u001b[0m\u001b[0mget_2D_kde_value\u001b[0m\u001b[0;34m(\u001b[0m\u001b[0mpl_sample\u001b[0m\u001b[0;34m,\u001b[0m \u001b[0mkde\u001b[0m\u001b[0;34m,\u001b[0m \u001b[0mxs\u001b[0m\u001b[0;34m,\u001b[0m \u001b[0mys\u001b[0m\u001b[0;34m)\u001b[0m\u001b[0;34m)\u001b[0m\u001b[0;34m\u001b[0m\u001b[0;34m\u001b[0m\u001b[0m\n\u001b[1;32m     16\u001b[0m \u001b[0;32mfor\u001b[0m \u001b[0morg_sample\u001b[0m \u001b[0;32min\u001b[0m \u001b[0mtest_org_ics\u001b[0m\u001b[0;34m:\u001b[0m\u001b[0;34m\u001b[0m\u001b[0;34m\u001b[0m\u001b[0m\n\u001b[0;32m---> 17\u001b[0;31m     \u001b[0morg_kdes\u001b[0m\u001b[0;34m.\u001b[0m\u001b[0mappend\u001b[0m\u001b[0;34m(\u001b[0m\u001b[0mget_2D_kde_value\u001b[0m\u001b[0;34m(\u001b[0m\u001b[0morg_sample\u001b[0m\u001b[0;34m,\u001b[0m \u001b[0mkde\u001b[0m\u001b[0;34m,\u001b[0m \u001b[0mxs\u001b[0m\u001b[0;34m,\u001b[0m \u001b[0mys\u001b[0m\u001b[0;34m)\u001b[0m\u001b[0;34m)\u001b[0m\u001b[0;34m\u001b[0m\u001b[0;34m\u001b[0m\u001b[0m\n\u001b[0m",
      "\u001b[0;32m~/Dropbox/prg/git_repos/direct_capstone/util/util.py\u001b[0m in \u001b[0;36mget_2D_kde_value\u001b[0;34m(v, kde, xs, ys)\u001b[0m\n\u001b[1;32m     78\u001b[0m             \u001b[0midxs\u001b[0m\u001b[0;34m.\u001b[0m\u001b[0mappend\u001b[0m\u001b[0;34m(\u001b[0m\u001b[0mj\u001b[0m\u001b[0;34m)\u001b[0m\u001b[0;34m\u001b[0m\u001b[0;34m\u001b[0m\u001b[0m\n\u001b[1;32m     79\u001b[0m             \u001b[0;32mbreak\u001b[0m\u001b[0;34m\u001b[0m\u001b[0;34m\u001b[0m\u001b[0m\n\u001b[0;32m---> 80\u001b[0;31m     \u001b[0mval\u001b[0m \u001b[0;34m=\u001b[0m \u001b[0mkde\u001b[0m\u001b[0;34m.\u001b[0m\u001b[0mT\u001b[0m\u001b[0;34m[\u001b[0m\u001b[0midxs\u001b[0m\u001b[0;34m[\u001b[0m\u001b[0;36m0\u001b[0m\u001b[0;34m]\u001b[0m\u001b[0;34m,\u001b[0m \u001b[0midxs\u001b[0m\u001b[0;34m[\u001b[0m\u001b[0;36m1\u001b[0m\u001b[0;34m]\u001b[0m\u001b[0;34m]\u001b[0m\u001b[0;34m\u001b[0m\u001b[0;34m\u001b[0m\u001b[0m\n\u001b[0m\u001b[1;32m     81\u001b[0m     \u001b[0;32mreturn\u001b[0m \u001b[0mval\u001b[0m\u001b[0;34m\u001b[0m\u001b[0;34m\u001b[0m\u001b[0m\n\u001b[1;32m     82\u001b[0m \u001b[0;34m\u001b[0m\u001b[0m\n",
      "\u001b[0;31mIndexError\u001b[0m: list index out of range"
     ]
    }
   ],
   "source": [
    "pc1_all = np.concatenate([pl_ics[:,0], org_ics[:,0], test_pl_ics[:,0]], axis=0)\n",
    "pc1_min = math.floor(pc1_all.min())\n",
    "pc1_max = math.ceil(pc1_all.max())\n",
    "pc2_all = np.concatenate([pl_ics[:,1], org_ics[:,1], test_pl_ics[:,1]], axis=0)\n",
    "pc2_min = math.floor(pc2_all.min())\n",
    "pc2_max = math.ceil(pc2_all.max())\n",
    "\n",
    "kde, xs, ys = calc_2D_kde(pl_ics, [pc1_min, pc1_max], [pc2_min, pc2_max])"
   ]
  },
  {
   "cell_type": "code",
   "execution_count": 101,
   "metadata": {},
   "outputs": [],
   "source": [
    "pl_test_kdes = []\n",
    "pl_train_kdes = []\n",
    "org_kdes = []\n",
    "for pl_sample in test_pl_ics:\n",
    "    pl_test_kdes.append(get_2D_kde_value(pl_sample, kde, xs, ys))\n",
    "for pl_sample in pl_ics:\n",
    "    pl_train_kdes.append(get_2D_kde_value(pl_sample, kde, xs, ys))"
   ]
  },
  {
   "cell_type": "code",
   "execution_count": 102,
   "metadata": {},
   "outputs": [
    {
     "data": {
      "image/png": "[encoded data removed]",
      "text/plain": [
       "<Figure size 432x288 with 2 Axes>"
      ]
     },
     "metadata": {
      "needs_background": "light"
     },
     "output_type": "display_data"
    }
   ],
   "source": [
    "cmap = cm.get_cmap('viridis')\n",
    "psm = plt.contourf(xs, ys, kde, cmap=cmap)\n",
    "cbar = plt.colorbar()\n",
    "plt.show()"
   ]
  },
  {
   "cell_type": "code",
   "execution_count": 103,
   "metadata": {},
   "outputs": [
    {
     "data": {
      "text/plain": [
       "62.320935810342974"
      ]
     },
     "execution_count": 103,
     "metadata": {},
     "output_type": "execute_result"
    }
   ],
   "source": [
    "normalizer = max(pl_test_kdes)\n",
    "normalizer"
   ]
  },
  {
   "cell_type": "code",
   "execution_count": 81,
   "metadata": {},
   "outputs": [],
   "source": [
    "best_org_desc = pd.read_pickle('org_ll_analysis/best_orgs_desc.pkl')"
   ]
  },
  {
   "cell_type": "code",
   "execution_count": 83,
   "metadata": {},
   "outputs": [],
   "source": [
    "top_ten_desc = best_org_desc.iloc[:10,:]\n",
    "theta_pl = top_ten_desc['Avg. Score'].to_numpy() / normalizer\n",
    "smiles = top_ten_desc['SMILES'].to_numpy()\n",
    "urls = []\n",
    "for hit in smiles:\n",
    "    url = 'https://cactus.nci.nih.gov/chemical/structure/{}/image'.format(hit)\n",
    "    urls.append(url)"
   ]
  },
  {
   "cell_type": "code",
   "execution_count": 84,
   "metadata": {},
   "outputs": [
    {
     "name": "stdout",
     "output_type": "stream",
     "text": [
      "1.6485152258066265\n"
     ]
    },
    {
     "data": {
      "image/png": "[encoded data removed]",
      "text/plain": [
       "<IPython.core.display.Image object>"
      ]
     },
     "execution_count": 84,
     "metadata": {},
     "output_type": "execute_result"
    }
   ],
   "source": [
    "print(theta_pl[0])\n",
    "Disp.Image(requests.get(urls[0]).content)"
   ]
  },
  {
   "cell_type": "code",
   "execution_count": null,
   "metadata": {},
   "outputs": [],
   "source": []
  },
  {
   "cell_type": "code",
   "execution_count": null,
   "metadata": {},
   "outputs": [],
   "source": []
  },
  {
   "cell_type": "code",
   "execution_count": null,
   "metadata": {},
   "outputs": [],
   "source": []
  },
  {
   "cell_type": "markdown",
   "metadata": {},
   "source": [
    "## Descriptors Only (LASSO)"
   ]
  },
  {
   "cell_type": "code",
   "execution_count": 48,
   "metadata": {},
   "outputs": [],
   "source": [
    "pl_desc = pd.read_excel('../database/plasticizer_data_v5_rdkit.xls')\n",
    "pl_desc = pl_desc[pl_desc.columns[1:]]\n",
    "\n",
    "org_data = pd.read_pickle('../data/pubchem/descriptors/org_chem_pubc.pkl')\n",
    "org_desc = org_data[~org_data.isin([np.nan, np.inf, -np.inf]).any(1)]\n",
    "org_desc = org_desc.reset_index(drop=True)\n",
    "\n",
    "shared_cols = set(pl_desc.columns).intersection(set(org_desc.columns))\n",
    "shared_cols = shared_cols - set(['SMILES', 'Ipc'])\n",
    "\n",
    "pl_desc = pl_desc[shared_cols]\n",
    "org_desc = org_desc[shared_cols]\n",
    "ones = np.ones((pl_desc.shape[0],1))\n",
    "zeros = np.zeros((org_desc.shape[0],1))\n",
    "pl_desc = np.hstack((pl_desc, ones))\n",
    "org_desc = np.hstack((org_desc, zeros))\n",
    "org_smiles = org_data['SMILES'].to_numpy()"
   ]
  },
  {
   "cell_type": "code",
   "execution_count": 61,
   "metadata": {},
   "outputs": [],
   "source": [
    "best_orgs = {}\n",
    "for smile in org_smiles:\n",
    "    best_orgs[smile] = [0, 0]"
   ]
  },
  {
   "cell_type": "code",
   "execution_count": 62,
   "metadata": {},
   "outputs": [
    {
     "name": "stderr",
     "output_type": "stream",
     "text": [
      "/Users/prguser/anaconda3/lib/python3.7/site-packages/sklearn/linear_model/logistic.py:433: FutureWarning: Default solver will be changed to 'lbfgs' in 0.22. Specify a solver to silence this warning.\n",
      "  FutureWarning)\n"
     ]
    }
   ],
   "source": [
    "pl_ics, test_pl_ics, org_ics, test_org_ics = lasso_selection(pl_desc, org_desc, org_smiles, best_orgs, return_pca=True)"
   ]
  },
  {
   "cell_type": "code",
   "execution_count": 63,
   "metadata": {},
   "outputs": [
    {
     "data": {
      "image/png": "[encoded data removed]",
      "text/plain": [
       "<Figure size 432x288 with 1 Axes>"
      ]
     },
     "metadata": {
      "needs_background": "light"
     },
     "output_type": "display_data"
    }
   ],
   "source": [
    "plt.scatter(pl_ics[:,0], pl_ics[:,1], label='Plasticizers', alpha=0.25)\n",
    "plt.scatter(org_ics[:,0], org_ics[:,1], label='PubChem', alpha=0.25)\n",
    "plt.scatter(test_pl_ics[:,0], test_pl_ics[:,1], label='Plasticizers Test', c='purple', alpha=0.25)\n",
    "plt.legend()\n",
    "plt.show()"
   ]
  },
  {
   "cell_type": "code",
   "execution_count": 64,
   "metadata": {},
   "outputs": [],
   "source": [
    "pc1_all = np.concatenate([pl_ics[:,0], org_ics[:,0], test_pl_ics[:,0], test_org_ics[:,0]], axis=0)\n",
    "pc1_min = math.floor(pc1_all.min())\n",
    "pc1_max = math.ceil(pc1_all.max())\n",
    "pc2_all = np.concatenate([pl_ics[:,1], org_ics[:,1], test_pl_ics[:,1], test_org_ics[:,1]], axis=0)\n",
    "pc2_min = math.floor(pc2_all.min())\n",
    "pc2_max = math.ceil(pc2_all.max())\n",
    "\n",
    "kde, xs, ys = calc_2D_kde(pl_ics, [pc1_min, pc1_max], [pc2_min, pc2_max])\n",
    "pl_test_kdes = []\n",
    "pl_train_kdes = []\n",
    "org_kdes = []\n",
    "for pl_sample in test_pl_ics:\n",
    "    pl_test_kdes.append(get_2D_kde_value(pl_sample, kde, xs, ys))\n",
    "for pl_sample in pl_ics:\n",
    "    pl_train_kdes.append(get_2D_kde_value(pl_sample, kde, xs, ys))\n",
    "for org_sample in test_org_ics:\n",
    "    org_kdes.append(get_2D_kde_value(org_sample, kde, xs, ys))"
   ]
  },
  {
   "cell_type": "code",
   "execution_count": 65,
   "metadata": {},
   "outputs": [],
   "source": [
    "normalizer = max(pl_train_kdes)"
   ]
  },
  {
   "cell_type": "code",
   "execution_count": 66,
   "metadata": {},
   "outputs": [
    {
     "data": {
      "text/plain": [
       "3.331325471219202"
      ]
     },
     "execution_count": 66,
     "metadata": {},
     "output_type": "execute_result"
    }
   ],
   "source": [
    "normalizer"
   ]
  },
  {
   "cell_type": "code",
   "execution_count": 67,
   "metadata": {},
   "outputs": [],
   "source": [
    "best_orgs_desc_lasso = pd.read_pickle('org_ll_analysis/best_orgs_desc_lasso.pkl')"
   ]
  },
  {
   "cell_type": "code",
   "execution_count": 69,
   "metadata": {},
   "outputs": [],
   "source": [
    "top_ten_desc_lasso = best_orgs_desc_lasso.iloc[:10,:]\n",
    "theta_pl = top_ten_desc_lasso['Avg. Score'].to_numpy() / normalizer\n",
    "smiles = top_ten_desc_lasso['SMILES'].to_numpy()\n",
    "urls = []\n",
    "for hit in smiles:\n",
    "    url = 'https://cactus.nci.nih.gov/chemical/structure/{}/image'.format(hit)\n",
    "    urls.append(url)"
   ]
  },
  {
   "cell_type": "code",
   "execution_count": 70,
   "metadata": {},
   "outputs": [
    {
     "name": "stdout",
     "output_type": "stream",
     "text": [
      "0.21601309515659384\n"
     ]
    },
    {
     "data": {
      "image/png": "[encoded data removed]",
      "text/plain": [
       "<IPython.core.display.Image object>"
      ]
     },
     "execution_count": 70,
     "metadata": {},
     "output_type": "execute_result"
    }
   ],
   "source": [
    "print(theta_pl[0])\n",
    "Disp.Image(requests.get(urls[0]).content)"
   ]
  },
  {
   "cell_type": "code",
   "execution_count": 71,
   "metadata": {},
   "outputs": [
    {
     "name": "stdout",
     "output_type": "stream",
     "text": [
      "0.21385296428202208\n"
     ]
    },
    {
     "data": {
      "image/png": "[encoded data removed]",
      "text/plain": [
       "<IPython.core.display.Image object>"
      ]
     },
     "execution_count": 71,
     "metadata": {},
     "output_type": "execute_result"
    }
   ],
   "source": [
    "print(theta_pl[1])\n",
    "Disp.Image(requests.get(urls[1]).content)"
   ]
  },
  {
   "cell_type": "code",
   "execution_count": 72,
   "metadata": {},
   "outputs": [
    {
     "name": "stdout",
     "output_type": "stream",
     "text": [
      "0.21385296428202208\n"
     ]
    },
    {
     "data": {
      "image/png": "[encoded data removed]",
      "text/plain": [
       "<IPython.core.display.Image object>"
      ]
     },
     "execution_count": 72,
     "metadata": {},
     "output_type": "execute_result"
    }
   ],
   "source": [
    "print(theta_pl[2])\n",
    "Disp.Image(requests.get(urls[2]).content)"
   ]
  },
  {
   "cell_type": "code",
   "execution_count": 73,
   "metadata": {},
   "outputs": [
    {
     "name": "stdout",
     "output_type": "stream",
     "text": [
      "0.21361718236173594\n"
     ]
    },
    {
     "data": {
      "image/png": "[encoded data removed]",
      "text/plain": [
       "<IPython.core.display.Image object>"
      ]
     },
     "execution_count": 73,
     "metadata": {},
     "output_type": "execute_result"
    }
   ],
   "source": [
    "print(theta_pl[3])\n",
    "Disp.Image(requests.get(urls[3]).content)"
   ]
  },
  {
   "cell_type": "code",
   "execution_count": 74,
   "metadata": {},
   "outputs": [
    {
     "name": "stdout",
     "output_type": "stream",
     "text": [
      "0.21306977523185147\n"
     ]
    },
    {
     "data": {
      "image/png": "[encoded data removed]",
      "text/plain": [
       "<IPython.core.display.Image object>"
      ]
     },
     "execution_count": 74,
     "metadata": {},
     "output_type": "execute_result"
    }
   ],
   "source": [
    "print(theta_pl[4])\n",
    "Disp.Image(requests.get(urls[4]).content)"
   ]
  },
  {
   "cell_type": "code",
   "execution_count": null,
   "metadata": {},
   "outputs": [],
   "source": []
  },
  {
   "cell_type": "code",
   "execution_count": null,
   "metadata": {},
   "outputs": [],
   "source": []
  },
  {
   "cell_type": "code",
   "execution_count": null,
   "metadata": {},
   "outputs": [],
   "source": []
  },
  {
   "cell_type": "markdown",
   "metadata": {},
   "source": [
    "## Fingerprints Only"
   ]
  },
  {
   "cell_type": "code",
   "execution_count": 3,
   "metadata": {},
   "outputs": [],
   "source": [
    "# Load Data\n",
    "pl_data = pd.read_pickle('../data/pubchem/fingerprints/plasticizer_fingerprints.pkl')\n",
    "pl_data = pl_data[(pl_data.T != 0).any()]\n",
    "org_data = pd.read_pickle('../data/pubchem/fingerprints/organic_fingerprints.pkl')\n",
    "org_data = org_data[(org_data.T != 0).any()]\n",
    "org_cols = org_data.columns.to_list()\n",
    "org_cols[0] = 'SMILES'\n",
    "org_data.columns = org_cols\n",
    "\n",
    "pl_smiles = pl_data['SMILES'].to_numpy()\n",
    "pl_fps = pl_data[pl_data.columns[1:]].to_numpy()\n",
    "org_data = org_data.sample(n=org_data.shape[0])\n",
    "org_smiles = org_data['SMILES'].to_numpy()\n",
    "org_fps = org_data[org_data.columns[1:]].to_numpy()"
   ]
  },
  {
   "cell_type": "code",
   "execution_count": 5,
   "metadata": {},
   "outputs": [],
   "source": [
    "best_orgs = {}\n",
    "for smile in org_smiles:\n",
    "    best_orgs[smile] = [0, 0]"
   ]
  },
  {
   "cell_type": "code",
   "execution_count": 6,
   "metadata": {},
   "outputs": [],
   "source": [
    "pl_ics, test_pl_ics, org_ics, test_org_ics = find_top_mols(pl_fps, org_fps, org_smiles, best_orgs, scaling_factor=0.1, return_pca=True)"
   ]
  },
  {
   "cell_type": "code",
   "execution_count": 9,
   "metadata": {},
   "outputs": [
    {
     "data": {
      "image/png": "[encoded data removed]",
      "text/plain": [
       "<Figure size 432x288 with 1 Axes>"
      ]
     },
     "metadata": {
      "needs_background": "light"
     },
     "output_type": "display_data"
    }
   ],
   "source": [
    "plt.scatter(pl_ics[:,0], pl_ics[:,1], label='Plasticizers', alpha=0.25)\n",
    "plt.scatter(org_ics[:,0], org_ics[:,1], label='PubChem', alpha=0.25)\n",
    "plt.scatter(test_pl_ics[:,0], test_pl_ics[:,1], label='Plasticizers Test', c='purple', alpha=0.25)\n",
    "plt.legend()\n",
    "plt.show()"
   ]
  },
  {
   "cell_type": "code",
   "execution_count": 13,
   "metadata": {},
   "outputs": [],
   "source": [
    "pc1_all = np.concatenate([pl_ics[:,0], org_ics[:,0], test_pl_ics[:,0], test_org_ics[:,0]], axis=0)\n",
    "pc1_min = math.floor(pc1_all.min())\n",
    "pc1_max = math.ceil(pc1_all.max())\n",
    "pc2_all = np.concatenate([pl_ics[:,1], org_ics[:,1], test_pl_ics[:,1], test_org_ics[:,1]], axis=0)\n",
    "pc2_min = math.floor(pc2_all.min())\n",
    "pc2_max = math.ceil(pc2_all.max())\n",
    "\n",
    "kde, xs, ys = calc_2D_kde(pl_ics, [pc1_min, pc1_max], [pc2_min, pc2_max])\n",
    "pl_test_kdes = []\n",
    "pl_train_kdes = []\n",
    "org_kdes = []\n",
    "for pl_sample in test_pl_ics:\n",
    "    pl_test_kdes.append(get_2D_kde_value(pl_sample, kde, xs, ys))\n",
    "for pl_sample in pl_ics:\n",
    "    pl_train_kdes.append(get_2D_kde_value(pl_sample, kde, xs, ys))\n",
    "for org_sample in test_org_ics:\n",
    "    org_kdes.append(get_2D_kde_value(org_sample, kde, xs, ys))"
   ]
  },
  {
   "cell_type": "code",
   "execution_count": 19,
   "metadata": {},
   "outputs": [],
   "source": [
    "normalizer = max(pl_train_kdes)"
   ]
  },
  {
   "cell_type": "code",
   "execution_count": 4,
   "metadata": {},
   "outputs": [],
   "source": [
    "best_orgs_fps = pd.read_pickle('org_ll_analysis/best_orgs_fps.pkl')"
   ]
  },
  {
   "cell_type": "code",
   "execution_count": 23,
   "metadata": {},
   "outputs": [],
   "source": [
    "top_ten_fps = best_orgs_fps.iloc[:10,:]\n",
    "theta_pl = top_ten_fps['Avg. Score'].to_numpy() / normalizer\n",
    "smiles = top_ten_fps['SMILES'].to_numpy()\n",
    "urls = []\n",
    "for hit in smiles:\n",
    "    url = 'https://cactus.nci.nih.gov/chemical/structure/{}/image'.format(hit)\n",
    "    urls.append(url)"
   ]
  },
  {
   "cell_type": "code",
   "execution_count": 28,
   "metadata": {},
   "outputs": [],
   "source": []
  },
  {
   "cell_type": "code",
   "execution_count": 29,
   "metadata": {},
   "outputs": [
    {
     "name": "stdout",
     "output_type": "stream",
     "text": [
      "0.8886296655084589\n"
     ]
    },
    {
     "data": {
      "image/png": "[encoded data removed]",
      "text/plain": [
       "<IPython.core.display.Image object>"
      ]
     },
     "execution_count": 29,
     "metadata": {},
     "output_type": "execute_result"
    }
   ],
   "source": [
    "print(theta_pl[0])\n",
    "Disp.Image(requests.get(urls[0]).content)"
   ]
  },
  {
   "cell_type": "code",
   "execution_count": 30,
   "metadata": {},
   "outputs": [
    {
     "name": "stdout",
     "output_type": "stream",
     "text": [
      "0.8885984568324093\n"
     ]
    },
    {
     "data": {
      "image/png": "[encoded data removed]",
      "text/plain": [
       "<IPython.core.display.Image object>"
      ]
     },
     "execution_count": 30,
     "metadata": {},
     "output_type": "execute_result"
    }
   ],
   "source": [
    "print(theta_pl[1])\n",
    "Disp.Image(requests.get(urls[1]).content)"
   ]
  },
  {
   "cell_type": "code",
   "execution_count": 31,
   "metadata": {},
   "outputs": [
    {
     "name": "stdout",
     "output_type": "stream",
     "text": [
      "0.8885505484923436\n"
     ]
    },
    {
     "data": {
      "image/png": "[encoded data removed]",
      "text/plain": [
       "<IPython.core.display.Image object>"
      ]
     },
     "execution_count": 31,
     "metadata": {},
     "output_type": "execute_result"
    }
   ],
   "source": [
    "print(theta_pl[2])\n",
    "Disp.Image(requests.get(urls[2]).content)"
   ]
  },
  {
   "cell_type": "code",
   "execution_count": 32,
   "metadata": {},
   "outputs": [
    {
     "name": "stdout",
     "output_type": "stream",
     "text": [
      "0.8884991842906977\n"
     ]
    },
    {
     "data": {
      "image/png": "[encoded data removed]",
      "text/plain": [
       "<IPython.core.display.Image object>"
      ]
     },
     "execution_count": 32,
     "metadata": {},
     "output_type": "execute_result"
    }
   ],
   "source": [
    "print(theta_pl[3])\n",
    "Disp.Image(requests.get(urls[3]).content)"
   ]
  },
  {
   "cell_type": "code",
   "execution_count": 33,
   "metadata": {},
   "outputs": [
    {
     "name": "stdout",
     "output_type": "stream",
     "text": [
      "0.8880528262480978\n"
     ]
    },
    {
     "data": {
      "image/png": "[encoded data removed]",
      "text/plain": [
       "<IPython.core.display.Image object>"
      ]
     },
     "execution_count": 33,
     "metadata": {},
     "output_type": "execute_result"
    }
   ],
   "source": [
    "print(theta_pl[4])\n",
    "Disp.Image(requests.get(urls[4]).content)"
   ]
  },
  {
   "cell_type": "code",
   "execution_count": 36,
   "metadata": {},
   "outputs": [
    {
     "name": "stdout",
     "output_type": "stream",
     "text": [
      "0.8880038214801873 C1CCCCOCCCCCCOC(=O)CCC1\n"
     ]
    },
    {
     "data": {
      "image/png": "[encoded data removed]",
      "text/plain": [
       "<IPython.core.display.Image object>"
      ]
     },
     "execution_count": 36,
     "metadata": {},
     "output_type": "execute_result"
    }
   ],
   "source": [
    "print(theta_pl[5], smiles[5])\n",
    "Disp.Image(requests.get(urls[5]).content)"
   ]
  },
  {
   "cell_type": "code",
   "execution_count": 35,
   "metadata": {},
   "outputs": [
    {
     "name": "stdout",
     "output_type": "stream",
     "text": [
      "0.8879179255288009\n"
     ]
    },
    {
     "data": {
      "image/png": "[encoded data removed]",
      "text/plain": [
       "<IPython.core.display.Image object>"
      ]
     },
     "execution_count": 35,
     "metadata": {},
     "output_type": "execute_result"
    }
   ],
   "source": [
    "print(theta_pl[6])\n",
    "Disp.Image(requests.get(urls[6]).content)"
   ]
  },
  {
   "cell_type": "code",
   "execution_count": 37,
   "metadata": {},
   "outputs": [
    {
     "name": "stdout",
     "output_type": "stream",
     "text": [
      "0.8878893563680141\n"
     ]
    },
    {
     "data": {
      "image/png": "[encoded data removed]",
      "text/plain": [
       "<IPython.core.display.Image object>"
      ]
     },
     "execution_count": 37,
     "metadata": {},
     "output_type": "execute_result"
    }
   ],
   "source": [
    "print(theta_pl[7])\n",
    "Disp.Image(requests.get(urls[7]).content)"
   ]
  },
  {
   "cell_type": "code",
   "execution_count": null,
   "metadata": {},
   "outputs": [],
   "source": []
  },
  {
   "cell_type": "code",
   "execution_count": null,
   "metadata": {},
   "outputs": [],
   "source": []
  },
  {
   "cell_type": "code",
   "execution_count": null,
   "metadata": {},
   "outputs": [],
   "source": []
  },
  {
   "cell_type": "code",
   "execution_count": null,
   "metadata": {},
   "outputs": [],
   "source": []
  },
  {
   "cell_type": "code",
   "execution_count": null,
   "metadata": {},
   "outputs": [],
   "source": []
  },
  {
   "cell_type": "code",
   "execution_count": null,
   "metadata": {},
   "outputs": [],
   "source": []
  },
  {
   "cell_type": "code",
   "execution_count": null,
   "metadata": {},
   "outputs": [],
   "source": []
  },
  {
   "cell_type": "code",
   "execution_count": null,
   "metadata": {},
   "outputs": [],
   "source": []
  },
  {
   "cell_type": "code",
   "execution_count": null,
   "metadata": {},
   "outputs": [],
   "source": []
  },
  {
   "cell_type": "code",
   "execution_count": null,
   "metadata": {},
   "outputs": [],
   "source": []
  },
  {
   "cell_type": "code",
   "execution_count": 79,
   "metadata": {},
   "outputs": [],
   "source": [
    "pl_data = pd.read_excel('../database/plasticizer_data_v5_rdkit.xls')\n",
    "pl_data = pl_data[pl_data.columns[1:]]"
   ]
  },
  {
   "cell_type": "code",
   "execution_count": 91,
   "metadata": {},
   "outputs": [],
   "source": [
    "categories = pl_data['Chemical Category']\n",
    "le = LabelEncoder()\n",
    "le.fit(categories.astype(str))\n",
    "labels = le.transform(categories.astype(str))"
   ]
  },
  {
   "cell_type": "code",
   "execution_count": 92,
   "metadata": {},
   "outputs": [
    {
     "data": {
      "text/plain": [
       "array([18, 15, 20, 15,  0,  9, 14,  4,  9,  4, 14, 12, 15,  0,  0,  6, 12,\n",
       "        3, 15,  0, 12, 15, 19, 24, 22, 11,  6, 15, 22,  9, 12,  4, 15, 15,\n",
       "        0, 14, 20, 15,  4, 14, 12, 22, 15,  6,  0,  6, 12,  8,  9,  4, 12,\n",
       "        0, 12,  9, 15,  4, 18, 17, 15,  9, 19,  7,  4, 12, 15, 15,  0, 12,\n",
       "        9, 14, 16,  9, 12, 12,  9,  0,  4, 14, 12,  9,  9, 15, 15, 16, 22,\n",
       "       14, 15,  9, 12,  4,  4, 18, 12,  5, 11, 22, 12, 15, 16, 14,  4,  0,\n",
       "       14,  9, 12, 14, 18, 16, 12, 15, 15,  5, 12, 12,  9,  0, 16, 16, 16,\n",
       "       12, 15,  5,  9,  4, 15,  4,  2, 15,  0, 12, 12,  9,  6, 15, 15,  9,\n",
       "        6, 13,  2, 12, 14,  9, 10, 14, 15,  9, 16, 14, 12, 15, 12, 15, 15,\n",
       "       14, 15, 15, 15, 15, 22,  0, 12, 22, 12, 19,  9, 15, 24, 21,  6, 21,\n",
       "       12, 15, 12, 12, 22, 18, 15, 11,  8,  8,  0, 18, 11, 28, 27, 24, 26,\n",
       "       25, 23,  4, 19, 14,  9, 15, 15, 15,  5, 14,  9, 15,  9, 12, 16,  7,\n",
       "       12, 22, 12, 12,  1, 15])"
      ]
     },
     "execution_count": 92,
     "metadata": {},
     "output_type": "execute_result"
    }
   ],
   "source": [
    "labels"
   ]
  },
  {
   "cell_type": "code",
   "execution_count": 82,
   "metadata": {
    "scrolled": false
   },
   "outputs": [
    {
     "data": {
      "text/plain": [
       "Phthalates                     41\n",
       "Others                         35\n",
       "Glycols                        23\n",
       "Phosphates                     16\n",
       "Benzoates                      14\n",
       "Adipates                       14\n",
       "Polymeric plasticizers          9\n",
       "Trimellitates                   9\n",
       "Citrates                        7\n",
       "Sebacates                       6\n",
       "Chlorinated paraffins           4\n",
       "Sulfonamides                    4\n",
       "Oleates                         4\n",
       "Glutarates                      3\n",
       "Epoxides                        2\n",
       "Azelates                        2\n",
       "Trimelitates                    2\n",
       "Superplasticizers               2\n",
       "Alkyl sulfonates                1\n",
       "Pyromellitates                  1\n",
       "oleates                         1\n",
       "Pentaerythritol derivatives     1\n",
       "Isobutyrates                    1\n",
       "trimellitates                   1\n",
       "pyrrolidones                    1\n",
       "levulinic acid                  1\n",
       "Benzoate                        1\n",
       "succinates                      1\n",
       "Name: Chemical Category, dtype: int64"
      ]
     },
     "execution_count": 82,
     "metadata": {},
     "output_type": "execute_result"
    }
   ],
   "source": [
    "pl_data['Chemical Category'].value_counts()"
   ]
  },
  {
   "cell_type": "code",
   "execution_count": null,
   "metadata": {},
   "outputs": [],
   "source": []
  },
  {
   "cell_type": "code",
   "execution_count": null,
   "metadata": {},
   "outputs": [],
   "source": []
  },
  {
   "cell_type": "code",
   "execution_count": null,
   "metadata": {},
   "outputs": [],
   "source": []
  },
  {
   "cell_type": "code",
   "execution_count": null,
   "metadata": {},
   "outputs": [],
   "source": []
  },
  {
   "cell_type": "code",
   "execution_count": null,
   "metadata": {},
   "outputs": [],
   "source": []
  },
  {
   "cell_type": "code",
   "execution_count": null,
   "metadata": {},
   "outputs": [],
   "source": []
  },
  {
   "cell_type": "code",
   "execution_count": null,
   "metadata": {},
   "outputs": [],
   "source": []
  },
  {
   "cell_type": "code",
   "execution_count": 77,
   "metadata": {},
   "outputs": [],
   "source": [
    "pl_data = pd.read_pickle('../database/plasticizer_data_v6_desc_fps.pkl')\n",
    "pl_data = pl_data.drop(['Ipc'], axis=1)\n",
    "# pl_data = pl_data[pl_data.columns[5:]].to_numpy()\n",
    "org_data = pd.read_pickle('../data/pubchem/org_desc_fps.pkl')\n",
    "org_data = org_data[~org_data.isin([np.nan, np.inf, -np.inf]).any(1)]\n",
    "org_data = org_data.drop(['Ipc'], axis=1)\n",
    "org_data = org_data[(75 < org_data['MolWt']) & (1500 > org_data['MolWt'])]\n",
    "org_smiles = org_data['SMILES'].to_numpy()\n",
    "# org_data = org_data[org_data.columns[1:]].to_numpy()"
   ]
  },
  {
   "cell_type": "code",
   "execution_count": 78,
   "metadata": {},
   "outputs": [
    {
     "data": {
      "text/plain": [
       "(75.04299999999999, 1499.6070000000007, 76.095, 1742.5819999999997)"
      ]
     },
     "execution_count": 78,
     "metadata": {},
     "output_type": "execute_result"
    }
   ],
   "source": [
    "org_data['MolWt'].min(), org_data['MolWt'].max(), pl_data['MolWt'].min(), pl_data['MolWt'].max()"
   ]
  },
  {
   "cell_type": "code",
   "execution_count": null,
   "metadata": {},
   "outputs": [],
   "source": []
  },
  {
   "cell_type": "code",
   "execution_count": null,
   "metadata": {},
   "outputs": [],
   "source": []
  },
  {
   "cell_type": "code",
   "execution_count": null,
   "metadata": {},
   "outputs": [],
   "source": []
  },
  {
   "cell_type": "code",
   "execution_count": null,
   "metadata": {},
   "outputs": [],
   "source": []
  },
  {
   "cell_type": "code",
   "execution_count": null,
   "metadata": {},
   "outputs": [],
   "source": []
  },
  {
   "cell_type": "code",
   "execution_count": 63,
   "metadata": {},
   "outputs": [],
   "source": [
    "pl_desc = pl_data[:,:199]\n",
    "pl_fps = pl_data[:,199:]\n",
    "org_desc = org_data[:,:199]\n",
    "org_fps = org_data[:,199:]"
   ]
  },
  {
   "cell_type": "code",
   "execution_count": 64,
   "metadata": {},
   "outputs": [],
   "source": [
    "scale_factor = 0.05\n",
    "pl_fps = pl_fps*scale_factor\n",
    "org_fps = org_fps*scale_factor"
   ]
  },
  {
   "cell_type": "code",
   "execution_count": 65,
   "metadata": {},
   "outputs": [],
   "source": [
    "pl_all = np.concatenate([pl_desc, pl_fps], axis=1)\n",
    "org_all = np.concatenate([org_desc, org_fps], axis=1)"
   ]
  },
  {
   "cell_type": "code",
   "execution_count": 66,
   "metadata": {},
   "outputs": [],
   "source": [
    "org_idxs = np.random.choice(np.arange(len(org_all)), size=210, replace=False)\n",
    "org_train = org_all[org_idxs,:]\n",
    "\n",
    "train_data = np.concatenate([pl_all, org_train], axis=0)"
   ]
  },
  {
   "cell_type": "code",
   "execution_count": 67,
   "metadata": {},
   "outputs": [],
   "source": [
    "scaler = MinMaxScaler()\n",
    "train_data = scaler.fit_transform(train_data)"
   ]
  },
  {
   "cell_type": "code",
   "execution_count": 68,
   "metadata": {},
   "outputs": [
    {
     "data": {
      "text/plain": [
       "1.0000000000000002"
      ]
     },
     "execution_count": 68,
     "metadata": {},
     "output_type": "execute_result"
    }
   ],
   "source": [
    "train_data.max()"
   ]
  },
  {
   "cell_type": "code",
   "execution_count": 69,
   "metadata": {},
   "outputs": [
    {
     "data": {
      "image/png": "[encoded data removed]",
      "text/plain": [
       "<Figure size 432x288 with 1 Axes>"
      ]
     },
     "metadata": {
      "needs_background": "light"
     },
     "output_type": "display_data"
    }
   ],
   "source": [
    "pca = PCA(2)\n",
    "train_ics = pca.fit_transform(train_data)\n",
    "\n",
    "plt.scatter(train_ics[:210,0], train_ics[:210,1], label='Plasticizer', alpha=0.25)\n",
    "plt.scatter(train_ics[210:,0], train_ics[210:,1], label='Organic', alpha=0.25)\n",
    "plt.legend()\n",
    "plt.show()"
   ]
  },
  {
   "cell_type": "code",
   "execution_count": null,
   "metadata": {},
   "outputs": [],
   "source": []
  }
 ],
 "metadata": {
  "kernelspec": {
   "display_name": "Python 3",
   "language": "python",
   "name": "python3"
  },
  "language_info": {
   "codemirror_mode": {
    "name": "ipython",
    "version": 3
   },
   "file_extension": ".py",
   "mimetype": "text/x-python",
   "name": "python",
   "nbconvert_exporter": "python",
   "pygments_lexer": "ipython3",
   "version": "3.7.3"
  }
 },
 "nbformat": 4,
 "nbformat_minor": 2
}
