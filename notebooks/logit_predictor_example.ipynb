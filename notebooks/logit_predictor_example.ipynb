{
 "cells": [
  {
   "cell_type": "code",
   "execution_count": 1,
   "metadata": {},
   "outputs": [],
   "source": [
    "%load_ext autoreload\n",
    "%autoreload 2"
   ]
  },
  {
   "cell_type": "code",
   "execution_count": 2,
   "metadata": {},
   "outputs": [],
   "source": [
    "import os\n",
    "import math\n",
    "import requests\n",
    "import pandas as pd\n",
    "import numpy as np\n",
    "import seaborn as sns\n",
    "import matplotlib.pyplot as plt\n",
    "import matplotlib.cm as cm\n",
    "from scipy.stats import zscore\n",
    "from sklearn.preprocessing import MinMaxScaler, LabelEncoder\n",
    "from sklearn.decomposition import PCA\n",
    "from sklearn.linear_model import LogisticRegression, Lasso, LinearRegression, SGDClassifier\n",
    "from sklearn import model_selection\n",
    "from sklearn.feature_selection import SelectFromModel\n",
    "from sklearn.metrics.pairwise import cosine_similarity\n",
    "import pubchempy as pcp\n",
    "os.chdir('../')\n",
    "from util.util import *\n",
    "from modules.logit_predictor import PlastPredictor\n",
    "os.chdir('notebooks')\n",
    "\n",
    "\n",
    "import IPython.display as Disp\n",
    "np.set_printoptions(suppress=True)"
   ]
  },
  {
   "cell_type": "markdown",
   "metadata": {},
   "source": [
    "Making sure the new `logit_predictor` predictor model is working properly"
   ]
  },
  {
   "cell_type": "code",
   "execution_count": 18,
   "metadata": {},
   "outputs": [],
   "source": [
    "# Load and format data\n",
    "pl_full = pd.read_pickle('../database/plasticizer_data_v10_polarity.pkl')\n",
    "org_full = pd.read_pickle('../database/org_polarity_v2.pkl')\n",
    "pl_pol = pd.concat([pl_full[pl_full.columns[1:195]], pl_full['Polarity']], axis=1)\n",
    "all_cols = pl_pol.columns.to_numpy()\n",
    "pl_data = pl_pol[all_cols].to_numpy()\n",
    "org_data = org_full[all_cols].to_numpy()\n",
    "lin_data = pd.read_pickle('../database/linolein_test.pkl')\n",
    "lin_data['Polarity'] = 0.048856\n",
    "lin_data = lin_data[all_cols].to_numpy()"
   ]
  },
  {
   "cell_type": "code",
   "execution_count": 10,
   "metadata": {},
   "outputs": [],
   "source": [
    "pp = PlastPredictor()\n",
    "pp.fit_model(pl_data, org_data)"
   ]
  },
  {
   "cell_type": "code",
   "execution_count": 11,
   "metadata": {},
   "outputs": [
    {
     "data": {
      "text/plain": [
       "(1.0, 0.9285714285714286, 0.9776424377083003, 0.9777813045548326)"
      ]
     },
     "execution_count": 11,
     "metadata": {},
     "output_type": "execute_result"
    }
   ],
   "source": [
    "pp.pl_train_acc, pp.pl_test_acc, pp.org_train_acc, pp.org_test_acc"
   ]
  },
  {
   "cell_type": "code",
   "execution_count": 12,
   "metadata": {},
   "outputs": [
    {
     "data": {
      "text/plain": [
       "(0.9784002539279479, 0.9333333333333333, array([0.96342849]))"
      ]
     },
     "execution_count": 12,
     "metadata": {},
     "output_type": "execute_result"
    }
   ],
   "source": [
    "org_acc = pp.predict(org_data, type='binary', class_id='neg')\n",
    "pl_acc = pp.predict(pl_data, type='binary', class_id='pos')\n",
    "lin_prob = pp.predict(lin_data)\n",
    "org_acc, pl_acc, lin_prob"
   ]
  },
  {
   "cell_type": "markdown",
   "metadata": {},
   "source": [
    "Looks like it works. Now just need to generate likelihood data for all plasticizers and PubChem organics\n",
    "\n",
    "**NOTE:** This is without filtering organics by least similar. The final model should do this to ensure the negative samples are definitely not plasticizers"
   ]
  },
  {
   "cell_type": "code",
   "execution_count": 20,
   "metadata": {},
   "outputs": [],
   "source": [
    "pl_probs = pp.predict(pl_data)\n",
    "pl_smiles = pl_full['SMILES'].to_numpy()\n",
    "org_probs = pp.predict(org_data)\n",
    "org_smiles = org_full['SMILES'].to_numpy()"
   ]
  },
  {
   "cell_type": "code",
   "execution_count": 15,
   "metadata": {},
   "outputs": [
    {
     "data": {
      "image/png": "[encoded data removed]",
      "text/plain": [
       "<Figure size 432x288 with 1 Axes>"
      ]
     },
     "metadata": {
      "needs_background": "light"
     },
     "output_type": "display_data"
    }
   ],
   "source": [
    "sns.distplot(pl_probs, hist=False)\n",
    "sns.distplot(org_probs, hist=False)\n",
    "plt.show()"
   ]
  },
  {
   "cell_type": "code",
   "execution_count": 22,
   "metadata": {},
   "outputs": [],
   "source": [
    "best_org_probs, best_org_smiles = zip(*reversed(sorted(zip(org_probs, org_smiles))))\n",
    "worst_pl_probs, worst_pl_smiles = zip(*sorted(zip(pl_probs, pl_smiles)))"
   ]
  },
  {
   "cell_type": "code",
   "execution_count": 33,
   "metadata": {},
   "outputs": [],
   "source": [
    "org_ll = {'SMILES': org_smiles, 'Likelihood': org_probs}\n",
    "org_ll = pd.DataFrame(org_ll)\n",
    "org_ll.to_pickle('../database/org_likelihoods_v1.pkl')"
   ]
  },
  {
   "cell_type": "code",
   "execution_count": 36,
   "metadata": {},
   "outputs": [],
   "source": [
    "pl_ll = {'SMILES': pl_smiles, 'Likelihood': pl_probs}\n",
    "pl_ll = pd.DataFrame(pl_ll)\n",
    "pl_ll.to_pickle('../database/pl_likelihoods_v1.pkl')"
   ]
  },
  {
   "cell_type": "code",
   "execution_count": null,
   "metadata": {},
   "outputs": [],
   "source": []
  }
 ],
 "metadata": {
  "kernelspec": {
   "display_name": "Python 3",
   "language": "python",
   "name": "python3"
  },
  "language_info": {
   "codemirror_mode": {
    "name": "ipython",
    "version": 3
   },
   "file_extension": ".py",
   "mimetype": "text/x-python",
   "name": "python",
   "nbconvert_exporter": "python",
   "pygments_lexer": "ipython3",
   "version": "3.7.3"
  }
 },
 "nbformat": 4,
 "nbformat_minor": 2
}
