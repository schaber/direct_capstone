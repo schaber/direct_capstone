{
 "cells": [
  {
   "cell_type": "markdown",
   "metadata": {},
   "source": [
    "# I was trying to parse all the urls of the plasitizers' properties on this website:\n",
    "https://app.knovel.com/web/toc.v/cid:kpPDEE0001/viewerType:toc//root_slug:plasticizers-database-2nd?&hierarchy=kn0V68XPV1\n",
    "\n",
    "# So that we can download the actrual files. But it is not as easy as I thought...."
   ]
  },
  {
   "cell_type": "markdown",
   "metadata": {},
   "source": [
    "## This code works for normal website..."
   ]
  },
  {
   "cell_type": "code",
   "execution_count": null,
   "metadata": {},
   "outputs": [],
   "source": [
    "from bs4 import BeautifulSoup\n",
    "import urllib3\n",
    "import re\n",
    "import certifi\n",
    "\n",
    "# reading url and pass to html_page\n",
    "http = urllib3.PoolManager()\n",
    "html_page = http.request('GET',\"http://depts.washington.edu/chem/facilserv/nmr/av300.html\")\n",
    "\n",
    "#pass to BS4\n",
    "soup = BeautifulSoup(html_page.data)\n",
    "# print (soup.prettify())\n",
    "for link in soup.findAll('a', attrs={'href': re.compile(\"^http://\")}):\n",
    "    print (link.get('href'))"
   ]
  },
  {
   "cell_type": "markdown",
   "metadata": {},
   "source": [
    "## It seems that they hide the data somewhere else.\n",
    "## I can't find any names of plasticizers in the html code."
   ]
  },
  {
   "cell_type": "code",
   "execution_count": null,
   "metadata": {},
   "outputs": [],
   "source": [
    "from bs4 import BeautifulSoup\n",
    "import urllib3\n",
    "import re\n",
    "import certifi\n",
    "\n",
    "# reading url and pass to html_page\n",
    "http = urllib3.PoolManager(cert_reqs='CERT_REQUIRED',ca_certs=certifi.where())\n",
    "html_page = http.request('GET',\"https://app.knovel.com/web/toc.v/cid:kpPDEE0001/viewerType:toc//root_slug:plasticizers-database-2nd?&hierarchy=kn0V68XPV1\")\n",
    "\n",
    "#pass to BS4\n",
    "soup = BeautifulSoup(html_page.data)\n",
    "print (soup.prettify())\n",
    "for link in soup.findAll('a', attrs={'href': re.compile(\"^http://\")}):\n",
    "    print (link.get('href'))"
   ]
  },
  {
   "cell_type": "markdown",
   "metadata": {},
   "source": [
    "# parsing from a single html\n",
    "\n"
   ]
  },
  {
   "cell_type": "code",
   "execution_count": 12,
   "metadata": {},
   "outputs": [
    {
     "name": "stdout",
     "output_type": "stream",
     "text": [
      "{'Synonyms:': 'DHODA; Di-C7-9-alkyl adipate; Hexanedioic acid, di-C7-9-branched and linear alkyl esters', 'Molecular Weight:': '375', 'CAS Registry No.:': '68515-75-3', 'Chemical Category:': 'Adipates', 'EC No.:': '271-105-9', 'Manufacturer:': 'Solutia Inc.', 'Outstanding Properties:': 'Enhanced low temperature performance', 'Used for Polymeric Materials:': 'PVC, PU, cellulosics, rubber', 'Used for Products:': 'Film & sheeting, coatings', 'Specific Gravity:': '0.92 (25°C)', 'Aggregate State at 25°C:': 'Liquid', 'Surface Tension, mN/m:': '30.3 (25°C)', 'Boiling Point, °C:': '224', 'Dynamic Viscosity, cP:': '12.8 (25°C)', 'Melting Point, °C:': '-13', 'Vapor Pressure, kPa:': '0.44 (200°C)', 'Odor:': 'Odorless', 'Color:': 'Colorless', 'OSHA Hazard Class:': 'Not considered a hazardous substance', 'Autoignition Temperature, °C:': '232', 'Eye Irritation (human):': 'None - rabbit', 'Flash Point Method:': 'COC', 'Flash Point Temperature, °C:': '204', 'HMIS Fire:': '0', 'HMIS Health:': '1', 'HMIS Personal protection:': 'Safety glasses, gloves, lab. coat', 'NFPA Flammability:': '0', 'NFPA Health:': '1', 'NFPA Reactivity:': '0', 'Skin Irritation:': 'None', 'HMIS Reactivity:': '0', 'Biodegradation Probability:': 'SCAS(OECD 302A) degradation 67% 24h', 'Octanol-Water Partition Coeff., log Kow:': '7.55', 'Fathead Minnow, 96-h LC50, mg/L:': '>1,000', 'Rainbow Trout, 96-h LC50, mg/L:': '>1,000', 'Rabbit Dermal, LD50, mg/kg:': '>7,940', 'Rat Oral, LD50, mg/kg:': '>14,000'}\n"
     ]
    }
   ],
   "source": [
    "from bs4 import BeautifulSoup\n",
    "import requests\n",
    "import pandas as pd\n",
    "import csv\n",
    "\n",
    "\n",
    "with open('97.html') as html_file:\n",
    "    soup = BeautifulSoup (html_file, 'lxml')\n",
    "\n",
    "chem = soup.find('table')\n",
    "chem_name = chem.tbody.tr.b.text # name of the chemical \n",
    "chem_info = chem.tbody.tr.td # first level of information \n",
    "\n",
    "\n",
    "list_temp=[]\n",
    "\n",
    "for div in chem_info.find_all('div'): #2nd level\n",
    "    temp =  div.dl.dd\n",
    "    for table in temp.find_all('table'): #3rd level \n",
    "        temp_1 = table.tbody.tr\n",
    "#         list_temp = []\n",
    "        for td in temp_1.find_all('td'): #4rd level -- actrual contents\n",
    "            list_temp.append(td.text)\n",
    "            \n",
    "temp_properties ={}\n",
    "\n",
    "for t_in in range(0, len(list_temp), 2):\n",
    "        temp_properties[list_temp[t_in]] = list_temp[t_in + 1]\n",
    "\n",
    "print(temp_properties)  \n",
    "\n",
    "# with open(\"file_data.csv\", \"w+\") as prop:\n",
    "#     for row in temp_properties.items():\n",
    "#         prop.write(row[0]+ \" \" + row[1] + \"\\n\")\n",
    "\n",
    "        # putting actual contents in to df\n",
    "#         temp_properties = {list_temp[0]:list_temp[1]}\n",
    "#         print (temp_properties)\n",
    "\n",
    "### at the 4rd level there are two variables: names of the properties and their numbers\n",
    "### How to put them into pandas dataframe???\n"
   ]
  },
  {
   "cell_type": "code",
   "execution_count": 13,
   "metadata": {},
   "outputs": [],
   "source": [
    "with open(\"file_data.csv\", \"w+\") as prop:\n",
    "    for row in temp_properties.items():\n",
    "        prop.write(row[0]+ \" \" + row[1] + \"\\n\")"
   ]
  },
  {
   "cell_type": "code",
   "execution_count": 14,
   "metadata": {},
   "outputs": [],
   "source": [
    "with open(\"file_data2.csv\", \"w+\") as prop:\n",
    "    for row in temp_properties.items():\n",
    "        prop.write(\"\\\"\"+row[0]+ \"\\\", \\\"\" + row[1] + \"\\\"\\n\")"
   ]
  },
  {
   "cell_type": "code",
   "execution_count": 15,
   "metadata": {},
   "outputs": [],
   "source": [
    "with open(\"file_data.txt\", \"w+\") as prop:\n",
    "    for row in temp_properties.items():\n",
    "        prop.write(row[0]+ \" \" + row[1] + \"\\n\")"
   ]
  },
  {
   "cell_type": "code",
   "execution_count": null,
   "metadata": {},
   "outputs": [],
   "source": []
  }
 ],
 "metadata": {
  "kernelspec": {
   "display_name": "Python 3",
   "language": "python",
   "name": "python3"
  },
  "language_info": {
   "codemirror_mode": {
    "name": "ipython",
    "version": 3
   },
   "file_extension": ".py",
   "mimetype": "text/x-python",
   "name": "python",
   "nbconvert_exporter": "python",
   "pygments_lexer": "ipython3",
   "version": "3.7.3"
  }
 },
 "nbformat": 4,
 "nbformat_minor": 2
}
