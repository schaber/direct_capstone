{
 "cells": [
  {
   "cell_type": "code",
   "execution_count": 1,
   "metadata": {},
   "outputs": [],
   "source": [
    "import sys\n",
    "sys.path.append('../modules')\n",
    "import likelihood_predictor\n",
    "from likelihood_predictor import PlastPredictor\n",
    "import numpy as np\n",
    "import pandas as pd\n",
    "import seaborn as sns\n",
    "import matplotlib.pyplot as plt\n",
    "import matplotlib.cm as cm\n",
    "from scipy.stats import zscore\n",
    "import pickle"
   ]
  },
  {
   "cell_type": "code",
   "execution_count": 2,
   "metadata": {},
   "outputs": [],
   "source": [
    "pl_full = pd.read_pickle('../database/plasticizer_data_v10_polarity.pkl')\n",
    "pl_pol = pd.concat([pl_full[pl_full.columns[1:195]], pl_full['Polarity']], axis=1)\n",
    "all_cols = pl_pol.columns.to_numpy()\n",
    "pl_data = pl_pol[all_cols].to_numpy()\n",
    "lin_data = pd.read_pickle('../database/linolein_test.pkl')\n",
    "lin_data['Polarity'] = 0.048856\n",
    "lin_data = lin_data[all_cols].to_numpy()\n",
    "org_full = pd.read_pickle('../database/org_polarity_v2.pkl')"
   ]
  },
  {
   "cell_type": "code",
   "execution_count": 3,
   "metadata": {},
   "outputs": [],
   "source": [
    "psim1 = open(\"pubs_similarity.txt\", 'r')\n",
    "psim11 = [line.rstrip('\\n') for line in psim1]\n",
    "psim2 = open(\"pubs_othersim.txt\", 'r')\n",
    "psim22 = [line.rstrip('\\n') for line in psim2]"
   ]
  },
  {
   "cell_type": "code",
   "execution_count": 4,
   "metadata": {},
   "outputs": [],
   "source": [
    "org_full\n",
    "org_full['Dsim'] = psim11\n",
    "org_full['Nasim'] = psim22"
   ]
  },
  {
   "cell_type": "code",
   "execution_count": 5,
   "metadata": {},
   "outputs": [],
   "source": [
    "org_full = org_full.sort_values(by ='Dsim')"
   ]
  },
  {
   "cell_type": "code",
   "execution_count": 6,
   "metadata": {},
   "outputs": [],
   "source": [
    "org_full = org_full[:5000]\n",
    "org_data = org_full[all_cols].to_numpy()"
   ]
  },
  {
   "cell_type": "code",
   "execution_count": 7,
   "metadata": {},
   "outputs": [],
   "source": [
    "pp = PlastPredictor()\n",
    "pp.load_model('savemodel.pkl', 'savescaler.pkl')"
   ]
  },
  {
   "cell_type": "code",
   "execution_count": 8,
   "metadata": {},
   "outputs": [
    {
     "data": {
      "text/plain": [
       "likelihood_predictor.PlastPredictor"
      ]
     },
     "execution_count": 8,
     "metadata": {},
     "output_type": "execute_result"
    }
   ],
   "source": [
    "type(pp)"
   ]
  },
  {
   "cell_type": "code",
   "execution_count": 9,
   "metadata": {},
   "outputs": [
    {
     "name": "stderr",
     "output_type": "stream",
     "text": [
      "../modules/likelihood_predictor.py:126: FutureWarning: elementwise comparison failed; returning scalar instead, but in the future will perform elementwise comparison\n",
      "  if type == 'prob':\n",
      "../modules/likelihood_predictor.py:128: FutureWarning: elementwise comparison failed; returning scalar instead, but in the future will perform elementwise comparison\n",
      "  elif type == 'binary':\n"
     ]
    }
   ],
   "source": [
    "pp.predict(pl_data, org_data)"
   ]
  },
  {
   "cell_type": "code",
   "execution_count": 11,
   "metadata": {},
   "outputs": [
    {
     "data": {
      "text/plain": [
       "(0.9806, 0.9285714285714286, array([0.99999822]))"
      ]
     },
     "execution_count": 11,
     "metadata": {},
     "output_type": "execute_result"
    }
   ],
   "source": [
    "org_acc = pp.predict(org_data, type='binary', class_id='neg')\n",
    "pl_acc = pp.predict(pl_data, type='binary', class_id='pos')\n",
    "lin_prob = pp.predict(lin_data)\n",
    "org_acc, pl_acc, lin_prob"
   ]
  },
  {
   "cell_type": "code",
   "execution_count": 12,
   "metadata": {},
   "outputs": [],
   "source": [
    "pl_probs = pp.predict(pl_data)\n",
    "pl_smiles = pl_full['SMILES'].to_numpy()\n",
    "org_probs = pp.predict(org_data)\n",
    "org_smiles = org_full['SMILES'].to_numpy()"
   ]
  },
  {
   "cell_type": "code",
   "execution_count": 13,
   "metadata": {},
   "outputs": [
    {
     "data": {
      "image/png": "[encoded data removed]",
      "text/plain": [
       "<Figure size 432x288 with 1 Axes>"
      ]
     },
     "metadata": {
      "needs_background": "light"
     },
     "output_type": "display_data"
    }
   ],
   "source": [
    "sns.distplot(pl_probs, hist=False)\n",
    "sns.distplot(org_probs, hist=False)\n",
    "plt.show()"
   ]
  },
  {
   "cell_type": "code",
   "execution_count": null,
   "metadata": {},
   "outputs": [],
   "source": []
  }
 ],
 "metadata": {
  "kernelspec": {
   "display_name": "Python 3",
   "language": "python",
   "name": "python3"
  },
  "language_info": {
   "codemirror_mode": {
    "name": "ipython",
    "version": 3
   },
   "file_extension": ".py",
   "mimetype": "text/x-python",
   "name": "python",
   "nbconvert_exporter": "python",
   "pygments_lexer": "ipython3",
   "version": "3.7.7"
  }
 },
 "nbformat": 4,
 "nbformat_minor": 4
}
