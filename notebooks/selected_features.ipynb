{
 "cells": [
  {
   "cell_type": "markdown",
   "metadata": {},
   "source": [
    "### This notebook is the continuation of the featurization_notebook where we got the features and saved them to a file."
   ]
  },
  {
   "cell_type": "code",
   "execution_count": 1,
   "metadata": {},
   "outputs": [],
   "source": [
    "import sys\n",
    "sys.path.append('../modules')\n",
    "import likelihood_predictor\n",
    "from likelihood_predictor import PlastPredictor\n",
    "import numpy as np\n",
    "import pandas as pd\n",
    "import seaborn as sns\n",
    "import matplotlib.pyplot as plt\n",
    "import matplotlib.cm as cm\n",
    "from scipy.stats import zscore\n",
    "import pickle\n",
    "from sklearn.feature_selection import SelectFromModel"
   ]
  },
  {
   "cell_type": "code",
   "execution_count": 2,
   "metadata": {},
   "outputs": [],
   "source": [
    "pl_full = pd.read_pickle('../database/plasticizer_data_v10_polarity.pkl')\n",
    "pl_pol = pd.concat([pl_full[pl_full.columns[1:195]], pl_full['Polarity']], axis=1)\n",
    "all_cols = pl_pol.columns.to_numpy()\n",
    "pl_data = pl_pol[all_cols].to_numpy()\n",
    "lin_data = pd.read_pickle('../database/linolein_test.pkl')\n",
    "lin_data['Polarity'] = 0.048856\n",
    "lin_data = lin_data[all_cols].to_numpy()\n",
    "org_full = pd.read_pickle('../database/org_polarity_v2.pkl')"
   ]
  },
  {
   "cell_type": "code",
   "execution_count": 3,
   "metadata": {},
   "outputs": [],
   "source": [
    "psim1 = open(\"pubs_similarity.txt\", 'r')\n",
    "psim11 = [line.rstrip('\\n') for line in psim1]\n",
    "psim2 = open(\"pubs_othersim.txt\", 'r')\n",
    "psim22 = [line.rstrip('\\n') for line in psim2]"
   ]
  },
  {
   "cell_type": "code",
   "execution_count": 4,
   "metadata": {},
   "outputs": [],
   "source": [
    "org_full\n",
    "org_full['Dsim'] = psim11\n",
    "org_full['Nasim'] = psim22\n",
    "org_full = org_full.sort_values(by ='Dsim')"
   ]
  },
  {
   "cell_type": "code",
   "execution_count": 5,
   "metadata": {},
   "outputs": [],
   "source": [
    "org_full = org_full[:5000]\n",
    "org_data = org_full[all_cols]"
   ]
  },
  {
   "cell_type": "code",
   "execution_count": 7,
   "metadata": {},
   "outputs": [],
   "source": [
    "pl_full = pd.read_excel('feature_final_selected.xls')"
   ]
  },
  {
   "cell_type": "code",
   "execution_count": 8,
   "metadata": {},
   "outputs": [
    {
     "data": {
      "text/html": [
       "<div>\n",
       "<style scoped>\n",
       "    .dataframe tbody tr th:only-of-type {\n",
       "        vertical-align: middle;\n",
       "    }\n",
       "\n",
       "    .dataframe tbody tr th {\n",
       "        vertical-align: top;\n",
       "    }\n",
       "\n",
       "    .dataframe thead th {\n",
       "        text-align: right;\n",
       "    }\n",
       "</style>\n",
       "<table border=\"1\" class=\"dataframe\">\n",
       "  <thead>\n",
       "    <tr style=\"text-align: right;\">\n",
       "      <th></th>\n",
       "      <th>Unnamed: 0</th>\n",
       "      <th>0</th>\n",
       "    </tr>\n",
       "  </thead>\n",
       "  <tbody>\n",
       "    <tr>\n",
       "      <th>0</th>\n",
       "      <td>25</td>\n",
       "      <td>-1.060000</td>\n",
       "    </tr>\n",
       "    <tr>\n",
       "      <th>1</th>\n",
       "      <td>5</td>\n",
       "      <td>0.000000</td>\n",
       "    </tr>\n",
       "    <tr>\n",
       "      <th>2</th>\n",
       "      <td>65</td>\n",
       "      <td>0.000000</td>\n",
       "    </tr>\n",
       "    <tr>\n",
       "      <th>3</th>\n",
       "      <td>110</td>\n",
       "      <td>0.000000</td>\n",
       "    </tr>\n",
       "    <tr>\n",
       "      <th>4</th>\n",
       "      <td>132</td>\n",
       "      <td>0.000000</td>\n",
       "    </tr>\n",
       "    <tr>\n",
       "      <th>5</th>\n",
       "      <td>177</td>\n",
       "      <td>0.000000</td>\n",
       "    </tr>\n",
       "    <tr>\n",
       "      <th>6</th>\n",
       "      <td>149</td>\n",
       "      <td>2.000000</td>\n",
       "    </tr>\n",
       "    <tr>\n",
       "      <th>7</th>\n",
       "      <td>101</td>\n",
       "      <td>4.000000</td>\n",
       "    </tr>\n",
       "    <tr>\n",
       "      <th>8</th>\n",
       "      <td>0</td>\n",
       "      <td>11.863075</td>\n",
       "    </tr>\n",
       "    <tr>\n",
       "      <th>9</th>\n",
       "      <td>44</td>\n",
       "      <td>13.213764</td>\n",
       "    </tr>\n",
       "    <tr>\n",
       "      <th>10</th>\n",
       "      <td>51</td>\n",
       "      <td>13.213764</td>\n",
       "    </tr>\n",
       "    <tr>\n",
       "      <th>11</th>\n",
       "      <td>86</td>\n",
       "      <td>16.536151</td>\n",
       "    </tr>\n",
       "    <tr>\n",
       "      <th>12</th>\n",
       "      <td>72</td>\n",
       "      <td>37.891219</td>\n",
       "    </tr>\n",
       "    <tr>\n",
       "      <th>13</th>\n",
       "      <td>73</td>\n",
       "      <td>64.208216</td>\n",
       "    </tr>\n",
       "    <tr>\n",
       "      <th>14</th>\n",
       "      <td>41</td>\n",
       "      <td>91.903165</td>\n",
       "    </tr>\n",
       "  </tbody>\n",
       "</table>\n",
       "</div>"
      ],
      "text/plain": [
       "    Unnamed: 0          0\n",
       "0           25  -1.060000\n",
       "1            5   0.000000\n",
       "2           65   0.000000\n",
       "3          110   0.000000\n",
       "4          132   0.000000\n",
       "5          177   0.000000\n",
       "6          149   2.000000\n",
       "7          101   4.000000\n",
       "8            0  11.863075\n",
       "9           44  13.213764\n",
       "10          51  13.213764\n",
       "11          86  16.536151\n",
       "12          72  37.891219\n",
       "13          73  64.208216\n",
       "14          41  91.903165"
      ]
     },
     "execution_count": 8,
     "metadata": {},
     "output_type": "execute_result"
    }
   ],
   "source": [
    "pl_full"
   ]
  },
  {
   "cell_type": "markdown",
   "metadata": {},
   "source": [
    "This is our df. Ignore the last column. We are focusing on the **zero** column, which are the positions of our relevant features."
   ]
  },
  {
   "cell_type": "code",
   "execution_count": 9,
   "metadata": {},
   "outputs": [],
   "source": [
    "pl_full.columns = ['feat_num', 'pl']"
   ]
  },
  {
   "cell_type": "code",
   "execution_count": 10,
   "metadata": {},
   "outputs": [],
   "source": [
    "pl_full = pl_full.sort_values(by='feat_num', ascending=True)"
   ]
  },
  {
   "cell_type": "code",
   "execution_count": 11,
   "metadata": {},
   "outputs": [],
   "source": [
    "pl_list = pl_full['pl'].to_list()"
   ]
  },
  {
   "cell_type": "code",
   "execution_count": 12,
   "metadata": {
    "scrolled": true
   },
   "outputs": [
    {
     "data": {
      "text/html": [
       "<div>\n",
       "<style scoped>\n",
       "    .dataframe tbody tr th:only-of-type {\n",
       "        vertical-align: middle;\n",
       "    }\n",
       "\n",
       "    .dataframe tbody tr th {\n",
       "        vertical-align: top;\n",
       "    }\n",
       "\n",
       "    .dataframe thead th {\n",
       "        text-align: right;\n",
       "    }\n",
       "</style>\n",
       "<table border=\"1\" class=\"dataframe\">\n",
       "  <thead>\n",
       "    <tr style=\"text-align: right;\">\n",
       "      <th></th>\n",
       "      <th>feat_num</th>\n",
       "      <th>pl</th>\n",
       "    </tr>\n",
       "  </thead>\n",
       "  <tbody>\n",
       "    <tr>\n",
       "      <th>8</th>\n",
       "      <td>0</td>\n",
       "      <td>11.863075</td>\n",
       "    </tr>\n",
       "    <tr>\n",
       "      <th>1</th>\n",
       "      <td>5</td>\n",
       "      <td>0.000000</td>\n",
       "    </tr>\n",
       "    <tr>\n",
       "      <th>0</th>\n",
       "      <td>25</td>\n",
       "      <td>-1.060000</td>\n",
       "    </tr>\n",
       "    <tr>\n",
       "      <th>14</th>\n",
       "      <td>41</td>\n",
       "      <td>91.903165</td>\n",
       "    </tr>\n",
       "    <tr>\n",
       "      <th>9</th>\n",
       "      <td>44</td>\n",
       "      <td>13.213764</td>\n",
       "    </tr>\n",
       "    <tr>\n",
       "      <th>10</th>\n",
       "      <td>51</td>\n",
       "      <td>13.213764</td>\n",
       "    </tr>\n",
       "    <tr>\n",
       "      <th>2</th>\n",
       "      <td>65</td>\n",
       "      <td>0.000000</td>\n",
       "    </tr>\n",
       "    <tr>\n",
       "      <th>12</th>\n",
       "      <td>72</td>\n",
       "      <td>37.891219</td>\n",
       "    </tr>\n",
       "    <tr>\n",
       "      <th>13</th>\n",
       "      <td>73</td>\n",
       "      <td>64.208216</td>\n",
       "    </tr>\n",
       "    <tr>\n",
       "      <th>11</th>\n",
       "      <td>86</td>\n",
       "      <td>16.536151</td>\n",
       "    </tr>\n",
       "    <tr>\n",
       "      <th>7</th>\n",
       "      <td>101</td>\n",
       "      <td>4.000000</td>\n",
       "    </tr>\n",
       "    <tr>\n",
       "      <th>3</th>\n",
       "      <td>110</td>\n",
       "      <td>0.000000</td>\n",
       "    </tr>\n",
       "    <tr>\n",
       "      <th>4</th>\n",
       "      <td>132</td>\n",
       "      <td>0.000000</td>\n",
       "    </tr>\n",
       "    <tr>\n",
       "      <th>6</th>\n",
       "      <td>149</td>\n",
       "      <td>2.000000</td>\n",
       "    </tr>\n",
       "    <tr>\n",
       "      <th>5</th>\n",
       "      <td>177</td>\n",
       "      <td>0.000000</td>\n",
       "    </tr>\n",
       "  </tbody>\n",
       "</table>\n",
       "</div>"
      ],
      "text/plain": [
       "    feat_num         pl\n",
       "8          0  11.863075\n",
       "1          5   0.000000\n",
       "0         25  -1.060000\n",
       "14        41  91.903165\n",
       "9         44  13.213764\n",
       "10        51  13.213764\n",
       "2         65   0.000000\n",
       "12        72  37.891219\n",
       "13        73  64.208216\n",
       "11        86  16.536151\n",
       "7        101   4.000000\n",
       "3        110   0.000000\n",
       "4        132   0.000000\n",
       "6        149   2.000000\n",
       "5        177   0.000000"
      ]
     },
     "execution_count": 12,
     "metadata": {},
     "output_type": "execute_result"
    }
   ],
   "source": [
    "pl_full"
   ]
  },
  {
   "cell_type": "code",
   "execution_count": 13,
   "metadata": {},
   "outputs": [],
   "source": [
    "positions = pl_full['feat_num'].to_list()"
   ]
  },
  {
   "cell_type": "code",
   "execution_count": 14,
   "metadata": {
    "scrolled": true
   },
   "outputs": [
    {
     "data": {
      "text/plain": [
       "[0, 5, 25, 41, 44, 51, 65, 72, 73, 86, 101, 110, 132, 149, 177]"
      ]
     },
     "execution_count": 14,
     "metadata": {},
     "output_type": "execute_result"
    }
   ],
   "source": [
    "positions"
   ]
  },
  {
   "cell_type": "code",
   "execution_count": 15,
   "metadata": {},
   "outputs": [],
   "source": [
    "feat = pl_pol.columns.to_list()"
   ]
  },
  {
   "cell_type": "code",
   "execution_count": 16,
   "metadata": {},
   "outputs": [],
   "source": [
    "sel_ft = []\n",
    "for i in positions:\n",
    "    sel_ft.append(feat[i])"
   ]
  },
  {
   "cell_type": "code",
   "execution_count": 17,
   "metadata": {},
   "outputs": [
    {
     "data": {
      "text/plain": [
       "['MaxEStateIndex',\n",
       " 'NumRadicalElectrons',\n",
       " 'HallKierAlpha',\n",
       " 'PEOE_VSA6',\n",
       " 'PEOE_VSA9',\n",
       " 'SMR_VSA6',\n",
       " 'SlogP_VSA8',\n",
       " 'EState_VSA3',\n",
       " 'EState_VSA4',\n",
       " 'VSA_EState7',\n",
       " 'NumHeteroatoms',\n",
       " 'fr_Al_OH',\n",
       " 'fr_aldehyde',\n",
       " 'fr_ester',\n",
       " 'fr_phos_ester']"
      ]
     },
     "execution_count": 17,
     "metadata": {},
     "output_type": "execute_result"
    }
   ],
   "source": [
    "sel_ft"
   ]
  },
  {
   "cell_type": "code",
   "execution_count": 18,
   "metadata": {},
   "outputs": [],
   "source": [
    "pl_pol=pl_pol.T"
   ]
  },
  {
   "cell_type": "code",
   "execution_count": 19,
   "metadata": {},
   "outputs": [],
   "source": [
    "pl_new = pl_pol.loc[sel_ft].T"
   ]
  },
  {
   "cell_type": "code",
   "execution_count": 20,
   "metadata": {},
   "outputs": [
    {
     "data": {
      "text/html": [
       "<div>\n",
       "<style scoped>\n",
       "    .dataframe tbody tr th:only-of-type {\n",
       "        vertical-align: middle;\n",
       "    }\n",
       "\n",
       "    .dataframe tbody tr th {\n",
       "        vertical-align: top;\n",
       "    }\n",
       "\n",
       "    .dataframe thead th {\n",
       "        text-align: right;\n",
       "    }\n",
       "</style>\n",
       "<table border=\"1\" class=\"dataframe\">\n",
       "  <thead>\n",
       "    <tr style=\"text-align: right;\">\n",
       "      <th></th>\n",
       "      <th>MaxEStateIndex</th>\n",
       "      <th>NumRadicalElectrons</th>\n",
       "      <th>HallKierAlpha</th>\n",
       "      <th>PEOE_VSA6</th>\n",
       "      <th>PEOE_VSA9</th>\n",
       "      <th>SMR_VSA6</th>\n",
       "      <th>SlogP_VSA8</th>\n",
       "      <th>EState_VSA3</th>\n",
       "      <th>EState_VSA4</th>\n",
       "      <th>VSA_EState7</th>\n",
       "      <th>NumHeteroatoms</th>\n",
       "      <th>fr_Al_OH</th>\n",
       "      <th>fr_aldehyde</th>\n",
       "      <th>fr_ester</th>\n",
       "      <th>fr_phos_ester</th>\n",
       "    </tr>\n",
       "  </thead>\n",
       "  <tbody>\n",
       "    <tr>\n",
       "      <th>0</th>\n",
       "      <td>11.863075</td>\n",
       "      <td>0.0</td>\n",
       "      <td>-1.06</td>\n",
       "      <td>91.903165</td>\n",
       "      <td>13.213764</td>\n",
       "      <td>13.213764</td>\n",
       "      <td>0.000000</td>\n",
       "      <td>37.891219</td>\n",
       "      <td>64.208216</td>\n",
       "      <td>16.536151</td>\n",
       "      <td>4.0</td>\n",
       "      <td>0.0</td>\n",
       "      <td>0.0</td>\n",
       "      <td>2.0</td>\n",
       "      <td>0.0</td>\n",
       "    </tr>\n",
       "    <tr>\n",
       "      <th>1</th>\n",
       "      <td>12.421299</td>\n",
       "      <td>0.0</td>\n",
       "      <td>-1.84</td>\n",
       "      <td>91.194256</td>\n",
       "      <td>24.340667</td>\n",
       "      <td>13.213764</td>\n",
       "      <td>0.000000</td>\n",
       "      <td>24.340667</td>\n",
       "      <td>50.360742</td>\n",
       "      <td>11.074329</td>\n",
       "      <td>4.0</td>\n",
       "      <td>0.0</td>\n",
       "      <td>0.0</td>\n",
       "      <td>2.0</td>\n",
       "      <td>0.0</td>\n",
       "    </tr>\n",
       "    <tr>\n",
       "      <th>2</th>\n",
       "      <td>11.276404</td>\n",
       "      <td>0.0</td>\n",
       "      <td>-0.78</td>\n",
       "      <td>48.530937</td>\n",
       "      <td>9.790967</td>\n",
       "      <td>0.000000</td>\n",
       "      <td>21.544897</td>\n",
       "      <td>17.193270</td>\n",
       "      <td>21.899351</td>\n",
       "      <td>0.501610</td>\n",
       "      <td>10.0</td>\n",
       "      <td>0.0</td>\n",
       "      <td>0.0</td>\n",
       "      <td>0.0</td>\n",
       "      <td>0.0</td>\n",
       "    </tr>\n",
       "    <tr>\n",
       "      <th>3</th>\n",
       "      <td>11.944745</td>\n",
       "      <td>0.0</td>\n",
       "      <td>-1.84</td>\n",
       "      <td>38.821852</td>\n",
       "      <td>24.340667</td>\n",
       "      <td>13.213764</td>\n",
       "      <td>0.000000</td>\n",
       "      <td>13.213764</td>\n",
       "      <td>25.683286</td>\n",
       "      <td>3.533412</td>\n",
       "      <td>4.0</td>\n",
       "      <td>0.0</td>\n",
       "      <td>0.0</td>\n",
       "      <td>2.0</td>\n",
       "      <td>0.0</td>\n",
       "    </tr>\n",
       "    <tr>\n",
       "      <th>4</th>\n",
       "      <td>11.268799</td>\n",
       "      <td>0.0</td>\n",
       "      <td>-1.06</td>\n",
       "      <td>27.694949</td>\n",
       "      <td>13.213764</td>\n",
       "      <td>13.213764</td>\n",
       "      <td>0.000000</td>\n",
       "      <td>50.732863</td>\n",
       "      <td>0.000000</td>\n",
       "      <td>2.106920</td>\n",
       "      <td>4.0</td>\n",
       "      <td>0.0</td>\n",
       "      <td>0.0</td>\n",
       "      <td>2.0</td>\n",
       "      <td>0.0</td>\n",
       "    </tr>\n",
       "    <tr>\n",
       "      <th>...</th>\n",
       "      <td>...</td>\n",
       "      <td>...</td>\n",
       "      <td>...</td>\n",
       "      <td>...</td>\n",
       "      <td>...</td>\n",
       "      <td>...</td>\n",
       "      <td>...</td>\n",
       "      <td>...</td>\n",
       "      <td>...</td>\n",
       "      <td>...</td>\n",
       "      <td>...</td>\n",
       "      <td>...</td>\n",
       "      <td>...</td>\n",
       "      <td>...</td>\n",
       "      <td>...</td>\n",
       "    </tr>\n",
       "    <tr>\n",
       "      <th>205</th>\n",
       "      <td>12.960039</td>\n",
       "      <td>0.0</td>\n",
       "      <td>-2.37</td>\n",
       "      <td>117.083536</td>\n",
       "      <td>36.511000</td>\n",
       "      <td>19.820646</td>\n",
       "      <td>0.000000</td>\n",
       "      <td>13.213764</td>\n",
       "      <td>57.787395</td>\n",
       "      <td>19.558226</td>\n",
       "      <td>6.0</td>\n",
       "      <td>0.0</td>\n",
       "      <td>0.0</td>\n",
       "      <td>3.0</td>\n",
       "      <td>0.0</td>\n",
       "    </tr>\n",
       "    <tr>\n",
       "      <th>206</th>\n",
       "      <td>5.117870</td>\n",
       "      <td>0.0</td>\n",
       "      <td>-2.28</td>\n",
       "      <td>54.616610</td>\n",
       "      <td>6.263163</td>\n",
       "      <td>0.000000</td>\n",
       "      <td>17.045264</td>\n",
       "      <td>0.000000</td>\n",
       "      <td>17.390066</td>\n",
       "      <td>7.195278</td>\n",
       "      <td>1.0</td>\n",
       "      <td>0.0</td>\n",
       "      <td>0.0</td>\n",
       "      <td>0.0</td>\n",
       "      <td>0.0</td>\n",
       "    </tr>\n",
       "    <tr>\n",
       "      <th>207</th>\n",
       "      <td>11.861333</td>\n",
       "      <td>0.0</td>\n",
       "      <td>-5.38</td>\n",
       "      <td>412.944246</td>\n",
       "      <td>0.000000</td>\n",
       "      <td>52.855056</td>\n",
       "      <td>0.000000</td>\n",
       "      <td>25.683286</td>\n",
       "      <td>64.208216</td>\n",
       "      <td>81.069210</td>\n",
       "      <td>22.0</td>\n",
       "      <td>2.0</td>\n",
       "      <td>0.0</td>\n",
       "      <td>10.0</td>\n",
       "      <td>0.0</td>\n",
       "    </tr>\n",
       "    <tr>\n",
       "      <th>208</th>\n",
       "      <td>12.889740</td>\n",
       "      <td>0.0</td>\n",
       "      <td>-1.46</td>\n",
       "      <td>19.056471</td>\n",
       "      <td>6.420822</td>\n",
       "      <td>29.749429</td>\n",
       "      <td>0.000000</td>\n",
       "      <td>47.770359</td>\n",
       "      <td>62.362365</td>\n",
       "      <td>9.929419</td>\n",
       "      <td>7.0</td>\n",
       "      <td>0.0</td>\n",
       "      <td>0.0</td>\n",
       "      <td>1.0</td>\n",
       "      <td>0.0</td>\n",
       "    </tr>\n",
       "    <tr>\n",
       "      <th>209</th>\n",
       "      <td>11.704706</td>\n",
       "      <td>0.0</td>\n",
       "      <td>-2.36</td>\n",
       "      <td>37.442646</td>\n",
       "      <td>11.126903</td>\n",
       "      <td>13.213764</td>\n",
       "      <td>0.000000</td>\n",
       "      <td>0.000000</td>\n",
       "      <td>0.000000</td>\n",
       "      <td>2.909816</td>\n",
       "      <td>4.0</td>\n",
       "      <td>0.0</td>\n",
       "      <td>0.0</td>\n",
       "      <td>2.0</td>\n",
       "      <td>0.0</td>\n",
       "    </tr>\n",
       "  </tbody>\n",
       "</table>\n",
       "<p>210 rows × 15 columns</p>\n",
       "</div>"
      ],
      "text/plain": [
       "     MaxEStateIndex  NumRadicalElectrons  HallKierAlpha   PEOE_VSA6  \\\n",
       "0         11.863075                  0.0          -1.06   91.903165   \n",
       "1         12.421299                  0.0          -1.84   91.194256   \n",
       "2         11.276404                  0.0          -0.78   48.530937   \n",
       "3         11.944745                  0.0          -1.84   38.821852   \n",
       "4         11.268799                  0.0          -1.06   27.694949   \n",
       "..              ...                  ...            ...         ...   \n",
       "205       12.960039                  0.0          -2.37  117.083536   \n",
       "206        5.117870                  0.0          -2.28   54.616610   \n",
       "207       11.861333                  0.0          -5.38  412.944246   \n",
       "208       12.889740                  0.0          -1.46   19.056471   \n",
       "209       11.704706                  0.0          -2.36   37.442646   \n",
       "\n",
       "     PEOE_VSA9   SMR_VSA6  SlogP_VSA8  EState_VSA3  EState_VSA4  VSA_EState7  \\\n",
       "0    13.213764  13.213764    0.000000    37.891219    64.208216    16.536151   \n",
       "1    24.340667  13.213764    0.000000    24.340667    50.360742    11.074329   \n",
       "2     9.790967   0.000000   21.544897    17.193270    21.899351     0.501610   \n",
       "3    24.340667  13.213764    0.000000    13.213764    25.683286     3.533412   \n",
       "4    13.213764  13.213764    0.000000    50.732863     0.000000     2.106920   \n",
       "..         ...        ...         ...          ...          ...          ...   \n",
       "205  36.511000  19.820646    0.000000    13.213764    57.787395    19.558226   \n",
       "206   6.263163   0.000000   17.045264     0.000000    17.390066     7.195278   \n",
       "207   0.000000  52.855056    0.000000    25.683286    64.208216    81.069210   \n",
       "208   6.420822  29.749429    0.000000    47.770359    62.362365     9.929419   \n",
       "209  11.126903  13.213764    0.000000     0.000000     0.000000     2.909816   \n",
       "\n",
       "     NumHeteroatoms  fr_Al_OH  fr_aldehyde  fr_ester  fr_phos_ester  \n",
       "0               4.0       0.0          0.0       2.0            0.0  \n",
       "1               4.0       0.0          0.0       2.0            0.0  \n",
       "2              10.0       0.0          0.0       0.0            0.0  \n",
       "3               4.0       0.0          0.0       2.0            0.0  \n",
       "4               4.0       0.0          0.0       2.0            0.0  \n",
       "..              ...       ...          ...       ...            ...  \n",
       "205             6.0       0.0          0.0       3.0            0.0  \n",
       "206             1.0       0.0          0.0       0.0            0.0  \n",
       "207            22.0       2.0          0.0      10.0            0.0  \n",
       "208             7.0       0.0          0.0       1.0            0.0  \n",
       "209             4.0       0.0          0.0       2.0            0.0  \n",
       "\n",
       "[210 rows x 15 columns]"
      ]
     },
     "execution_count": 20,
     "metadata": {},
     "output_type": "execute_result"
    }
   ],
   "source": [
    "pl_new"
   ]
  },
  {
   "cell_type": "code",
   "execution_count": 21,
   "metadata": {},
   "outputs": [],
   "source": [
    "org_data = org_data.T"
   ]
  },
  {
   "cell_type": "code",
   "execution_count": 22,
   "metadata": {},
   "outputs": [],
   "source": [
    "org_new = org_data.loc[sel_ft].T"
   ]
  },
  {
   "cell_type": "code",
   "execution_count": 23,
   "metadata": {},
   "outputs": [],
   "source": [
    "org_new.to_excel('new_selected_org.xls')"
   ]
  },
  {
   "cell_type": "code",
   "execution_count": 24,
   "metadata": {},
   "outputs": [],
   "source": [
    "pl_new.to_excel('new_selected_pl.xls')"
   ]
  },
  {
   "cell_type": "code",
   "execution_count": 25,
   "metadata": {},
   "outputs": [],
   "source": [
    "org_num = org_new.to_numpy()"
   ]
  },
  {
   "cell_type": "code",
   "execution_count": 26,
   "metadata": {},
   "outputs": [],
   "source": [
    "pl_num = pl_new.to_numpy()"
   ]
  },
  {
   "cell_type": "code",
   "execution_count": 27,
   "metadata": {},
   "outputs": [],
   "source": [
    "reg_param = 10\n",
    "pp = PlastPredictor(reg_param)\n",
    "pp_model = pp.fit_model(pl_num, org_num)\n"
   ]
  },
  {
   "cell_type": "code",
   "execution_count": 28,
   "metadata": {},
   "outputs": [],
   "source": [
    "org_acc = pp.predict(org_num, type='binary', class_id='neg')\n",
    "pl_acc = pp.predict(pl_num, type='binary', class_id='pos')\n",
    "cc=pp.clf.coef_"
   ]
  },
  {
   "cell_type": "code",
   "execution_count": 29,
   "metadata": {},
   "outputs": [
    {
     "data": {
      "text/plain": [
       "(15, 0.9554, 0.8952380952380953)"
      ]
     },
     "execution_count": 29,
     "metadata": {},
     "output_type": "execute_result"
    }
   ],
   "source": [
    "np.count_nonzero(cc), org_acc, pl_acc"
   ]
  },
  {
   "cell_type": "code",
   "execution_count": 30,
   "metadata": {},
   "outputs": [
    {
     "data": {
      "text/plain": [
       "['MaxEStateIndex',\n",
       " 'NumRadicalElectrons',\n",
       " 'HallKierAlpha',\n",
       " 'PEOE_VSA6',\n",
       " 'PEOE_VSA9',\n",
       " 'SMR_VSA6',\n",
       " 'SlogP_VSA8',\n",
       " 'EState_VSA3',\n",
       " 'EState_VSA4',\n",
       " 'VSA_EState7',\n",
       " 'NumHeteroatoms',\n",
       " 'fr_Al_OH',\n",
       " 'fr_aldehyde',\n",
       " 'fr_ester',\n",
       " 'fr_phos_ester']"
      ]
     },
     "execution_count": 30,
     "metadata": {},
     "output_type": "execute_result"
    }
   ],
   "source": [
    "sel_ft"
   ]
  },
  {
   "cell_type": "code",
   "execution_count": null,
   "metadata": {},
   "outputs": [],
   "source": []
  },
  {
   "cell_type": "code",
   "execution_count": null,
   "metadata": {},
   "outputs": [],
   "source": []
  }
 ],
 "metadata": {
  "kernelspec": {
   "display_name": "Python 3",
   "language": "python",
   "name": "python3"
  },
  "language_info": {
   "codemirror_mode": {
    "name": "ipython",
    "version": 3
   },
   "file_extension": ".py",
   "mimetype": "text/x-python",
   "name": "python",
   "nbconvert_exporter": "python",
   "pygments_lexer": "ipython3",
   "version": "3.7.7"
  }
 },
 "nbformat": 4,
 "nbformat_minor": 4
}
