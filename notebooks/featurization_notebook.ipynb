{
 "cells": [
  {
   "cell_type": "markdown",
   "metadata": {},
   "source": [
    "## This notebook shows how to select the important features for the organics and plasticizers."
   ]
  },
  {
   "cell_type": "code",
   "execution_count": 2,
   "metadata": {},
   "outputs": [],
   "source": [
    "import sys\n",
    "sys.path.append('../modules')\n",
    "import likelihood_predictor\n",
    "from likelihood_predictor import PlastPredictor\n",
    "import numpy as np\n",
    "import pandas as pd\n",
    "import seaborn as sns\n",
    "import matplotlib.pyplot as plt\n",
    "import matplotlib.cm as cm\n",
    "from scipy.stats import zscore\n",
    "import pickle\n",
    "from sklearn.feature_selection import SelectFromModel"
   ]
  },
  {
   "cell_type": "markdown",
   "metadata": {},
   "source": [
    "#### Importing data"
   ]
  },
  {
   "cell_type": "code",
   "execution_count": 3,
   "metadata": {},
   "outputs": [],
   "source": [
    "pl_full = pd.read_pickle('../database/plasticizer_data_v10_polarity.pkl')\n",
    "pl_pol = pd.concat([pl_full[pl_full.columns[1:195]], pl_full['Polarity']], axis=1)\n",
    "all_cols = pl_pol.columns.to_numpy()\n",
    "pl_data = pl_pol[all_cols].to_numpy()\n",
    "lin_data = pd.read_pickle('../database/linolein_test.pkl')\n",
    "lin_data['Polarity'] = 0.048856\n",
    "lin_data = lin_data[all_cols].to_numpy()\n",
    "org_full = pd.read_pickle('../database/org_polarity_v2.pkl')"
   ]
  },
  {
   "cell_type": "code",
   "execution_count": 4,
   "metadata": {},
   "outputs": [],
   "source": [
    "psim1 = open(\"pubs_similarity.txt\", 'r')\n",
    "psim11 = [line.rstrip('\\n') for line in psim1]\n",
    "psim2 = open(\"pubs_othersim.txt\", 'r')\n",
    "psim22 = [line.rstrip('\\n') for line in psim2]"
   ]
  },
  {
   "cell_type": "code",
   "execution_count": 5,
   "metadata": {},
   "outputs": [],
   "source": [
    "org_full\n",
    "org_full['Dsim'] = psim11\n",
    "org_full['Nasim'] = psim22\n",
    "org_full = org_full.sort_values(by ='Dsim')"
   ]
  },
  {
   "cell_type": "markdown",
   "metadata": {},
   "source": [
    "#### We are narrowing down our organics based on the similarity with DEHP phthalate and Sodium polynaphthalenesulfonate. Out of ~66k organics, we just selected 5k organics based on its similarity with plasticizers."
   ]
  },
  {
   "cell_type": "code",
   "execution_count": 6,
   "metadata": {},
   "outputs": [],
   "source": [
    "org_full = org_full[:5000]\n",
    "org_data = org_full[all_cols].to_numpy()"
   ]
  },
  {
   "cell_type": "markdown",
   "metadata": {},
   "source": [
    "This is where your quest for selecting the features begins. Reminder: We've 195 features in our db right now."
   ]
  },
  {
   "cell_type": "code",
   "execution_count": 7,
   "metadata": {},
   "outputs": [],
   "source": [
    "reg_param = 10\n",
    "pp = PlastPredictor(reg_param)\n",
    "pp_model = pp.fit_model(pl_data, org_data)\n"
   ]
  },
  {
   "cell_type": "code",
   "execution_count": 8,
   "metadata": {},
   "outputs": [],
   "source": [
    "org_acc = pp.predict(org_data, type='binary', class_id='neg')\n",
    "pl_acc = pp.predict(pl_data, type='binary', class_id='pos')"
   ]
  },
  {
   "cell_type": "code",
   "execution_count": 9,
   "metadata": {},
   "outputs": [],
   "source": [
    "cc=pp.clf.coef_"
   ]
  },
  {
   "cell_type": "markdown",
   "metadata": {},
   "source": [
    "I've printed the nonzero coeffs, org and pl accuracy after each run so that we know how they are changing after every step."
   ]
  },
  {
   "cell_type": "code",
   "execution_count": 10,
   "metadata": {},
   "outputs": [
    {
     "data": {
      "text/plain": [
       "104"
      ]
     },
     "execution_count": 10,
     "metadata": {},
     "output_type": "execute_result"
    }
   ],
   "source": [
    "np.count_nonzero(cc)"
   ]
  },
  {
   "cell_type": "markdown",
   "metadata": {},
   "source": [
    "**compar** places the True/False values for the features where coefficients are nonzero/zero respectively."
   ]
  },
  {
   "cell_type": "code",
   "execution_count": 11,
   "metadata": {},
   "outputs": [],
   "source": [
    "compar = cc[0] != 0\n",
    "compar = compar.tolist()"
   ]
  },
  {
   "cell_type": "code",
   "execution_count": 162,
   "metadata": {
    "scrolled": true
   },
   "outputs": [],
   "source": [
    "pl_temp = pl_data.tolist()\n",
    "org_temp = org_data.tolist()"
   ]
  },
  {
   "cell_type": "markdown",
   "metadata": {},
   "source": [
    "Modifying the pl_list and org_list as per the nonzero coefficients and the respective features and these will be used for the next run."
   ]
  },
  {
   "cell_type": "code",
   "execution_count": 163,
   "metadata": {},
   "outputs": [],
   "source": [
    "pl_list = []\n",
    "\n",
    "for i in range(0,210):\n",
    "    count = 0\n",
    "    p1 = []\n",
    "    for j in compar:\n",
    "        #print(j)\n",
    "        if j:\n",
    "#             print(type(j))\n",
    "            p1.append(pl_temp[i][count])\n",
    "        else:\n",
    "            p1.append(False)\n",
    "            \n",
    "        count += 1\n",
    "\n",
    "    pl_list.append(p1)\n",
    "    "
   ]
  },
  {
   "cell_type": "code",
   "execution_count": 164,
   "metadata": {},
   "outputs": [],
   "source": [
    "org_list = []\n",
    "\n",
    "for i in range(0, 5000):\n",
    "    count = 0\n",
    "    o1 = []\n",
    "    for j in compar:\n",
    "        if j:\n",
    "            o1.append(org_temp[i][count]) \n",
    "        else:\n",
    "            o1.append(False)\n",
    "           \n",
    "        count += 1\n",
    "            \n",
    "    org_list.append(o1)"
   ]
  },
  {
   "cell_type": "markdown",
   "metadata": {},
   "source": [
    "now we've both new orgs and pl list and we're gonna repeat the process."
   ]
  },
  {
   "cell_type": "code",
   "execution_count": 165,
   "metadata": {},
   "outputs": [],
   "source": [
    "pl_num = np.asarray(pl_list)\n",
    "org_num = np.asarray(org_list)\n",
    "\n",
    "reg_param = 10\n",
    "pp2 = PlastPredictor(reg_param)\n",
    "pp2_model = pp2.fit_model(pl_num, org_num)\n",
    "org_acc2 = pp2.predict(org_num, type='binary', class_id='neg')\n",
    "pl_acc2 = pp2.predict(pl_num, type='binary', class_id='pos')"
   ]
  },
  {
   "cell_type": "code",
   "execution_count": 166,
   "metadata": {},
   "outputs": [],
   "source": [
    "dd = pp2.clf.coef_\n",
    "\n",
    "compar2 = dd[0] != 0\n",
    "compar2 = compar2.tolist()"
   ]
  },
  {
   "cell_type": "code",
   "execution_count": 167,
   "metadata": {},
   "outputs": [
    {
     "data": {
      "text/plain": [
       "71"
      ]
     },
     "execution_count": 167,
     "metadata": {},
     "output_type": "execute_result"
    }
   ],
   "source": [
    "np.count_nonzero(dd)"
   ]
  },
  {
   "cell_type": "code",
   "execution_count": 168,
   "metadata": {},
   "outputs": [],
   "source": [
    "pl_list2 = []\n",
    "\n",
    "for i in range(0, 210):\n",
    "    count = 0\n",
    "    p2 = []\n",
    "    for j in compar2:\n",
    "        if j:\n",
    "            p2.append(pl_list[i][count])\n",
    "        else:\n",
    "            p2.append(False)\n",
    "            \n",
    "        count += 1\n",
    "            \n",
    "    pl_list2.append(p2)"
   ]
  },
  {
   "cell_type": "code",
   "execution_count": 169,
   "metadata": {},
   "outputs": [],
   "source": [
    "org_list2 = []\n",
    "\n",
    "for i in range(0, 5000):\n",
    "    count = 0\n",
    "    o2 = []\n",
    "    for j in compar2:\n",
    "        if j:\n",
    "            o2.append(org_list[i][count]) \n",
    "        else:\n",
    "            o2.append(False)\n",
    "           \n",
    "        count += 1\n",
    "            \n",
    "    org_list2.append(o2)"
   ]
  },
  {
   "cell_type": "code",
   "execution_count": 193,
   "metadata": {},
   "outputs": [],
   "source": [
    "pl_num2 = np.asarray(pl_list2)\n",
    "org_num2 = np.asarray(org_list2)\n",
    "\n",
    "reg_param = 10\n",
    "pp3 = PlastPredictor(reg_param)\n",
    "pp3_model = pp3.fit_model(pl_num2, org_num2)\n",
    "org_acc3 = pp3.predict(org_num2, type='binary', class_id='neg')\n",
    "pl_acc3 = pp3.predict(pl_num2, type='binary', class_id='pos')"
   ]
  },
  {
   "cell_type": "code",
   "execution_count": 194,
   "metadata": {},
   "outputs": [],
   "source": [
    "ee = pp3.clf.coef_\n",
    "\n",
    "compar3 = ee[0] != 0\n",
    "compar3 = compar3.tolist()"
   ]
  },
  {
   "cell_type": "code",
   "execution_count": 195,
   "metadata": {},
   "outputs": [
    {
     "data": {
      "text/plain": [
       "59"
      ]
     },
     "execution_count": 195,
     "metadata": {},
     "output_type": "execute_result"
    }
   ],
   "source": [
    "np.count_nonzero(ee)"
   ]
  },
  {
   "cell_type": "markdown",
   "metadata": {},
   "source": [
    "#### yeah and this process keeps happening for eternity. Now you can skip at the end of the notebook, where I saved the final pl_list and org_list to an excel file and use that file to get the relevant features which are discussed in the other notebook."
   ]
  },
  {
   "cell_type": "code",
   "execution_count": 196,
   "metadata": {},
   "outputs": [],
   "source": [
    "pl_list3 = []\n",
    "\n",
    "for i in range(0, 210):\n",
    "    count = 0\n",
    "    p3 = []\n",
    "    for j in compar3:\n",
    "        if j:\n",
    "            p3.append(pl_list2[i][count])\n",
    "        else:\n",
    "            p3.append(False)\n",
    "            \n",
    "        count += 1\n",
    "            \n",
    "    pl_list3.append(p3)"
   ]
  },
  {
   "cell_type": "code",
   "execution_count": 197,
   "metadata": {},
   "outputs": [],
   "source": [
    "org_list3 = []\n",
    "\n",
    "for i in range(0, 5000):\n",
    "    count = 0\n",
    "    o3 = []\n",
    "    for j in compar3:\n",
    "        if j:\n",
    "            o3.append(org_list2[i][count]) \n",
    "        else:\n",
    "            o3.append(False)\n",
    "           \n",
    "        count += 1\n",
    "            \n",
    "    org_list3.append(o3)"
   ]
  },
  {
   "cell_type": "code",
   "execution_count": 198,
   "metadata": {},
   "outputs": [],
   "source": [
    "pl_num3 = np.asarray(pl_list3)\n",
    "org_num3 = np.asarray(org_list3)\n",
    "\n",
    "reg_param = 10\n",
    "pp4 = PlastPredictor(reg_param)\n",
    "pp4_model = pp4.fit_model(pl_num3, org_num3)\n",
    "org_acc4 = pp4.predict(org_num3, type='binary', class_id='neg')\n",
    "pl_acc4 = pp4.predict(pl_num3, type='binary', class_id='pos')"
   ]
  },
  {
   "cell_type": "code",
   "execution_count": 199,
   "metadata": {},
   "outputs": [],
   "source": [
    "ff = pp4.clf.coef_\n",
    "\n",
    "compar4 = ff[0] != 0\n",
    "compar4 = compar4.tolist()"
   ]
  },
  {
   "cell_type": "code",
   "execution_count": 200,
   "metadata": {},
   "outputs": [
    {
     "data": {
      "text/plain": [
       "56"
      ]
     },
     "execution_count": 200,
     "metadata": {},
     "output_type": "execute_result"
    }
   ],
   "source": [
    "np.count_nonzero(ff)"
   ]
  },
  {
   "cell_type": "code",
   "execution_count": 201,
   "metadata": {},
   "outputs": [],
   "source": [
    "pl_list4 = []\n",
    "\n",
    "for i in range(0, 210):\n",
    "    count = 0\n",
    "    p4 = []\n",
    "    for j in compar4:\n",
    "        if j:\n",
    "            p4.append(pl_list3[i][count])\n",
    "        else:\n",
    "            p4.append(False)\n",
    "            \n",
    "        count += 1\n",
    "            \n",
    "    pl_list4.append(p4)"
   ]
  },
  {
   "cell_type": "code",
   "execution_count": 202,
   "metadata": {},
   "outputs": [],
   "source": [
    "org_list4 = []\n",
    "\n",
    "for i in range(0, 5000):\n",
    "    count = 0\n",
    "    o4 = []\n",
    "    for j in compar4:\n",
    "        if j:\n",
    "            o4.append(org_list3[i][count]) \n",
    "        else:\n",
    "            o4.append(False)\n",
    "           \n",
    "        count += 1\n",
    "            \n",
    "    org_list4.append(o4)"
   ]
  },
  {
   "cell_type": "code",
   "execution_count": 203,
   "metadata": {},
   "outputs": [
    {
     "data": {
      "text/plain": [
       "(56, 0.9664, 0.9238095238095239)"
      ]
     },
     "execution_count": 203,
     "metadata": {},
     "output_type": "execute_result"
    }
   ],
   "source": [
    "np.count_nonzero(ff), org_acc4, pl_acc4"
   ]
  },
  {
   "cell_type": "code",
   "execution_count": 225,
   "metadata": {},
   "outputs": [],
   "source": [
    "pl_num4 = np.asarray(pl_list4)\n",
    "org_num4 = np.asarray(org_list4)\n",
    "\n",
    "reg_param = 10\n",
    "pp5 = PlastPredictor(reg_param)\n",
    "pp5_model = pp5.fit_model(pl_num4, org_num4)\n",
    "org_acc5 = pp5.predict(org_num4, type='binary', class_id='neg')\n",
    "pl_acc5 = pp5.predict(pl_num4, type='binary', class_id='pos')"
   ]
  },
  {
   "cell_type": "code",
   "execution_count": 226,
   "metadata": {},
   "outputs": [],
   "source": [
    "gg = pp5.clf.coef_\n",
    "\n",
    "compar5 = gg[0] != 0\n",
    "compar5 = compar5.tolist()"
   ]
  },
  {
   "cell_type": "code",
   "execution_count": 227,
   "metadata": {},
   "outputs": [
    {
     "data": {
      "text/plain": [
       "(51, 0.954, 0.9238095238095239)"
      ]
     },
     "execution_count": 227,
     "metadata": {},
     "output_type": "execute_result"
    }
   ],
   "source": [
    "np.count_nonzero(gg), org_acc5, pl_acc5"
   ]
  },
  {
   "cell_type": "code",
   "execution_count": 228,
   "metadata": {},
   "outputs": [],
   "source": [
    "pl_list5 = []\n",
    "\n",
    "for i in range(0, 210):\n",
    "    count = 0\n",
    "    p5 = []\n",
    "    for j in compar5:\n",
    "        if j:\n",
    "            p5.append(pl_list4[i][count])\n",
    "        else:\n",
    "            p5.append(False)\n",
    "            \n",
    "        count += 1\n",
    "            \n",
    "    pl_list5.append(p5)"
   ]
  },
  {
   "cell_type": "code",
   "execution_count": 229,
   "metadata": {},
   "outputs": [],
   "source": [
    "org_list5 = []\n",
    "\n",
    "for i in range(0, 5000):\n",
    "    count = 0\n",
    "    o5 = []\n",
    "    for j in compar5:\n",
    "        if j:\n",
    "            o5.append(org_list4[i][count]) \n",
    "        else:\n",
    "            o5.append(False)\n",
    "           \n",
    "        count += 1\n",
    "            \n",
    "    org_list5.append(o5)"
   ]
  },
  {
   "cell_type": "code",
   "execution_count": 239,
   "metadata": {},
   "outputs": [],
   "source": [
    "pl_num5 = np.asarray(pl_list5)\n",
    "org_num5 = np.asarray(org_list5)\n",
    "\n",
    "reg_param = 10\n",
    "pp6 = PlastPredictor(reg_param)\n",
    "pp6_model = pp6.fit_model(pl_num5, org_num5)\n",
    "org_acc6 = pp6.predict(org_num5, type='binary', class_id='neg')\n",
    "pl_acc6 = pp6.predict(pl_num5, type='binary', class_id='pos')"
   ]
  },
  {
   "cell_type": "code",
   "execution_count": 240,
   "metadata": {},
   "outputs": [],
   "source": [
    "hh = pp6.clf.coef_\n",
    "\n",
    "compar6 = hh[0] != 0\n",
    "compar6 = compar6.tolist()"
   ]
  },
  {
   "cell_type": "code",
   "execution_count": 241,
   "metadata": {},
   "outputs": [
    {
     "data": {
      "text/plain": [
       "(48, 0.9682, 0.9380952380952381)"
      ]
     },
     "execution_count": 241,
     "metadata": {},
     "output_type": "execute_result"
    }
   ],
   "source": [
    "np.count_nonzero(hh), org_acc6, pl_acc6"
   ]
  },
  {
   "cell_type": "code",
   "execution_count": 242,
   "metadata": {},
   "outputs": [],
   "source": [
    "pl_list6 = []\n",
    "\n",
    "for i in range(0, 210):\n",
    "    count = 0\n",
    "    p6 = []\n",
    "    for j in compar6:\n",
    "        if j:\n",
    "            p6.append(pl_list5[i][count])\n",
    "        else:\n",
    "            p6.append(False)\n",
    "            \n",
    "        count += 1\n",
    "            \n",
    "    pl_list6.append(p6)"
   ]
  },
  {
   "cell_type": "code",
   "execution_count": 243,
   "metadata": {},
   "outputs": [],
   "source": [
    "org_list6 = []\n",
    "\n",
    "for i in range(0, 5000):\n",
    "    count = 0\n",
    "    o6 = []\n",
    "    for j in compar6:\n",
    "        if j:\n",
    "            o6.append(org_list5[i][count]) \n",
    "        else:\n",
    "            o6.append(False)\n",
    "           \n",
    "        count += 1\n",
    "            \n",
    "    org_list6.append(o6)"
   ]
  },
  {
   "cell_type": "code",
   "execution_count": 262,
   "metadata": {},
   "outputs": [],
   "source": [
    "pl_num6 = np.asarray(pl_list6)\n",
    "org_num6 = np.asarray(org_list6)\n",
    "\n",
    "reg_param = 10\n",
    "pp7 = PlastPredictor(reg_param)\n",
    "pp7_model = pp7.fit_model(pl_num6, org_num6)\n",
    "org_acc7 = pp7.predict(org_num6, type='binary', class_id='neg')\n",
    "pl_acc7 = pp7.predict(pl_num6, type='binary', class_id='pos')"
   ]
  },
  {
   "cell_type": "code",
   "execution_count": 263,
   "metadata": {},
   "outputs": [],
   "source": [
    "ii = pp7.clf.coef_\n",
    "\n",
    "compar7 = ii[0] != 0\n",
    "compar7 = compar7.tolist()"
   ]
  },
  {
   "cell_type": "code",
   "execution_count": 264,
   "metadata": {},
   "outputs": [
    {
     "data": {
      "text/plain": [
       "(45, 0.9766, 0.9285714285714286)"
      ]
     },
     "execution_count": 264,
     "metadata": {},
     "output_type": "execute_result"
    }
   ],
   "source": [
    "np.count_nonzero(ii), org_acc7, pl_acc7"
   ]
  },
  {
   "cell_type": "code",
   "execution_count": 265,
   "metadata": {},
   "outputs": [],
   "source": [
    "pl_list7 = []\n",
    "\n",
    "for i in range(0, 210):\n",
    "    count = 0\n",
    "    p7 = []\n",
    "    for j in compar7:\n",
    "        if j:\n",
    "            p7.append(pl_list6[i][count])\n",
    "        else:\n",
    "            p7.append(False)\n",
    "            \n",
    "        count += 1\n",
    "            \n",
    "    pl_list7.append(p7)"
   ]
  },
  {
   "cell_type": "code",
   "execution_count": 266,
   "metadata": {},
   "outputs": [],
   "source": [
    "org_list7 = []\n",
    "\n",
    "for i in range(0, 5000):\n",
    "    count = 0\n",
    "    o7 = []\n",
    "    for j in compar7:\n",
    "        if j:\n",
    "            o7.append(org_list6[i][count]) \n",
    "        else:\n",
    "            o7.append(False)\n",
    "           \n",
    "        count += 1\n",
    "            \n",
    "    org_list7.append(o7)"
   ]
  },
  {
   "cell_type": "code",
   "execution_count": 270,
   "metadata": {},
   "outputs": [],
   "source": [
    "pl_num7 = np.asarray(pl_list7)\n",
    "org_num7 = np.asarray(org_list7)\n",
    "\n",
    "reg_param = 10\n",
    "pp8 = PlastPredictor(reg_param)\n",
    "pp8_model = pp8.fit_model(pl_num7, org_num7)\n",
    "org_acc8 = pp8.predict(org_num7, type='binary', class_id='neg')\n",
    "pl_acc8 = pp8.predict(pl_num7, type='binary', class_id='pos')"
   ]
  },
  {
   "cell_type": "code",
   "execution_count": 271,
   "metadata": {},
   "outputs": [],
   "source": [
    "jj = pp8.clf.coef_\n",
    "\n",
    "compar8 = jj[0] != 0\n",
    "compar8 = compar8.tolist()"
   ]
  },
  {
   "cell_type": "code",
   "execution_count": 272,
   "metadata": {},
   "outputs": [
    {
     "data": {
      "text/plain": [
       "(44, 0.9734, 0.9285714285714286)"
      ]
     },
     "execution_count": 272,
     "metadata": {},
     "output_type": "execute_result"
    }
   ],
   "source": [
    "np.count_nonzero(jj), org_acc8, pl_acc8"
   ]
  },
  {
   "cell_type": "code",
   "execution_count": 273,
   "metadata": {},
   "outputs": [],
   "source": [
    "pl_list8 = []\n",
    "\n",
    "for i in range(0, 210):\n",
    "    count = 0\n",
    "    p8 = []\n",
    "    for j in compar8:\n",
    "        if j:\n",
    "            p8.append(pl_list7[i][count])\n",
    "        else:\n",
    "            p8.append(False)\n",
    "            \n",
    "        count += 1\n",
    "            \n",
    "    pl_list8.append(p8)"
   ]
  },
  {
   "cell_type": "code",
   "execution_count": 274,
   "metadata": {},
   "outputs": [],
   "source": [
    "org_list8 = []\n",
    "\n",
    "for i in range(0, 5000):\n",
    "    count = 0\n",
    "    o8 = []\n",
    "    for j in compar8:\n",
    "        if j:\n",
    "            o8.append(org_list7[i][count]) \n",
    "        else:\n",
    "            o8.append(False)\n",
    "           \n",
    "        count += 1\n",
    "            \n",
    "    org_list8.append(o8)"
   ]
  },
  {
   "cell_type": "code",
   "execution_count": 275,
   "metadata": {},
   "outputs": [],
   "source": [
    "pl_num8 = np.asarray(pl_list8)\n",
    "org_num8 = np.asarray(org_list8)\n",
    "\n",
    "reg_param = 10\n",
    "pp9 = PlastPredictor(reg_param)\n",
    "pp9_model = pp9.fit_model(pl_num8, org_num8)\n",
    "org_acc9 = pp9.predict(org_num8, type='binary', class_id='neg')\n",
    "pl_acc9 = pp9.predict(pl_num8, type='binary', class_id='pos')"
   ]
  },
  {
   "cell_type": "code",
   "execution_count": 276,
   "metadata": {},
   "outputs": [],
   "source": [
    "kk = pp9.clf.coef_\n",
    "\n",
    "compar9 = kk[0] != 0\n",
    "compar9 = compar9.tolist()"
   ]
  },
  {
   "cell_type": "code",
   "execution_count": 277,
   "metadata": {},
   "outputs": [
    {
     "data": {
      "text/plain": [
       "(43, 0.9692, 0.9571428571428572)"
      ]
     },
     "execution_count": 277,
     "metadata": {},
     "output_type": "execute_result"
    }
   ],
   "source": [
    "np.count_nonzero(kk), org_acc9, pl_acc9"
   ]
  },
  {
   "cell_type": "code",
   "execution_count": 278,
   "metadata": {},
   "outputs": [],
   "source": [
    "pl_list9 = []\n",
    "\n",
    "for i in range(0, 210):\n",
    "    count = 0\n",
    "    p9 = []\n",
    "    for j in compar9:\n",
    "        if j:\n",
    "            p9.append(pl_list8[i][count])\n",
    "        else:\n",
    "            p9.append(False)\n",
    "            \n",
    "        count += 1\n",
    "            \n",
    "    pl_list9.append(p9)"
   ]
  },
  {
   "cell_type": "code",
   "execution_count": 279,
   "metadata": {},
   "outputs": [],
   "source": [
    "org_list9 = []\n",
    "\n",
    "for i in range(0, 5000):\n",
    "    count = 0\n",
    "    o9 = []\n",
    "    for j in compar9:\n",
    "        if j:\n",
    "            o9.append(org_list8[i][count]) \n",
    "        else:\n",
    "            o9.append(False)\n",
    "           \n",
    "        count += 1\n",
    "            \n",
    "    org_list9.append(o9)"
   ]
  },
  {
   "cell_type": "code",
   "execution_count": 280,
   "metadata": {},
   "outputs": [],
   "source": [
    "pl_num9 = np.asarray(pl_list9)\n",
    "org_num9 = np.asarray(org_list9)\n",
    "\n",
    "reg_param = 10\n",
    "pp10 = PlastPredictor(reg_param)\n",
    "pp10_model = pp10.fit_model(pl_num9, org_num9)\n",
    "org_acc10 = pp10.predict(org_num9, type='binary', class_id='neg')\n",
    "pl_acc10 = pp10.predict(pl_num9, type='binary', class_id='pos')"
   ]
  },
  {
   "cell_type": "code",
   "execution_count": 281,
   "metadata": {},
   "outputs": [],
   "source": [
    "ll = pp10.clf.coef_\n",
    "\n",
    "compar10 = ll[0] != 0\n",
    "compar10 = compar10.tolist()"
   ]
  },
  {
   "cell_type": "code",
   "execution_count": 282,
   "metadata": {},
   "outputs": [
    {
     "data": {
      "text/plain": [
       "(42, 0.9616, 0.9238095238095239)"
      ]
     },
     "execution_count": 282,
     "metadata": {},
     "output_type": "execute_result"
    }
   ],
   "source": [
    "np.count_nonzero(ll), org_acc10, pl_acc10"
   ]
  },
  {
   "cell_type": "code",
   "execution_count": 283,
   "metadata": {},
   "outputs": [],
   "source": [
    "pl_list10 = []\n",
    "\n",
    "for i in range(0, 210):\n",
    "    count = 0\n",
    "    p10 = []\n",
    "    for j in compar10:\n",
    "        if j:\n",
    "            p10.append(pl_list9[i][count])\n",
    "        else:\n",
    "            p10.append(False)\n",
    "            \n",
    "        count += 1\n",
    "            \n",
    "    pl_list10.append(p10)"
   ]
  },
  {
   "cell_type": "code",
   "execution_count": 284,
   "metadata": {},
   "outputs": [],
   "source": [
    "org_list10 = []\n",
    "\n",
    "for i in range(0, 5000):\n",
    "    count = 0\n",
    "    o10 = []\n",
    "    for j in compar10:\n",
    "        if j:\n",
    "            o10.append(org_list9[i][count]) \n",
    "        else:\n",
    "            o10.append(False)\n",
    "           \n",
    "        count += 1\n",
    "            \n",
    "    org_list10.append(o10)"
   ]
  },
  {
   "cell_type": "code",
   "execution_count": 285,
   "metadata": {},
   "outputs": [],
   "source": [
    "pl_num10 = np.asarray(pl_list10)\n",
    "org_num10 = np.asarray(org_list10)\n",
    "\n",
    "reg_param = 10\n",
    "pp11 = PlastPredictor(reg_param)\n",
    "pp11_model = pp11.fit_model(pl_num10, org_num10)\n",
    "org_acc11 = pp11.predict(org_num10, type='binary', class_id='neg')\n",
    "pl_acc11 = pp11.predict(pl_num10, type='binary', class_id='pos')"
   ]
  },
  {
   "cell_type": "code",
   "execution_count": 286,
   "metadata": {},
   "outputs": [],
   "source": [
    "mm = pp11.clf.coef_\n",
    "\n",
    "compar11 = mm[0] != 0\n",
    "compar11 = compar11.tolist()"
   ]
  },
  {
   "cell_type": "code",
   "execution_count": 287,
   "metadata": {},
   "outputs": [
    {
     "data": {
      "text/plain": [
       "(40, 0.9632, 0.9428571428571428)"
      ]
     },
     "execution_count": 287,
     "metadata": {},
     "output_type": "execute_result"
    }
   ],
   "source": [
    "np.count_nonzero(mm), org_acc11, pl_acc11"
   ]
  },
  {
   "cell_type": "code",
   "execution_count": 288,
   "metadata": {},
   "outputs": [],
   "source": [
    "pl_list11 = []\n",
    "\n",
    "for i in range(0, 210):\n",
    "    count = 0\n",
    "    p11 = []\n",
    "    for j in compar11:\n",
    "        if j:\n",
    "            p11.append(pl_list10[i][count])\n",
    "        else:\n",
    "            p11.append(False)\n",
    "            \n",
    "        count += 1\n",
    "            \n",
    "    pl_list11.append(p11)"
   ]
  },
  {
   "cell_type": "code",
   "execution_count": 289,
   "metadata": {},
   "outputs": [],
   "source": [
    "org_list11 = []\n",
    "\n",
    "for i in range(0, 5000):\n",
    "    count = 0\n",
    "    o11 = []\n",
    "    for j in compar11:\n",
    "        if j:\n",
    "            o11.append(org_list10[i][count]) \n",
    "        else:\n",
    "            o11.append(False)\n",
    "           \n",
    "        count += 1\n",
    "            \n",
    "    org_list11.append(o11)"
   ]
  },
  {
   "cell_type": "code",
   "execution_count": 290,
   "metadata": {},
   "outputs": [],
   "source": [
    "pl_num11 = np.asarray(pl_list11)\n",
    "org_num11 = np.asarray(org_list11)\n",
    "\n",
    "reg_param = 10\n",
    "pp12 = PlastPredictor(reg_param)\n",
    "pp12_model = pp12.fit_model(pl_num11, org_num11)\n",
    "org_acc12 = pp12.predict(org_num11, type='binary', class_id='neg')\n",
    "pl_acc12 = pp12.predict(pl_num11, type='binary', class_id='pos')"
   ]
  },
  {
   "cell_type": "code",
   "execution_count": 291,
   "metadata": {},
   "outputs": [],
   "source": [
    "nn = pp12.clf.coef_\n",
    "\n",
    "compar12 = mm[0] != 0\n",
    "compar12 = compar12.tolist()"
   ]
  },
  {
   "cell_type": "code",
   "execution_count": 292,
   "metadata": {},
   "outputs": [
    {
     "data": {
      "text/plain": [
       "(40, 0.9594, 0.9238095238095239)"
      ]
     },
     "execution_count": 292,
     "metadata": {},
     "output_type": "execute_result"
    }
   ],
   "source": [
    "np.count_nonzero(nn), org_acc12, pl_acc12"
   ]
  },
  {
   "cell_type": "code",
   "execution_count": 293,
   "metadata": {},
   "outputs": [],
   "source": [
    "pl_list12 = []\n",
    "\n",
    "for i in range(0, 210):\n",
    "    count = 0\n",
    "    p12 = []\n",
    "    for j in compar12:\n",
    "        if j:\n",
    "            p12.append(pl_list11[i][count])\n",
    "        else:\n",
    "            p12.append(False)\n",
    "            \n",
    "        count += 1\n",
    "            \n",
    "    pl_list12.append(p12)"
   ]
  },
  {
   "cell_type": "code",
   "execution_count": 294,
   "metadata": {},
   "outputs": [],
   "source": [
    "org_list12 = []\n",
    "\n",
    "for i in range(0, 5000):\n",
    "    count = 0\n",
    "    o12 = []\n",
    "    for j in compar12:\n",
    "        if j:\n",
    "            o12.append(org_list11[i][count]) \n",
    "        else:\n",
    "            o12.append(False)\n",
    "           \n",
    "        count += 1\n",
    "            \n",
    "    org_list12.append(o12)"
   ]
  },
  {
   "cell_type": "code",
   "execution_count": 304,
   "metadata": {},
   "outputs": [],
   "source": [
    "pl_num12 = np.asarray(pl_list12)\n",
    "org_num12 = np.asarray(org_list12)\n",
    "\n",
    "reg_param = 10\n",
    "pp13 = PlastPredictor(reg_param)\n",
    "pp13_model = pp13.fit_model(pl_num12, org_num12)\n",
    "org_acc13 = pp13.predict(org_num12, type='binary', class_id='neg')\n",
    "pl_acc13 = pp13.predict(pl_num12, type='binary', class_id='pos')"
   ]
  },
  {
   "cell_type": "code",
   "execution_count": 305,
   "metadata": {},
   "outputs": [],
   "source": [
    "oo = pp13.clf.coef_\n",
    "\n",
    "compar13 = oo[0] != 0\n",
    "compar13 = compar13.tolist()"
   ]
  },
  {
   "cell_type": "code",
   "execution_count": 306,
   "metadata": {},
   "outputs": [
    {
     "data": {
      "text/plain": [
       "(39, 0.9676, 0.9428571428571428)"
      ]
     },
     "execution_count": 306,
     "metadata": {},
     "output_type": "execute_result"
    }
   ],
   "source": [
    "np.count_nonzero(oo), org_acc13, pl_acc13"
   ]
  },
  {
   "cell_type": "code",
   "execution_count": 307,
   "metadata": {},
   "outputs": [],
   "source": [
    "pl_list13 = []\n",
    "\n",
    "for i in range(0, 210):\n",
    "    count = 0\n",
    "    p13 = []\n",
    "    for j in compar13:\n",
    "        if j:\n",
    "            p13.append(pl_list12[i][count])\n",
    "        else:\n",
    "            p13.append(False)\n",
    "            \n",
    "        count += 1\n",
    "            \n",
    "    pl_list13.append(p13)"
   ]
  },
  {
   "cell_type": "code",
   "execution_count": 308,
   "metadata": {},
   "outputs": [],
   "source": [
    "org_list13 = []\n",
    "\n",
    "for i in range(0, 5000):\n",
    "    count = 0\n",
    "    o13 = []\n",
    "    for j in compar13:\n",
    "        if j:\n",
    "            o13.append(org_list12[i][count]) \n",
    "        else:\n",
    "            o13.append(False)\n",
    "           \n",
    "        count += 1\n",
    "            \n",
    "    org_list13.append(o13)"
   ]
  },
  {
   "cell_type": "code",
   "execution_count": 315,
   "metadata": {},
   "outputs": [],
   "source": [
    "pl_num13 = np.asarray(pl_list13)\n",
    "org_num13 = np.asarray(org_list13)\n",
    "\n",
    "reg_param = 10\n",
    "pp14 = PlastPredictor(reg_param)\n",
    "pp14_model = pp14.fit_model(pl_num13, org_num13)\n",
    "org_acc14 = pp14.predict(org_num13, type='binary', class_id='neg')\n",
    "pl_acc14 = pp14.predict(pl_num13, type='binary', class_id='pos')"
   ]
  },
  {
   "cell_type": "code",
   "execution_count": 316,
   "metadata": {},
   "outputs": [],
   "source": [
    "qq = pp14.clf.coef_\n",
    "\n",
    "compar14 = qq[0] != 0\n",
    "compar14 = compar14.tolist()"
   ]
  },
  {
   "cell_type": "code",
   "execution_count": 317,
   "metadata": {},
   "outputs": [
    {
     "data": {
      "text/plain": [
       "(38, 0.9602, 0.9428571428571428)"
      ]
     },
     "execution_count": 317,
     "metadata": {},
     "output_type": "execute_result"
    }
   ],
   "source": [
    "np.count_nonzero(qq), org_acc14, pl_acc14"
   ]
  },
  {
   "cell_type": "code",
   "execution_count": 318,
   "metadata": {},
   "outputs": [],
   "source": [
    "pl_list14 = []\n",
    "\n",
    "for i in range(0, 210):\n",
    "    count = 0\n",
    "    p14 = []\n",
    "    for j in compar14:\n",
    "        if j:\n",
    "            p14.append(pl_list13[i][count])\n",
    "        else:\n",
    "            p14.append(False)\n",
    "            \n",
    "        count += 1\n",
    "            \n",
    "    pl_list14.append(p14)\n",
    "    \n"
   ]
  },
  {
   "cell_type": "code",
   "execution_count": 319,
   "metadata": {},
   "outputs": [],
   "source": [
    "org_list14 = []\n",
    "\n",
    "for i in range(0, 5000):\n",
    "    count = 0\n",
    "    o14 = []\n",
    "    for j in compar14:\n",
    "        if j:\n",
    "            o14.append(org_list13[i][count]) \n",
    "        else:\n",
    "            o14.append(False)\n",
    "           \n",
    "        count += 1\n",
    "            \n",
    "    org_list14.append(o14)"
   ]
  },
  {
   "cell_type": "code",
   "execution_count": 324,
   "metadata": {},
   "outputs": [],
   "source": [
    "pl_num14 = np.asarray(pl_list14)\n",
    "org_num14 = np.asarray(org_list14)\n",
    "\n",
    "reg_param = 10\n",
    "pp15 = PlastPredictor(reg_param)\n",
    "pp15_model = pp15.fit_model(pl_num14, org_num14)\n",
    "org_acc15 = pp15.predict(org_num14, type='binary', class_id='neg')\n",
    "pl_acc15 = pp15.predict(pl_num14, type='binary', class_id='pos')\n",
    "\n",
    "rr = pp15.clf.coef_\n",
    "\n",
    "compar15 = rr[0] != 0\n",
    "compar15 = compar15.tolist()"
   ]
  },
  {
   "cell_type": "code",
   "execution_count": 325,
   "metadata": {},
   "outputs": [
    {
     "data": {
      "text/plain": [
       "(36, 0.9654, 0.9428571428571428)"
      ]
     },
     "execution_count": 325,
     "metadata": {},
     "output_type": "execute_result"
    }
   ],
   "source": [
    "np.count_nonzero(rr), org_acc15, pl_acc15"
   ]
  },
  {
   "cell_type": "code",
   "execution_count": 326,
   "metadata": {},
   "outputs": [],
   "source": [
    "pl_list15 = []\n",
    "\n",
    "for i in range(0, 210):\n",
    "    count = 0\n",
    "    p15 = []\n",
    "    for j in compar15:\n",
    "        if j:\n",
    "            p15.append(pl_list14[i][count])\n",
    "        else:\n",
    "            p15.append(False)\n",
    "            \n",
    "        count += 1\n",
    "            \n",
    "    pl_list15.append(p15)\n",
    "    \n"
   ]
  },
  {
   "cell_type": "code",
   "execution_count": 327,
   "metadata": {},
   "outputs": [],
   "source": [
    "org_list15 = []\n",
    "\n",
    "for i in range(0, 5000):\n",
    "    count = 0\n",
    "    o15 = []\n",
    "    for j in compar15:\n",
    "        if j:\n",
    "            o15.append(org_list14[i][count]) \n",
    "        else:\n",
    "            o15.append(False)\n",
    "           \n",
    "        count += 1\n",
    "            \n",
    "    org_list15.append(o15)"
   ]
  },
  {
   "cell_type": "code",
   "execution_count": 336,
   "metadata": {},
   "outputs": [],
   "source": [
    "pl_num15 = np.asarray(pl_list15)\n",
    "org_num15 = np.asarray(org_list15)\n",
    "\n",
    "reg_param = 10\n",
    "pp16 = PlastPredictor(reg_param)\n",
    "pp16_model = pp16.fit_model(pl_num15, org_num15)\n",
    "org_acc16 = pp16.predict(org_num15, type='binary', class_id='neg')\n",
    "pl_acc16 = pp16.predict(pl_num15, type='binary', class_id='pos')\n",
    "\n",
    "ss = pp16.clf.coef_\n",
    "\n",
    "compar16 = ss[0] != 0\n",
    "compar16 = compar16.tolist()"
   ]
  },
  {
   "cell_type": "code",
   "execution_count": 337,
   "metadata": {},
   "outputs": [
    {
     "data": {
      "text/plain": [
       "(35, 0.9724, 0.919047619047619)"
      ]
     },
     "execution_count": 337,
     "metadata": {},
     "output_type": "execute_result"
    }
   ],
   "source": [
    "np.count_nonzero(ss), org_acc16, pl_acc16"
   ]
  },
  {
   "cell_type": "code",
   "execution_count": 338,
   "metadata": {},
   "outputs": [],
   "source": [
    "pl_list16 = []\n",
    "\n",
    "for i in range(0, 210):\n",
    "    count = 0\n",
    "    p16 = []\n",
    "    for j in compar16:\n",
    "        if j:\n",
    "            p16.append(pl_list15[i][count])\n",
    "        else:\n",
    "            p16.append(False)\n",
    "            \n",
    "        count += 1\n",
    "            \n",
    "    pl_list16.append(p16)\n",
    "    \n",
    "org_list16 = []\n",
    "\n",
    "for i in range(0, 5000):\n",
    "    count = 0\n",
    "    o16 = []\n",
    "    for j in compar16:\n",
    "        if j:\n",
    "            o16.append(org_list15[i][count]) \n",
    "        else:\n",
    "            o16.append(False)\n",
    "           \n",
    "        count += 1\n",
    "            \n",
    "    org_list16.append(o16)"
   ]
  },
  {
   "cell_type": "code",
   "execution_count": 339,
   "metadata": {},
   "outputs": [],
   "source": [
    "pl_num16 = np.asarray(pl_list16)\n",
    "org_num16 = np.asarray(org_list16)\n",
    "\n",
    "reg_param = 10\n",
    "pp17 = PlastPredictor(reg_param)\n",
    "pp17_model = pp17.fit_model(pl_num16, org_num16)\n",
    "org_acc17 = pp17.predict(org_num16, type='binary', class_id='neg')\n",
    "pl_acc17 = pp17.predict(pl_num16, type='binary', class_id='pos')\n",
    "\n",
    "tt = pp17.clf.coef_\n",
    "\n",
    "compar17 = tt[0] != 0\n",
    "compar17 = compar17.tolist()"
   ]
  },
  {
   "cell_type": "code",
   "execution_count": 340,
   "metadata": {},
   "outputs": [
    {
     "data": {
      "text/plain": [
       "34"
      ]
     },
     "execution_count": 340,
     "metadata": {},
     "output_type": "execute_result"
    }
   ],
   "source": [
    "np.count_nonzero(tt)"
   ]
  },
  {
   "cell_type": "code",
   "execution_count": 341,
   "metadata": {},
   "outputs": [],
   "source": [
    "pl_list17 = []\n",
    "\n",
    "for i in range(0, 210):\n",
    "    count = 0\n",
    "    p17 = []\n",
    "    for j in compar17:\n",
    "        if j:\n",
    "            p17.append(pl_list16[i][count])\n",
    "        else:\n",
    "            p17.append(False)\n",
    "            \n",
    "        count += 1\n",
    "            \n",
    "    pl_list17.append(p17)\n",
    "\n",
    "org_list17 = []\n",
    "\n",
    "for i in range(0, 5000):\n",
    "    count = 0\n",
    "    o17 = []\n",
    "    for j in compar17:\n",
    "        if j:\n",
    "            o17.append(org_list16[i][count]) \n",
    "        else:\n",
    "            o17.append(False)\n",
    "           \n",
    "        count += 1\n",
    "            \n",
    "    org_list17.append(o17)"
   ]
  },
  {
   "cell_type": "code",
   "execution_count": 342,
   "metadata": {},
   "outputs": [],
   "source": [
    "pl_num17 = np.asarray(pl_list17)\n",
    "org_num17 = np.asarray(org_list17)\n",
    "\n",
    "reg_param = 10\n",
    "pp18 = PlastPredictor(reg_param)\n",
    "pp18_model = pp18.fit_model(pl_num17, org_num17)\n",
    "org_acc18 = pp18.predict(org_num17, type='binary', class_id='neg')\n",
    "pl_acc18 = pp18.predict(pl_num17, type='binary', class_id='pos')\n",
    "\n",
    "uu = pp18.clf.coef_\n",
    "\n",
    "compar18 = uu[0] != 0\n",
    "compar18 = compar18.tolist()"
   ]
  },
  {
   "cell_type": "code",
   "execution_count": 343,
   "metadata": {},
   "outputs": [
    {
     "data": {
      "text/plain": [
       "33"
      ]
     },
     "execution_count": 343,
     "metadata": {},
     "output_type": "execute_result"
    }
   ],
   "source": [
    "np.count_nonzero(uu)"
   ]
  },
  {
   "cell_type": "code",
   "execution_count": 344,
   "metadata": {},
   "outputs": [],
   "source": [
    "pl_list18 = []\n",
    "\n",
    "for i in range(0, 210):\n",
    "    count = 0\n",
    "    p18 = []\n",
    "    for j in compar18:\n",
    "        if j:\n",
    "            p18.append(pl_list17[i][count])\n",
    "        else:\n",
    "            p18.append(False)\n",
    "            \n",
    "        count += 1\n",
    "            \n",
    "    pl_list18.append(p18)\n",
    "\n",
    "org_list18 = []\n",
    "\n",
    "for i in range(0, 5000):\n",
    "    count = 0\n",
    "    o18 = []\n",
    "    for j in compar18:\n",
    "        if j:\n",
    "            o18.append(org_list17[i][count]) \n",
    "        else:\n",
    "            o18.append(False)\n",
    "           \n",
    "        count += 1\n",
    "            \n",
    "    org_list18.append(o18)"
   ]
  },
  {
   "cell_type": "code",
   "execution_count": 347,
   "metadata": {},
   "outputs": [],
   "source": [
    "pl_num18 = np.asarray(pl_list18)\n",
    "org_num18 = np.asarray(org_list18)\n",
    "\n",
    "reg_param = 10\n",
    "pp19 = PlastPredictor(reg_param)\n",
    "pp19_model = pp19.fit_model(pl_num18, org_num18)\n",
    "org_acc19 = pp19.predict(org_num18, type='binary', class_id='neg')\n",
    "pl_acc19 = pp19.predict(pl_num18, type='binary', class_id='pos')\n",
    "\n",
    "vv = pp19.clf.coef_\n",
    "\n",
    "compar19 = vv[0] != 0\n",
    "compar19 = compar19.tolist()"
   ]
  },
  {
   "cell_type": "code",
   "execution_count": 348,
   "metadata": {},
   "outputs": [
    {
     "data": {
      "text/plain": [
       "32"
      ]
     },
     "execution_count": 348,
     "metadata": {},
     "output_type": "execute_result"
    }
   ],
   "source": [
    "np.count_nonzero(vv)"
   ]
  },
  {
   "cell_type": "code",
   "execution_count": 349,
   "metadata": {},
   "outputs": [],
   "source": [
    "pl_list19 = []\n",
    "\n",
    "for i in range(0, 210):\n",
    "    count = 0\n",
    "    p19 = []\n",
    "    for j in compar19:\n",
    "        if j:\n",
    "            p19.append(pl_list18[i][count])\n",
    "        else:\n",
    "            p19.append(False)\n",
    "            \n",
    "        count += 1\n",
    "            \n",
    "    pl_list19.append(p19)\n",
    "\n",
    "org_list19 = []\n",
    "\n",
    "for i in range(0, 5000):\n",
    "    count = 0\n",
    "    o19 = []\n",
    "    for j in compar19:\n",
    "        if j:\n",
    "            o19.append(org_list18[i][count]) \n",
    "        else:\n",
    "            o19.append(False)\n",
    "           \n",
    "        count += 1\n",
    "            \n",
    "    org_list19.append(o19)"
   ]
  },
  {
   "cell_type": "code",
   "execution_count": 350,
   "metadata": {},
   "outputs": [],
   "source": [
    "pl_num19 = np.asarray(pl_list19)\n",
    "org_num19 = np.asarray(org_list19)\n",
    "\n",
    "reg_param = 10\n",
    "pp20 = PlastPredictor(reg_param)\n",
    "pp20_model = pp20.fit_model(pl_num19, org_num19)\n",
    "org_acc20 = pp20.predict(org_num19, type='binary', class_id='neg')\n",
    "pl_acc20 = pp20.predict(pl_num19, type='binary', class_id='pos')\n",
    "\n",
    "ww = pp20.clf.coef_\n",
    "\n",
    "compar20 = ww[0] != 0\n",
    "compar20 = compar20.tolist()"
   ]
  },
  {
   "cell_type": "code",
   "execution_count": 351,
   "metadata": {},
   "outputs": [
    {
     "data": {
      "text/plain": [
       "31"
      ]
     },
     "execution_count": 351,
     "metadata": {},
     "output_type": "execute_result"
    }
   ],
   "source": [
    "np.count_nonzero(ww)"
   ]
  },
  {
   "cell_type": "code",
   "execution_count": 352,
   "metadata": {},
   "outputs": [],
   "source": [
    "pl_list20 = []\n",
    "\n",
    "for i in range(0, 210):\n",
    "    count = 0\n",
    "    p20 = []\n",
    "    for j in compar20:\n",
    "        if j:\n",
    "            p20.append(pl_list19[i][count])\n",
    "        else:\n",
    "            p20.append(False)\n",
    "            \n",
    "        count += 1\n",
    "            \n",
    "    pl_list20.append(p20)\n",
    "\n",
    "org_list20 = []\n",
    "\n",
    "for i in range(0, 5000):\n",
    "    count = 0\n",
    "    o20 = []\n",
    "    for j in compar20:\n",
    "        if j:\n",
    "            o20.append(org_list19[i][count]) \n",
    "        else:\n",
    "            o20.append(False)\n",
    "           \n",
    "        count += 1\n",
    "            \n",
    "    org_list20.append(o20)"
   ]
  },
  {
   "cell_type": "code",
   "execution_count": 363,
   "metadata": {},
   "outputs": [],
   "source": [
    "pl_num20 = np.asarray(pl_list20)\n",
    "org_num20 = np.asarray(org_list20)\n",
    "\n",
    "reg_param = 10\n",
    "pp21 = PlastPredictor(reg_param)\n",
    "pp21_model = pp21.fit_model(pl_num20, org_num20)\n",
    "org_acc21 = pp21.predict(org_num20, type='binary', class_id='neg')\n",
    "pl_acc21 = pp21.predict(pl_num20, type='binary', class_id='pos')\n",
    "\n",
    "xx = pp21.clf.coef_\n",
    "\n",
    "compar21 = xx[0] != 0\n",
    "compar21 = compar21.tolist()"
   ]
  },
  {
   "cell_type": "code",
   "execution_count": 364,
   "metadata": {},
   "outputs": [
    {
     "data": {
      "text/plain": [
       "30"
      ]
     },
     "execution_count": 364,
     "metadata": {},
     "output_type": "execute_result"
    }
   ],
   "source": [
    "np.count_nonzero(xx)"
   ]
  },
  {
   "cell_type": "code",
   "execution_count": 365,
   "metadata": {},
   "outputs": [],
   "source": [
    "pl_list21 = []\n",
    "\n",
    "for i in range(0, 210):\n",
    "    count = 0\n",
    "    p21 = []\n",
    "    for j in compar21:\n",
    "        if j:\n",
    "            p21.append(pl_list20[i][count])\n",
    "        else:\n",
    "            p21.append(False)\n",
    "            \n",
    "        count += 1\n",
    "            \n",
    "    pl_list21.append(p21)\n",
    "\n",
    "org_list21 = []\n",
    "\n",
    "for i in range(0, 5000):\n",
    "    count = 0\n",
    "    o21 = []\n",
    "    for j in compar21:\n",
    "        if j:\n",
    "            o21.append(org_list20[i][count]) \n",
    "        else:\n",
    "            o21.append(False)\n",
    "           \n",
    "        count += 1\n",
    "            \n",
    "    org_list21.append(o21)"
   ]
  },
  {
   "cell_type": "code",
   "execution_count": 368,
   "metadata": {},
   "outputs": [],
   "source": [
    "pl_num21 = np.asarray(pl_list21)\n",
    "org_num21 = np.asarray(org_list21)\n",
    "\n",
    "reg_param = 10\n",
    "pp22 = PlastPredictor(reg_param)\n",
    "pp22_model = pp22.fit_model(pl_num21, org_num21)\n",
    "org_acc22 = pp22.predict(org_num21, type='binary', class_id='neg')\n",
    "pl_acc22 = pp22.predict(pl_num21, type='binary', class_id='pos')\n",
    "\n",
    "yy = pp22.clf.coef_\n",
    "\n",
    "compar22 = yy[0] != 0\n",
    "compar22 = compar22.tolist()"
   ]
  },
  {
   "cell_type": "code",
   "execution_count": 369,
   "metadata": {},
   "outputs": [
    {
     "data": {
      "text/plain": [
       "29"
      ]
     },
     "execution_count": 369,
     "metadata": {},
     "output_type": "execute_result"
    }
   ],
   "source": [
    "np.count_nonzero(yy)"
   ]
  },
  {
   "cell_type": "code",
   "execution_count": 370,
   "metadata": {},
   "outputs": [],
   "source": [
    "pl_list22 = []\n",
    "\n",
    "for i in range(0, 210):\n",
    "    count = 0\n",
    "    p22 = []\n",
    "    for j in compar22:\n",
    "        if j:\n",
    "            p22.append(pl_list21[i][count])\n",
    "        else:\n",
    "            p22.append(False)\n",
    "            \n",
    "        count += 1\n",
    "            \n",
    "    pl_list22.append(p22)\n",
    "\n",
    "org_list22 = []\n",
    "\n",
    "for i in range(0, 5000):\n",
    "    count = 0\n",
    "    o22 = []\n",
    "    for j in compar22:\n",
    "        if j:\n",
    "            o22.append(org_list21[i][count]) \n",
    "        else:\n",
    "            o22.append(False)\n",
    "           \n",
    "        count += 1\n",
    "            \n",
    "    org_list22.append(o22)"
   ]
  },
  {
   "cell_type": "code",
   "execution_count": 377,
   "metadata": {},
   "outputs": [],
   "source": [
    "pl_num22 = np.asarray(pl_list22)\n",
    "org_num22 = np.asarray(org_list22)\n",
    "\n",
    "reg_param = 10\n",
    "pp23 = PlastPredictor(reg_param)\n",
    "pp23_model = pp23.fit_model(pl_num22, org_num22)\n",
    "org_acc23 = pp23.predict(org_num22, type='binary', class_id='neg')\n",
    "pl_acc23 = pp23.predict(pl_num22, type='binary', class_id='pos')\n",
    "\n",
    "zz = pp23.clf.coef_\n",
    "\n",
    "compar23 = zz[0] != 0\n",
    "compar23 = compar23.tolist()"
   ]
  },
  {
   "cell_type": "code",
   "execution_count": 378,
   "metadata": {},
   "outputs": [
    {
     "data": {
      "text/plain": [
       "27"
      ]
     },
     "execution_count": 378,
     "metadata": {},
     "output_type": "execute_result"
    }
   ],
   "source": [
    "np.count_nonzero(zz)"
   ]
  },
  {
   "cell_type": "code",
   "execution_count": 379,
   "metadata": {},
   "outputs": [],
   "source": [
    "pl_list23 = []\n",
    "\n",
    "for i in range(0, 210):\n",
    "    count = 0\n",
    "    p23 = []\n",
    "    for j in compar23:\n",
    "        if j:\n",
    "            p23.append(pl_list22[i][count])\n",
    "        else:\n",
    "            p23.append(False)\n",
    "            \n",
    "        count += 1\n",
    "            \n",
    "    pl_list23.append(p23)\n",
    "\n",
    "org_list23 = []\n",
    "\n",
    "for i in range(0, 5000):\n",
    "    count = 0\n",
    "    o23 = []\n",
    "    for j in compar23:\n",
    "        if j:\n",
    "            o23.append(org_list22[i][count]) \n",
    "        else:\n",
    "            o23.append(False)\n",
    "           \n",
    "        count += 1\n",
    "            \n",
    "    org_list23.append(o23)"
   ]
  },
  {
   "cell_type": "code",
   "execution_count": 398,
   "metadata": {},
   "outputs": [],
   "source": [
    "pl_num23 = np.asarray(pl_list23)\n",
    "org_num23 = np.asarray(org_list23)\n",
    "\n",
    "reg_param = 10\n",
    "pp24 = PlastPredictor(reg_param)\n",
    "pp24_model = pp24.fit_model(pl_num23, org_num23)\n",
    "org_acc24 = pp24.predict(org_num23, type='binary', class_id='neg')\n",
    "pl_acc24 = pp24.predict(pl_num23, type='binary', class_id='pos')\n",
    "\n",
    "z1 = pp24.clf.coef_\n",
    "\n",
    "compar24 = z1[0] != 0\n",
    "compar24 = compar24.tolist()"
   ]
  },
  {
   "cell_type": "code",
   "execution_count": 399,
   "metadata": {},
   "outputs": [
    {
     "data": {
      "text/plain": [
       "26"
      ]
     },
     "execution_count": 399,
     "metadata": {},
     "output_type": "execute_result"
    }
   ],
   "source": [
    "np.count_nonzero(z1)"
   ]
  },
  {
   "cell_type": "code",
   "execution_count": 400,
   "metadata": {},
   "outputs": [],
   "source": [
    "pl_list24 = []\n",
    "\n",
    "for i in range(0, 210):\n",
    "    count = 0\n",
    "    p24 = []\n",
    "    for j in compar24:\n",
    "        if j:\n",
    "            p24.append(pl_list23[i][count])\n",
    "        else:\n",
    "            p24.append(False)\n",
    "            \n",
    "        count += 1\n",
    "            \n",
    "    pl_list24.append(p24)\n",
    "\n",
    "org_list24 = []\n",
    "\n",
    "for i in range(0, 5000):\n",
    "    count = 0\n",
    "    o24 = []\n",
    "    for j in compar24:\n",
    "        if j:\n",
    "            o24.append(org_list23[i][count]) \n",
    "        else:\n",
    "            o24.append(False)\n",
    "           \n",
    "        count += 1\n",
    "            \n",
    "    org_list24.append(o24)"
   ]
  },
  {
   "cell_type": "code",
   "execution_count": 403,
   "metadata": {},
   "outputs": [],
   "source": [
    "pl_num24 = np.asarray(pl_list24)\n",
    "org_num24 = np.asarray(org_list24)\n",
    "\n",
    "reg_param = 10\n",
    "pp25 = PlastPredictor(reg_param)\n",
    "pp25_model = pp25.fit_model(pl_num24, org_num24)\n",
    "org_acc25 = pp25.predict(org_num24, type='binary', class_id='neg')\n",
    "pl_acc25 = pp25.predict(pl_num24, type='binary', class_id='pos')\n",
    "\n",
    "z2 = pp25.clf.coef_\n",
    "\n",
    "compar25 = z2[0] != 0\n",
    "compar25 = compar25.tolist()"
   ]
  },
  {
   "cell_type": "code",
   "execution_count": 404,
   "metadata": {},
   "outputs": [
    {
     "data": {
      "text/plain": [
       "25"
      ]
     },
     "execution_count": 404,
     "metadata": {},
     "output_type": "execute_result"
    }
   ],
   "source": [
    "np.count_nonzero(z2)"
   ]
  },
  {
   "cell_type": "code",
   "execution_count": 405,
   "metadata": {},
   "outputs": [],
   "source": [
    "pl_list25 = []\n",
    "\n",
    "for i in range(0, 210):\n",
    "    count = 0\n",
    "    p25 = []\n",
    "    for j in compar25:\n",
    "        if j:\n",
    "            p25.append(pl_list24[i][count])\n",
    "        else:\n",
    "            p25.append(False)\n",
    "            \n",
    "        count += 1\n",
    "            \n",
    "    pl_list25.append(p25)\n",
    "\n",
    "org_list25 = []\n",
    "\n",
    "for i in range(0, 5000):\n",
    "    count = 0\n",
    "    o25 = []\n",
    "    for j in compar25:\n",
    "        if j:\n",
    "            o25.append(org_list24[i][count]) \n",
    "        else:\n",
    "            o25.append(False)\n",
    "           \n",
    "        count += 1\n",
    "            \n",
    "    org_list25.append(o25)"
   ]
  },
  {
   "cell_type": "code",
   "execution_count": 412,
   "metadata": {},
   "outputs": [],
   "source": [
    "pl_num25 = np.asarray(pl_list25)\n",
    "org_num25 = np.asarray(org_list25)\n",
    "\n",
    "reg_param = 10\n",
    "pp26 = PlastPredictor(reg_param)\n",
    "pp26_model = pp26.fit_model(pl_num25, org_num25)\n",
    "org_acc26 = pp26.predict(org_num25, type='binary', class_id='neg')\n",
    "pl_acc26 = pp26.predict(pl_num25, type='binary', class_id='pos')\n",
    "\n",
    "z3 = pp26.clf.coef_\n",
    "\n",
    "compar26 = z3[0] != 0\n",
    "compar26 = compar26.tolist()"
   ]
  },
  {
   "cell_type": "code",
   "execution_count": 413,
   "metadata": {},
   "outputs": [
    {
     "data": {
      "text/plain": [
       "24"
      ]
     },
     "execution_count": 413,
     "metadata": {},
     "output_type": "execute_result"
    }
   ],
   "source": [
    "np.count_nonzero(z3)"
   ]
  },
  {
   "cell_type": "code",
   "execution_count": 414,
   "metadata": {},
   "outputs": [],
   "source": [
    "pl_list26 = []\n",
    "\n",
    "for i in range(0, 210):\n",
    "    count = 0\n",
    "    p26 = []\n",
    "    for j in compar26:\n",
    "        if j:\n",
    "            p26.append(pl_list25[i][count])\n",
    "        else:\n",
    "            p26.append(False)\n",
    "            \n",
    "        count += 1\n",
    "            \n",
    "    pl_list26.append(p26)\n",
    "\n",
    "org_list26 = []\n",
    "\n",
    "for i in range(0, 5000):\n",
    "    count = 0\n",
    "    o26 = []\n",
    "    for j in compar26:\n",
    "        if j:\n",
    "            o26.append(org_list25[i][count]) \n",
    "        else:\n",
    "            o26.append(False)\n",
    "           \n",
    "        count += 1\n",
    "            \n",
    "    org_list26.append(o26)"
   ]
  },
  {
   "cell_type": "code",
   "execution_count": 415,
   "metadata": {},
   "outputs": [],
   "source": [
    "pl_num26 = np.asarray(pl_list26)\n",
    "org_num26 = np.asarray(org_list26)\n",
    "\n",
    "reg_param = 10\n",
    "pp27 = PlastPredictor(reg_param)\n",
    "pp27_model = pp27.fit_model(pl_num26, org_num26)\n",
    "org_acc27 = pp27.predict(org_num26, type='binary', class_id='neg')\n",
    "pl_acc27 = pp27.predict(pl_num26, type='binary', class_id='pos')\n",
    "\n",
    "z4 = pp27.clf.coef_\n",
    "\n",
    "compar27 = z4[0] != 0\n",
    "compar27 = compar27.tolist()"
   ]
  },
  {
   "cell_type": "code",
   "execution_count": 416,
   "metadata": {},
   "outputs": [
    {
     "data": {
      "text/plain": [
       "23"
      ]
     },
     "execution_count": 416,
     "metadata": {},
     "output_type": "execute_result"
    }
   ],
   "source": [
    "np.count_nonzero(z4)"
   ]
  },
  {
   "cell_type": "code",
   "execution_count": 417,
   "metadata": {},
   "outputs": [],
   "source": [
    "pl_list27 = []\n",
    "\n",
    "for i in range(0, 210):\n",
    "    count = 0\n",
    "    p27 = []\n",
    "    for j in compar27:\n",
    "        if j:\n",
    "            p27.append(pl_list26[i][count])\n",
    "        else:\n",
    "            p27.append(False)\n",
    "            \n",
    "        count += 1\n",
    "            \n",
    "    pl_list27.append(p27)\n",
    "\n",
    "org_list27 = []\n",
    "\n",
    "for i in range(0, 5000):\n",
    "    count = 0\n",
    "    o27 = []\n",
    "    for j in compar27:\n",
    "        if j:\n",
    "            o27.append(org_list26[i][count]) \n",
    "        else:\n",
    "            o27.append(False)\n",
    "           \n",
    "        count += 1\n",
    "            \n",
    "    org_list27.append(o27)"
   ]
  },
  {
   "cell_type": "code",
   "execution_count": 420,
   "metadata": {},
   "outputs": [],
   "source": [
    "pl_num27 = np.asarray(pl_list27)\n",
    "org_num27 = np.asarray(org_list27)\n",
    "\n",
    "reg_param = 10\n",
    "pp28 = PlastPredictor(reg_param)\n",
    "pp28_model = pp28.fit_model(pl_num27, org_num27)\n",
    "org_acc28 = pp28.predict(org_num27, type='binary', class_id='neg')\n",
    "pl_acc28 = pp28.predict(pl_num27, type='binary', class_id='pos')\n",
    "\n",
    "z5 = pp28.clf.coef_\n",
    "\n",
    "compar28 = z5[0] != 0\n",
    "compar28 = compar28.tolist()"
   ]
  },
  {
   "cell_type": "code",
   "execution_count": 421,
   "metadata": {},
   "outputs": [
    {
     "data": {
      "text/plain": [
       "22"
      ]
     },
     "execution_count": 421,
     "metadata": {},
     "output_type": "execute_result"
    }
   ],
   "source": [
    "np.count_nonzero(z5)"
   ]
  },
  {
   "cell_type": "code",
   "execution_count": 422,
   "metadata": {},
   "outputs": [],
   "source": [
    "pl_list28 = []\n",
    "\n",
    "for i in range(0, 210):\n",
    "    count = 0\n",
    "    p28 = []\n",
    "    for j in compar28:\n",
    "        if j:\n",
    "            p28.append(pl_list27[i][count])\n",
    "        else:\n",
    "            p28.append(False)\n",
    "            \n",
    "        count += 1\n",
    "            \n",
    "    pl_list28.append(p28)\n",
    "\n",
    "org_list28 = []\n",
    "\n",
    "for i in range(0, 5000):\n",
    "    count = 0\n",
    "    o28 = []\n",
    "    for j in compar28:\n",
    "        if j:\n",
    "            o28.append(org_list27[i][count]) \n",
    "        else:\n",
    "            o28.append(False)\n",
    "           \n",
    "        count += 1\n",
    "            \n",
    "    org_list28.append(o28)"
   ]
  },
  {
   "cell_type": "code",
   "execution_count": 451,
   "metadata": {},
   "outputs": [],
   "source": [
    "pl_num28 = np.asarray(pl_list28)\n",
    "org_num28 = np.asarray(org_list28)\n",
    "\n",
    "reg_param = 10\n",
    "pp29 = PlastPredictor(reg_param)\n",
    "pp29_model = pp29.fit_model(pl_num28, org_num28)\n",
    "org_acc29 = pp29.predict(org_num28, type='binary', class_id='neg')\n",
    "pl_acc29 = pp29.predict(pl_num28, type='binary', class_id='pos')\n",
    "\n",
    "z6 = pp29.clf.coef_\n",
    "\n",
    "compar29 = z6[0] != 0\n",
    "compar29 = compar29.tolist()"
   ]
  },
  {
   "cell_type": "code",
   "execution_count": 452,
   "metadata": {},
   "outputs": [
    {
     "data": {
      "text/plain": [
       "(22, 0.919047619047619, 0.9634)"
      ]
     },
     "execution_count": 452,
     "metadata": {},
     "output_type": "execute_result"
    }
   ],
   "source": [
    "np.count_nonzero(z6), pl_acc29, org_acc29"
   ]
  },
  {
   "cell_type": "code",
   "execution_count": 453,
   "metadata": {},
   "outputs": [],
   "source": [
    "pl_list29 = []\n",
    "\n",
    "for i in range(0, 210):\n",
    "    count = 0\n",
    "    p29 = []\n",
    "    for j in compar29:\n",
    "        if j:\n",
    "            p29.append(pl_list28[i][count])\n",
    "        else:\n",
    "            p29.append(False)\n",
    "            \n",
    "        count += 1\n",
    "            \n",
    "    pl_list29.append(p29)\n",
    "\n",
    "org_list29 = []\n",
    "\n",
    "for i in range(0, 5000):\n",
    "    count = 0\n",
    "    o29 = []\n",
    "    for j in compar29:\n",
    "        if j:\n",
    "            o29.append(org_list28[i][count]) \n",
    "        else:\n",
    "            o29.append(False)\n",
    "           \n",
    "        count += 1\n",
    "            \n",
    "    org_list29.append(o29)"
   ]
  },
  {
   "cell_type": "code",
   "execution_count": 466,
   "metadata": {},
   "outputs": [],
   "source": [
    "pl_num29 = np.asarray(pl_list29)\n",
    "org_num29 = np.asarray(org_list29)\n",
    "\n",
    "reg_param = 10\n",
    "pp30 = PlastPredictor(reg_param)\n",
    "pp30_model = pp30.fit_model(pl_num29, org_num29)\n",
    "org_acc30 = pp30.predict(org_num29, type='binary', class_id='neg')\n",
    "pl_acc30 = pp30.predict(pl_num29, type='binary', class_id='pos')\n",
    "\n",
    "z7 = pp30.clf.coef_\n",
    "\n",
    "compar30 = z7[0] != 0\n",
    "compar30 = compar30.tolist()"
   ]
  },
  {
   "cell_type": "code",
   "execution_count": 467,
   "metadata": {},
   "outputs": [
    {
     "data": {
      "text/plain": [
       "22"
      ]
     },
     "execution_count": 467,
     "metadata": {},
     "output_type": "execute_result"
    }
   ],
   "source": [
    "np.count_nonzero(z7)"
   ]
  },
  {
   "cell_type": "code",
   "execution_count": 468,
   "metadata": {},
   "outputs": [],
   "source": [
    "pl_list30 = []\n",
    "\n",
    "for i in range(0, 210):\n",
    "    count = 0\n",
    "    p30 = []\n",
    "    for j in compar30:\n",
    "        if j:\n",
    "            p30.append(pl_list29[i][count])\n",
    "        else:\n",
    "            p30.append(False)\n",
    "            \n",
    "        count += 1\n",
    "            \n",
    "    pl_list30.append(p30)\n",
    "\n",
    "org_list30 = []\n",
    "\n",
    "for i in range(0, 5000):\n",
    "    count = 0\n",
    "    o30 = []\n",
    "    for j in compar30:\n",
    "        if j:\n",
    "            o30.append(org_list29[i][count]) \n",
    "        else:\n",
    "            o30.append(False)\n",
    "           \n",
    "        count += 1\n",
    "            \n",
    "    org_list30.append(o30)"
   ]
  },
  {
   "cell_type": "code",
   "execution_count": 479,
   "metadata": {},
   "outputs": [],
   "source": [
    "pl_num30 = np.asarray(pl_list30)\n",
    "org_num30 = np.asarray(org_list30)\n",
    "\n",
    "reg_param = 10\n",
    "pp31 = PlastPredictor(reg_param)\n",
    "pp31_model = pp31.fit_model(pl_num30, org_num30)\n",
    "org_acc31 = pp31.predict(org_num30, type='binary', class_id='neg')\n",
    "pl_acc31 = pp31.predict(pl_num30, type='binary', class_id='pos')\n",
    "\n",
    "z8 = pp31.clf.coef_\n",
    "\n",
    "compar31 = z8[0] != 0\n",
    "compar31 = compar31.tolist()"
   ]
  },
  {
   "cell_type": "code",
   "execution_count": 480,
   "metadata": {},
   "outputs": [
    {
     "data": {
      "text/plain": [
       "(22, 0.965, 0.9333333333333333)"
      ]
     },
     "execution_count": 480,
     "metadata": {},
     "output_type": "execute_result"
    }
   ],
   "source": [
    "np.count_nonzero(z8), org_acc31, pl_acc31"
   ]
  },
  {
   "cell_type": "code",
   "execution_count": 481,
   "metadata": {},
   "outputs": [],
   "source": [
    "pl_list31 = []\n",
    "\n",
    "for i in range(0, 210):\n",
    "    count = 0\n",
    "    p31 = []\n",
    "    for j in compar31:\n",
    "        if j:\n",
    "            p31.append(pl_list30[i][count])\n",
    "        else:\n",
    "            p31.append(False)\n",
    "            \n",
    "        count += 1\n",
    "            \n",
    "    pl_list31.append(p31)\n",
    "\n",
    "org_list31 = []\n",
    "\n",
    "for i in range(0, 5000):\n",
    "    count = 0\n",
    "    o31 = []\n",
    "    for j in compar31:\n",
    "        if j:\n",
    "            o31.append(org_list30[i][count]) \n",
    "        else:\n",
    "            o31.append(False)\n",
    "           \n",
    "        count += 1\n",
    "            \n",
    "    org_list31.append(o31)"
   ]
  },
  {
   "cell_type": "code",
   "execution_count": 486,
   "metadata": {},
   "outputs": [],
   "source": [
    "pl_num31 = np.asarray(pl_list31)\n",
    "org_num31 = np.asarray(org_list31)\n",
    "\n",
    "reg_param = 10\n",
    "pp32 = PlastPredictor(reg_param)\n",
    "pp32_model = pp32.fit_model(pl_num31, org_num31)\n",
    "org_acc32 = pp32.predict(org_num31, type='binary', class_id='neg')\n",
    "pl_acc32 = pp32.predict(pl_num31, type='binary', class_id='pos')\n",
    "\n",
    "z9 = pp32.clf.coef_\n",
    "\n",
    "compar32 = z9[0] != 0\n",
    "compar32 = compar32.tolist()"
   ]
  },
  {
   "cell_type": "code",
   "execution_count": 487,
   "metadata": {},
   "outputs": [
    {
     "data": {
      "text/plain": [
       "22"
      ]
     },
     "execution_count": 487,
     "metadata": {},
     "output_type": "execute_result"
    }
   ],
   "source": [
    "np.count_nonzero(z9)"
   ]
  },
  {
   "cell_type": "code",
   "execution_count": 488,
   "metadata": {},
   "outputs": [],
   "source": [
    "pl_list32 = []\n",
    "\n",
    "for i in range(0, 210):\n",
    "    count = 0\n",
    "    p32 = []\n",
    "    for j in compar32:\n",
    "        if j:\n",
    "            p32.append(pl_list31[i][count])\n",
    "        else:\n",
    "            p32.append(False)\n",
    "            \n",
    "        count += 1\n",
    "            \n",
    "    pl_list32.append(p32)\n",
    "\n",
    "org_list32 = []\n",
    "\n",
    "for i in range(0, 5000):\n",
    "    count = 0\n",
    "    o32 = []\n",
    "    for j in compar32:\n",
    "        if j:\n",
    "            o32.append(org_list31[i][count]) \n",
    "        else:\n",
    "            o32.append(False)\n",
    "           \n",
    "        count += 1\n",
    "            \n",
    "    org_list32.append(o32)"
   ]
  },
  {
   "cell_type": "code",
   "execution_count": 491,
   "metadata": {},
   "outputs": [],
   "source": [
    "pl_num32 = np.asarray(pl_list32)\n",
    "org_num32 = np.asarray(org_list32)\n",
    "\n",
    "reg_param = 10\n",
    "pp33 = PlastPredictor(reg_param)\n",
    "pp33_model = pp33.fit_model(pl_num32, org_num32)\n",
    "org_acc33 = pp33.predict(org_num32, type='binary', class_id='neg')\n",
    "pl_acc33 = pp33.predict(pl_num32, type='binary', class_id='pos')\n",
    "\n",
    "z10 = pp33.clf.coef_\n",
    "\n",
    "compar33 = z10[0] != 0\n",
    "compar33 = compar33.tolist()"
   ]
  },
  {
   "cell_type": "code",
   "execution_count": 492,
   "metadata": {},
   "outputs": [
    {
     "data": {
      "text/plain": [
       "21"
      ]
     },
     "execution_count": 492,
     "metadata": {},
     "output_type": "execute_result"
    }
   ],
   "source": [
    "np.count_nonzero(z10)"
   ]
  },
  {
   "cell_type": "code",
   "execution_count": 493,
   "metadata": {},
   "outputs": [],
   "source": [
    "pl_list33 = []\n",
    "\n",
    "for i in range(0, 210):\n",
    "    count = 0\n",
    "    p33 = []\n",
    "    for j in compar33:\n",
    "        if j:\n",
    "            p33.append(pl_list32[i][count])\n",
    "        else:\n",
    "            p33.append(False)\n",
    "            \n",
    "        count += 1\n",
    "            \n",
    "    pl_list33.append(p33)\n",
    "\n",
    "org_list33 = []\n",
    "\n",
    "for i in range(0, 5000):\n",
    "    count = 0\n",
    "    o33 = []\n",
    "    for j in compar33:\n",
    "        if j:\n",
    "            o33.append(org_list32[i][count]) \n",
    "        else:\n",
    "            o33.append(False)\n",
    "           \n",
    "        count += 1\n",
    "            \n",
    "    org_list33.append(o33)"
   ]
  },
  {
   "cell_type": "code",
   "execution_count": 502,
   "metadata": {},
   "outputs": [],
   "source": [
    "pl_num33 = np.asarray(pl_list33)\n",
    "org_num33 = np.asarray(org_list33)\n",
    "\n",
    "reg_param = 10\n",
    "pp34 = PlastPredictor(reg_param)\n",
    "pp34_model = pp34.fit_model(pl_num33, org_num33)\n",
    "org_acc34 = pp34.predict(org_num33, type='binary', class_id='neg')\n",
    "pl_acc34 = pp34.predict(pl_num33, type='binary', class_id='pos')\n",
    "\n",
    "z11 = pp34.clf.coef_\n",
    "\n",
    "compar34 = z11[0] != 0\n",
    "compar34 = compar34.tolist()"
   ]
  },
  {
   "cell_type": "code",
   "execution_count": 503,
   "metadata": {},
   "outputs": [
    {
     "data": {
      "text/plain": [
       "21"
      ]
     },
     "execution_count": 503,
     "metadata": {},
     "output_type": "execute_result"
    }
   ],
   "source": [
    "np.count_nonzero(z11)"
   ]
  },
  {
   "cell_type": "code",
   "execution_count": 504,
   "metadata": {},
   "outputs": [],
   "source": [
    "pl_list34 = []\n",
    "\n",
    "for i in range(0, 210):\n",
    "    count = 0\n",
    "    p34 = []\n",
    "    for j in compar34:\n",
    "        if j:\n",
    "            p34.append(pl_list33[i][count])\n",
    "        else:\n",
    "            p34.append(False)\n",
    "            \n",
    "        count += 1\n",
    "            \n",
    "    pl_list34.append(p34)\n",
    "\n",
    "org_list34 = []\n",
    "\n",
    "for i in range(0, 5000):\n",
    "    count = 0\n",
    "    o34 = []\n",
    "    for j in compar34:\n",
    "        if j:\n",
    "            o34.append(org_list33[i][count]) \n",
    "        else:\n",
    "            o34.append(False)\n",
    "           \n",
    "        count += 1\n",
    "            \n",
    "    org_list34.append(o34)"
   ]
  },
  {
   "cell_type": "code",
   "execution_count": 509,
   "metadata": {},
   "outputs": [],
   "source": [
    "pl_num34 = np.asarray(pl_list34)\n",
    "org_num34 = np.asarray(org_list34)\n",
    "\n",
    "reg_param = 10\n",
    "pp35 = PlastPredictor(reg_param)\n",
    "pp35_model = pp35.fit_model(pl_num34, org_num34)\n",
    "org_acc35 = pp35.predict(org_num34, type='binary', class_id='neg')\n",
    "pl_acc35 = pp35.predict(pl_num34, type='binary', class_id='pos')\n",
    "\n",
    "z12 = pp35.clf.coef_\n",
    "\n",
    "compar35 = z12[0] != 0\n",
    "compar35 = compar35.tolist()"
   ]
  },
  {
   "cell_type": "code",
   "execution_count": 510,
   "metadata": {},
   "outputs": [
    {
     "data": {
      "text/plain": [
       "21"
      ]
     },
     "execution_count": 510,
     "metadata": {},
     "output_type": "execute_result"
    }
   ],
   "source": [
    "np.count_nonzero(z12)"
   ]
  },
  {
   "cell_type": "code",
   "execution_count": 511,
   "metadata": {},
   "outputs": [],
   "source": [
    "pl_list35 = []\n",
    "\n",
    "for i in range(0, 210):\n",
    "    count = 0\n",
    "    p35 = []\n",
    "    for j in compar35:\n",
    "        if j:\n",
    "            p35.append(pl_list34[i][count])\n",
    "        else:\n",
    "            p35.append(False)\n",
    "            \n",
    "        count += 1\n",
    "            \n",
    "    pl_list35.append(p35)\n",
    "\n",
    "org_list35 = []\n",
    "\n",
    "for i in range(0, 5000):\n",
    "    count = 0\n",
    "    o35 = []\n",
    "    for j in compar35:\n",
    "        if j:\n",
    "            o35.append(org_list34[i][count]) \n",
    "        else:\n",
    "            o35.append(False)\n",
    "           \n",
    "        count += 1\n",
    "            \n",
    "    org_list35.append(o35)"
   ]
  },
  {
   "cell_type": "code",
   "execution_count": 518,
   "metadata": {},
   "outputs": [],
   "source": [
    "pl_num35 = np.asarray(pl_list35)\n",
    "org_num35 = np.asarray(org_list35)\n",
    "\n",
    "reg_param = 10\n",
    "pp36 = PlastPredictor(reg_param)\n",
    "pp36_model = pp36.fit_model(pl_num35, org_num35)\n",
    "org_acc36 = pp36.predict(org_num35, type='binary', class_id='neg')\n",
    "pl_acc36 = pp36.predict(pl_num35, type='binary', class_id='pos')\n",
    "\n",
    "z13 = pp36.clf.coef_\n",
    "\n",
    "compar36 = z13[0] != 0\n",
    "compar36 = compar36.tolist()"
   ]
  },
  {
   "cell_type": "code",
   "execution_count": 519,
   "metadata": {},
   "outputs": [
    {
     "data": {
      "text/plain": [
       "21"
      ]
     },
     "execution_count": 519,
     "metadata": {},
     "output_type": "execute_result"
    }
   ],
   "source": [
    "np.count_nonzero(z13)"
   ]
  },
  {
   "cell_type": "code",
   "execution_count": 520,
   "metadata": {
    "scrolled": true
   },
   "outputs": [
    {
     "data": {
      "text/plain": [
       "195"
      ]
     },
     "execution_count": 520,
     "metadata": {},
     "output_type": "execute_result"
    }
   ],
   "source": [
    "len(pl_list35[0])"
   ]
  },
  {
   "cell_type": "code",
   "execution_count": 521,
   "metadata": {},
   "outputs": [],
   "source": [
    "pl_list36 = []\n",
    "\n",
    "for i in range(0, 210):\n",
    "    count = 0\n",
    "    p36 = []\n",
    "    for j in compar36:\n",
    "        if j:\n",
    "            p36.append(pl_list35[i][count])\n",
    "        else:\n",
    "            p36.append(False)\n",
    "            \n",
    "        count += 1\n",
    "            \n",
    "    pl_list36.append(p36)\n",
    "\n",
    "org_list36 = []\n",
    "\n",
    "for i in range(0, 5000):\n",
    "    count = 0\n",
    "    o36 = []\n",
    "    for j in compar36:\n",
    "        if j:\n",
    "            o36.append(org_list35[i][count]) \n",
    "        else:\n",
    "            o36.append(False)\n",
    "           \n",
    "        count += 1\n",
    "            \n",
    "    org_list36.append(o36)"
   ]
  },
  {
   "cell_type": "code",
   "execution_count": 522,
   "metadata": {},
   "outputs": [],
   "source": [
    "pl_num36 = np.asarray(pl_list36)\n",
    "org_num36 = np.asarray(org_list36)\n",
    "\n",
    "reg_param = 10\n",
    "pp37 = PlastPredictor(reg_param)\n",
    "pp37_model = pp37.fit_model(pl_num36, org_num36)\n",
    "org_acc37 = pp37.predict(org_num36, type='binary', class_id='neg')\n",
    "pl_acc37 = pp37.predict(pl_num36, type='binary', class_id='pos')\n",
    "\n",
    "z14 = pp37.clf.coef_\n",
    "\n",
    "compar37 = z14[0] != 0\n",
    "compar37 = compar37.tolist()"
   ]
  },
  {
   "cell_type": "code",
   "execution_count": 523,
   "metadata": {},
   "outputs": [
    {
     "data": {
      "text/plain": [
       "21"
      ]
     },
     "execution_count": 523,
     "metadata": {},
     "output_type": "execute_result"
    }
   ],
   "source": [
    "np.count_nonzero(z14)"
   ]
  },
  {
   "cell_type": "code",
   "execution_count": 524,
   "metadata": {},
   "outputs": [],
   "source": [
    "pl_list37 = []\n",
    "\n",
    "for i in range(0, 210):\n",
    "    count = 0\n",
    "    p37 = []\n",
    "    for j in compar37:\n",
    "        if j:\n",
    "            p37.append(pl_list36[i][count])\n",
    "        else:\n",
    "            p37.append(False)\n",
    "            \n",
    "        count += 1\n",
    "            \n",
    "    pl_list37.append(p37)\n",
    "\n",
    "org_list37 = []\n",
    "\n",
    "for i in range(0, 5000):\n",
    "    count = 0\n",
    "    o37 = []\n",
    "    for j in compar37:\n",
    "        if j:\n",
    "            o37.append(org_list36[i][count]) \n",
    "        else:\n",
    "            o37.append(False)\n",
    "           \n",
    "        count += 1\n",
    "            \n",
    "    org_list37.append(o37)"
   ]
  },
  {
   "cell_type": "code",
   "execution_count": 527,
   "metadata": {},
   "outputs": [],
   "source": [
    "pl_num37 = np.asarray(pl_list37)\n",
    "org_num37 = np.asarray(org_list37)\n",
    "\n",
    "reg_param = 10\n",
    "pp38 = PlastPredictor(reg_param)\n",
    "pp38_model = pp38.fit_model(pl_num37, org_num37)\n",
    "org_acc38 = pp38.predict(org_num37, type='binary', class_id='neg')\n",
    "pl_acc38 = pp38.predict(pl_num37, type='binary', class_id='pos')\n",
    "\n",
    "z15 = pp38.clf.coef_\n",
    "\n",
    "compar38 = z15[0] != 0\n",
    "compar38 = compar38.tolist()"
   ]
  },
  {
   "cell_type": "code",
   "execution_count": 528,
   "metadata": {},
   "outputs": [
    {
     "data": {
      "text/plain": [
       "21"
      ]
     },
     "execution_count": 528,
     "metadata": {},
     "output_type": "execute_result"
    }
   ],
   "source": [
    "np.count_nonzero(z15)"
   ]
  },
  {
   "cell_type": "code",
   "execution_count": 529,
   "metadata": {},
   "outputs": [
    {
     "data": {
      "text/plain": [
       "[11.863074963596551,\n",
       " -0.0444314061878166,\n",
       " False,\n",
       " False,\n",
       " False,\n",
       " 0.0,\n",
       " False,\n",
       " False,\n",
       " False,\n",
       " False,\n",
       " False,\n",
       " 3.555746631440125,\n",
       " False,\n",
       " False,\n",
       " False,\n",
       " False,\n",
       " False,\n",
       " False,\n",
       " False,\n",
       " False,\n",
       " False,\n",
       " False,\n",
       " False,\n",
       " False,\n",
       " False,\n",
       " False,\n",
       " False,\n",
       " False,\n",
       " False,\n",
       " False,\n",
       " False,\n",
       " False,\n",
       " False,\n",
       " 0.0,\n",
       " False,\n",
       " False,\n",
       " False,\n",
       " False,\n",
       " False,\n",
       " False,\n",
       " 0.0,\n",
       " False,\n",
       " False,\n",
       " False,\n",
       " False,\n",
       " False,\n",
       " 11.938610575903699,\n",
       " False,\n",
       " False,\n",
       " False,\n",
       " False,\n",
       " 13.213763929025836,\n",
       " False,\n",
       " False,\n",
       " False,\n",
       " False,\n",
       " False,\n",
       " False,\n",
       " False,\n",
       " False,\n",
       " False,\n",
       " False,\n",
       " False,\n",
       " False,\n",
       " False,\n",
       " False,\n",
       " False,\n",
       " False,\n",
       " False,\n",
       " False,\n",
       " False,\n",
       " False,\n",
       " False,\n",
       " False,\n",
       " 25.683286491704038,\n",
       " False,\n",
       " False,\n",
       " False,\n",
       " False,\n",
       " False,\n",
       " False,\n",
       " False,\n",
       " 0.0,\n",
       " False,\n",
       " False,\n",
       " False,\n",
       " False,\n",
       " False,\n",
       " False,\n",
       " False,\n",
       " False,\n",
       " False,\n",
       " False,\n",
       " 0.0,\n",
       " False,\n",
       " False,\n",
       " False,\n",
       " False,\n",
       " False,\n",
       " False,\n",
       " False,\n",
       " False,\n",
       " 21.0,\n",
       " False,\n",
       " False,\n",
       " False,\n",
       " 0.0,\n",
       " False,\n",
       " False,\n",
       " False,\n",
       " False,\n",
       " 0.0,\n",
       " False,\n",
       " False,\n",
       " False,\n",
       " False,\n",
       " False,\n",
       " 0.0,\n",
       " False,\n",
       " False,\n",
       " False,\n",
       " False,\n",
       " False,\n",
       " False,\n",
       " False,\n",
       " False,\n",
       " False,\n",
       " False,\n",
       " False,\n",
       " False,\n",
       " False,\n",
       " False,\n",
       " 0.0,\n",
       " False,\n",
       " False,\n",
       " False,\n",
       " False,\n",
       " False,\n",
       " False,\n",
       " False,\n",
       " False,\n",
       " False,\n",
       " False,\n",
       " False,\n",
       " False,\n",
       " False,\n",
       " False,\n",
       " False,\n",
       " False,\n",
       " 2.0,\n",
       " 2.0,\n",
       " False,\n",
       " False,\n",
       " False,\n",
       " False,\n",
       " False,\n",
       " False,\n",
       " False,\n",
       " False,\n",
       " False,\n",
       " False,\n",
       " False,\n",
       " False,\n",
       " False,\n",
       " False,\n",
       " False,\n",
       " False,\n",
       " False,\n",
       " False,\n",
       " False,\n",
       " False,\n",
       " False,\n",
       " False,\n",
       " False,\n",
       " False,\n",
       " False,\n",
       " False,\n",
       " 0.0,\n",
       " False,\n",
       " False,\n",
       " False,\n",
       " False,\n",
       " False,\n",
       " 0.0,\n",
       " False,\n",
       " 0.0,\n",
       " False,\n",
       " False,\n",
       " False,\n",
       " False,\n",
       " False,\n",
       " False,\n",
       " False,\n",
       " False,\n",
       " False]"
      ]
     },
     "execution_count": 529,
     "metadata": {},
     "output_type": "execute_result"
    }
   ],
   "source": [
    "pl_list37[0]"
   ]
  },
  {
   "cell_type": "code",
   "execution_count": 530,
   "metadata": {},
   "outputs": [],
   "source": [
    "df1=pd.DataFrame(data=pl_list37[0])"
   ]
  },
  {
   "cell_type": "code",
   "execution_count": 538,
   "metadata": {},
   "outputs": [],
   "source": [
    "df1.to_excel('feature.xls')"
   ]
  },
  {
   "cell_type": "code",
   "execution_count": 533,
   "metadata": {},
   "outputs": [],
   "source": [
    "pl_list38 = []\n",
    "\n",
    "for i in range(0, 210):\n",
    "    count = 0\n",
    "    p38 = []\n",
    "    for j in compar38:\n",
    "        if j:\n",
    "            p38.append(pl_list37[i][count])\n",
    "        else:\n",
    "            p38.append(False)\n",
    "            \n",
    "        count += 1\n",
    "            \n",
    "    pl_list38.append(p38)\n",
    "\n",
    "org_list38 = []\n",
    "\n",
    "for i in range(0, 5000):\n",
    "    count = 0\n",
    "    o38 = []\n",
    "    for j in compar38:\n",
    "        if j:\n",
    "            o38.append(org_list37[i][count]) \n",
    "        else:\n",
    "            o38.append(False)\n",
    "           \n",
    "        count += 1\n",
    "            \n",
    "    org_list38.append(o38)"
   ]
  },
  {
   "cell_type": "code",
   "execution_count": 536,
   "metadata": {},
   "outputs": [],
   "source": [
    "pl_num38 = np.asarray(pl_list38)\n",
    "org_num38 = np.asarray(org_list38)\n",
    "\n",
    "reg_param = 10\n",
    "pp39 = PlastPredictor(reg_param)\n",
    "pp39_model = pp39.fit_model(pl_num38, org_num38)\n",
    "org_acc39 = pp39.predict(org_num38, type='binary', class_id='neg')\n",
    "pl_acc39 = pp39.predict(pl_num38, type='binary', class_id='pos')\n",
    "\n",
    "z16 = pp39.clf.coef_\n",
    "\n",
    "compar39 = z16[0] != 0\n",
    "compar39 = compar39.tolist()"
   ]
  },
  {
   "cell_type": "code",
   "execution_count": 537,
   "metadata": {},
   "outputs": [
    {
     "data": {
      "text/plain": [
       "21"
      ]
     },
     "execution_count": 537,
     "metadata": {},
     "output_type": "execute_result"
    }
   ],
   "source": [
    "np.count_nonzero(z16)"
   ]
  },
  {
   "cell_type": "code",
   "execution_count": 540,
   "metadata": {},
   "outputs": [
    {
     "data": {
      "text/plain": [
       "False"
      ]
     },
     "execution_count": 540,
     "metadata": {},
     "output_type": "execute_result"
    }
   ],
   "source": [
    "pl_list38[0] == pl_list37"
   ]
  },
  {
   "cell_type": "code",
   "execution_count": 541,
   "metadata": {},
   "outputs": [],
   "source": [
    "df1['pl_list38'] = pl_list38[0]"
   ]
  },
  {
   "cell_type": "code",
   "execution_count": 546,
   "metadata": {},
   "outputs": [],
   "source": [
    "df1['org_list37'] = org_list37[0]"
   ]
  },
  {
   "cell_type": "markdown",
   "metadata": {},
   "source": [
    "this is where we save the stuff to an excel file."
   ]
  },
  {
   "cell_type": "code",
   "execution_count": 565,
   "metadata": {},
   "outputs": [],
   "source": [
    "df1.to_excel('feature.xls')"
   ]
  },
  {
   "cell_type": "code",
   "execution_count": null,
   "metadata": {},
   "outputs": [],
   "source": []
  }
 ],
 "metadata": {
  "kernelspec": {
   "display_name": "Python 3",
   "language": "python",
   "name": "python3"
  },
  "language_info": {
   "codemirror_mode": {
    "name": "ipython",
    "version": 3
   },
   "file_extension": ".py",
   "mimetype": "text/x-python",
   "name": "python",
   "nbconvert_exporter": "python",
   "pygments_lexer": "ipython3",
   "version": "3.7.7"
  }
 },
 "nbformat": 4,
 "nbformat_minor": 4
}
